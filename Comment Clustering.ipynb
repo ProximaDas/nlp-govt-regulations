{
 "cells": [
  {
   "cell_type": "code",
   "execution_count": 2,
   "metadata": {
    "collapsed": true
   },
   "outputs": [],
   "source": [
    "# Imports\n",
    "from pickle import dump, load\n",
    "import nltk\n",
    "from nltk import word_tokenize,FreqDist\n",
    "import re\n",
    "from nltk.corpus import wordnet as wn"
   ]
  },
  {
   "cell_type": "code",
   "execution_count": 3,
   "metadata": {
    "collapsed": false
   },
   "outputs": [
    {
     "data": {
      "text/plain": [
       "6"
      ]
     },
     "execution_count": 3,
     "metadata": {},
     "output_type": "execute_result"
    }
   ],
   "source": [
    "doc_list =load(open(\"data/Proxima_doc_content\",'rb'))\n",
    "len(doc_list)"
   ]
  },
  {
   "cell_type": "code",
   "execution_count": 4,
   "metadata": {
    "collapsed": false
   },
   "outputs": [
    {
     "data": {
      "text/plain": [
       "dict_keys(['comment_list', 'text'])"
      ]
     },
     "execution_count": 4,
     "metadata": {},
     "output_type": "execute_result"
    }
   ],
   "source": [
    "# Start working on one document and associated comments\n",
    "document = doc_list[0]\n",
    "document.keys()"
   ]
  },
  {
   "cell_type": "code",
   "execution_count": 6,
   "metadata": {
    "collapsed": false
   },
   "outputs": [],
   "source": [
    "# Convert bs4 ResultSet to a list of strings\n",
    "comments = []\n",
    "for c in document['comment_list']:\n",
    "    c = c.replace('\\n',' ')\n",
    "    comments.append(str(c))"
   ]
  },
  {
   "cell_type": "code",
   "execution_count": 8,
   "metadata": {
    "collapsed": false
   },
   "outputs": [
    {
     "data": {
      "text/plain": [
       "['    The idea of mountain biking in the CVNP  is very appealing. I visit the park to ski, hike, ride the towpath and train on the  hills that lead in and out of the park. So when I want to ride my mountain bike I have to go to the Cleveland Metroparks or other venues. The CNVP is a place to be active and enjoy the outdoors at the same time! From seeing the number of people that ride mountain bikes the visitation numbers would increase and bring in new people that have not been to the CNVP!',\n",
       " '     Alternative 5 proposes a limited off road, single-track bike trail of approximately 10 miles along the eastern rim of the Cuyahoga Valley National Park.   I think the CVNP should limit single-track bike trails within its federal boundaries to this east rim.  The plan suggests possible future off road bicycle development along the High Meadow/Buckeye trail area of the CVNP.   If the Cleveland Metroparks decides to put in a bike trail in the more remote southern section of the Brecksville Reservation I do not think the CVNP needs to extend that use through federal property.  My reasons are as follows: Existing off road trails in Bedford Reservation and in-process trails at Hampton Hills Metro Park now complement the CVNP\\'s Eastern Rim plan and extend off road bike trail connections at both ends of the park.      Development of off road trails in less used portions of the park does isolate them, but the fast pace, rough and probable heavy use alters the localized area.   According to the FINAL trail Management Plan and Environmental Impact Statement, minimal to moderate impact is expected by the single track trail.  Usage of these trails will depend on whether the trails are designed as \"easy\" or \"moderate\" and whether they provide significant thru-mileage by connecting to trails outside the CVNP; thus minimal impact may be hard to estimate and may be cumulative.  The western rim should be kept as it is--a quieter, more isolated area of the park, where one can experience this geologically interesting portion of the park without off-road biking trails.       It is easy for organized groups to express support.  This is a quote from the Cleveland Area Mountain Bike Association (http://camba.us/wp/archives/5430): CVNP is an urban park, whose main attraction is trails, MTB trails fit perfectly with CVNPs strong points.      It is hard to survey individuals who are not part of a group.  Is the CVNP\\'s main attraction really \"trails\"?  And should the park want to be characterized that way?  What is the desired experience for visitors from other states, for locals who walk or bike casually in the park, for suburban/urban families who visit on weekends?   How does the CVNP make itself different from a state park or a metropark or a national recreation area?  Perhaps this is the \"Big Picture\".       I would not vote for single-track off road usage in the CVNP, but the National Parks is under pressure to provide trails \"relevant to todays recreational trends\" (CAMBA reference above).  Limit them in the CVNP to the East Rim. ']"
      ]
     },
     "execution_count": 8,
     "metadata": {},
     "output_type": "execute_result"
    }
   ],
   "source": [
    "comments[:2]"
   ]
  },
  {
   "cell_type": "code",
   "execution_count": 9,
   "metadata": {
    "collapsed": true
   },
   "outputs": [],
   "source": [
    "# Modified from Brandon Rose:\n",
    "def tokenize_text(text):\n",
    "    tokens = [word.lower() for sent in nltk.sent_tokenize(text) for word in nltk.word_tokenize(sent)]\n",
    "    filtered_tokens = []\n",
    "    for token in tokens:\n",
    "        if re.search('[a-zA-Z]', token):\n",
    "            filtered_tokens.append(token)\n",
    "    return filtered_tokens\n",
    "\n",
    "def stem_text(text):\n",
    "    tokens = tokenize_text(text)\n",
    "    stems = [stemmer.stem(t) for t in tokens]\n",
    "    return stems"
   ]
  },
  {
   "cell_type": "code",
   "execution_count": 12,
   "metadata": {
    "collapsed": true
   },
   "outputs": [],
   "source": [
    "from nltk.stem.snowball import SnowballStemmer\n",
    "stemmer = SnowballStemmer('english')"
   ]
  },
  {
   "cell_type": "code",
   "execution_count": 13,
   "metadata": {
    "collapsed": true
   },
   "outputs": [],
   "source": [
    "from sklearn.feature_extraction.text import TfidfVectorizer\n",
    "\n",
    "tfidf_vec = TfidfVectorizer(tokenizer=stem_text,\n",
    "                            stop_words='english',\n",
    "                            ngram_range=(1,3),\n",
    "                            min_df=0.2, max_df=0.8,\n",
    "                            max_features=200000)"
   ]
  },
  {
   "cell_type": "code",
   "execution_count": 14,
   "metadata": {
    "collapsed": false
   },
   "outputs": [],
   "source": [
    "tfidf_matrix = tfidf_vec.fit_transform(comments)"
   ]
  },
  {
   "cell_type": "markdown",
   "metadata": {},
   "source": [
    "### K Means"
   ]
  },
  {
   "cell_type": "code",
   "execution_count": 15,
   "metadata": {
    "collapsed": true
   },
   "outputs": [],
   "source": [
    "from sklearn.cluster import KMeans\n",
    "\n",
    "num_clusters = 12\n",
    "km = KMeans(n_clusters=num_clusters)\n",
    "km.fit(tfidf_matrix)\n",
    "clusters = km.labels_.tolist()"
   ]
  },
  {
   "cell_type": "code",
   "execution_count": 18,
   "metadata": {
    "collapsed": false
   },
   "outputs": [],
   "source": [
    "import pandas as pd\n",
    "comment_clusters = {'comment': comments, 'cluster': clusters}\n",
    "comment_frame = pd.DataFrame(comment_clusters, index = [clusters] , columns = ['cluster', 'comment'])"
   ]
  },
  {
   "cell_type": "code",
   "execution_count": 19,
   "metadata": {
    "collapsed": false
   },
   "outputs": [
    {
     "data": {
      "text/plain": [
       "6     52\n",
       "4     30\n",
       "1     30\n",
       "2     29\n",
       "9     25\n",
       "5     24\n",
       "7     23\n",
       "10    20\n",
       "3     20\n",
       "8     19\n",
       "11    16\n",
       "0     16\n",
       "Name: cluster, dtype: int64"
      ]
     },
     "execution_count": 19,
     "metadata": {},
     "output_type": "execute_result"
    }
   ],
   "source": [
    "comment_frame['cluster'].value_counts()"
   ]
  },
  {
   "cell_type": "code",
   "execution_count": 25,
   "metadata": {
    "collapsed": true
   },
   "outputs": [],
   "source": [
    "# Modified from Brandon Rose and\n",
    "# http://scikit-learn.org/stable/auto_examples/applications/topics_extraction_with_nmf_lda.html\n",
    "def vocabulary_frame(text):\n",
    "    tokens = tokenize_text(text)\n",
    "    stems = stem_text(text)\n",
    "    return pd.DataFrame({'words': tokens}, index = stems).drop_duplicates()\n",
    "\n",
    "def extended_vocabulary_frame(texts):\n",
    "    frames = []\n",
    "    for t in texts:\n",
    "        vf = vocabulary_frame(t)\n",
    "        frames.append(vf)\n",
    "    extended = pd.concat(frames).drop_duplicates()\n",
    "    return extended\n",
    "\n",
    "def km_print_top_words(model, num_clusters, vocab_frame, feature_names, n_top_words):    \n",
    "    print(\"Top terms per cluster:\\n\")\n",
    "    order_centroids = model.cluster_centers_.argsort()[:, ::-1] \n",
    "    for i in range(num_clusters):\n",
    "        print(\"Cluster %d Words:\" % i, end=' ')\n",
    "        print(', '.join(vocab_frame.ix[feature_names[ind].split(' ')].values.tolist()[0][0]\n",
    "                        for ind in order_centroids[i, :n_top_words]))\n",
    "        print()"
   ]
  },
  {
   "cell_type": "code",
   "execution_count": 26,
   "metadata": {
    "collapsed": false
   },
   "outputs": [
    {
     "name": "stdout",
     "output_type": "stream",
     "text": [
      "Top terms per cluster:\n",
      "\n",
      "Cluster 0 Words: great, park, biking, people, use, natural\n",
      "\n",
      "Cluster 1 Words: cuyahoga, valley, cuyahoga, park, national, national\n",
      "\n",
      "Cluster 2 Words: area, biking, mountain, park, mountain, biking\n",
      "\n",
      "Cluster 3 Words: new, support, bicycle, park, area, enjoy\n",
      "\n",
      "Cluster 4 Words: ride, biking, mountain, mountain, cvnp, park\n",
      "\n",
      "Cluster 5 Words: cvnp, use, biking, mountain, allow, mountain\n",
      "\n",
      "Cluster 6 Words: mountain, mountain, mountain, biking, biking, park\n",
      "\n",
      "Cluster 7 Words: park, biking, mountain, mountain, national, national\n",
      "\n",
      "Cluster 8 Words: bikers, mountain, mountain, biking, mountain, park\n",
      "\n",
      "Cluster 9 Words: use, park, bicycle, natural, new, biking\n",
      "\n",
      "Cluster 10 Words: active, bicycle, national, national, park, communities\n",
      "\n",
      "Cluster 11 Words: biking, ohio, mountain, mountain, support, park\n",
      "\n"
     ]
    }
   ],
   "source": [
    "feature_names = tfidf_vec.get_feature_names()\n",
    "comment_vf = extended_vocabulary_frame(comments)\n",
    "km_print_top_words(km, num_clusters, comment_vf, feature_names, 6)"
   ]
  },
  {
   "cell_type": "markdown",
   "metadata": {},
   "source": [
    "### LDA"
   ]
  },
  {
   "cell_type": "code",
   "execution_count": 27,
   "metadata": {
    "collapsed": false
   },
   "outputs": [
    {
     "name": "stderr",
     "output_type": "stream",
     "text": [
      "/Users/ohmu/anaconda/lib/python3.5/site-packages/sklearn/decomposition/online_lda.py:508: DeprecationWarning: The default value for 'learning_method' will be changed from 'online' to 'batch' in the release 0.20. This warning was introduced in 0.18.\n",
      "  DeprecationWarning)\n"
     ]
    },
    {
     "data": {
      "text/plain": [
       "LatentDirichletAllocation(batch_size=128, doc_topic_prior=None,\n",
       "             evaluate_every=-1, learning_decay=0.7, learning_method=None,\n",
       "             learning_offset=10.0, max_doc_update_iter=100, max_iter=10,\n",
       "             mean_change_tol=0.001, n_jobs=1, n_topics=10, perp_tol=0.1,\n",
       "             random_state=None, topic_word_prior=None,\n",
       "             total_samples=1000000.0, verbose=0)"
      ]
     },
     "execution_count": 27,
     "metadata": {},
     "output_type": "execute_result"
    }
   ],
   "source": [
    "from sklearn.decomposition import LatentDirichletAllocation\n",
    "lda = LatentDirichletAllocation()\n",
    "lda.fit(tfidf_matrix)"
   ]
  },
  {
   "cell_type": "code",
   "execution_count": 28,
   "metadata": {
    "collapsed": true
   },
   "outputs": [],
   "source": [
    "# Modified from:\n",
    "# http://scikit-learn.org/stable/auto_examples/applications/topics_extraction_with_nmf_lda.html\n",
    "def lda_print_top_words(model, feature_names, n_top_words):\n",
    "    for topic_idx, topic in enumerate(model.components_):\n",
    "        print(\"Topic {}:\".format(topic_idx))\n",
    "        print(\", \".join([feature_names[i]\n",
    "                        for i in topic.argsort()[:-n_top_words - 1:-1]]))\n",
    "        print()"
   ]
  },
  {
   "cell_type": "code",
   "execution_count": 30,
   "metadata": {
    "collapsed": false
   },
   "outputs": [
    {
     "name": "stdout",
     "output_type": "stream",
     "text": [
      "Topic 0:\n",
      "activ, bicycl, biker, mountain biker, communiti, park, mountain, nation park, nation, maintain, great, natur, support, cuyahoga valley, cuyahoga, valley, mountain bike, allow, bike, new\n",
      "\n",
      "Topic 1:\n",
      "area, new, park, bike, ohio, support, communiti, nation, use, mountain bike, mountain, bike trail, bicycl, maintain, nation park, great, mountain bike trail, cuyahoga, activ, valley\n",
      "\n",
      "Topic 2:\n",
      "bike, ride, mountain bike, mountain, bike trail, mountain bike trail, cvnp, park, area, peopl, ohio, great, enjoy, valley, communiti, support, maintain, activ, natur, use\n",
      "\n",
      "Topic 3:\n",
      "park, cuyahoga, valley, nation, nation park, cuyahoga valley, bike, mountain bike, mountain, allow, area, bike trail, use, mountain bike trail, ohio, new, support, great, bicycl, enjoy\n",
      "\n",
      "Topic 4:\n",
      "mountain, bicycl, activ, natur, park, mountain bike, communiti, ride, bike, mountain biker, cvnp, new, mountain bike trail, bike trail, allow, use, biker, area, great, enjoy\n",
      "\n",
      "Topic 5:\n",
      "mountain, bike, cvnp, park, mountain bike, use, great, area, natur, peopl, bike trail, biker, mountain biker, mountain bike trail, enjoy, bicycl, allow, ride, support, new\n",
      "\n",
      "Topic 6:\n",
      "support, bike, cvnp, mountain bike, mountain, enjoy, bike trail, use, park, biker, nation, mountain biker, area, activ, allow, ohio, mountain bike trail, maintain, nation park, bicycl\n",
      "\n",
      "Topic 7:\n",
      "communiti, allow, park, mountain, mountain bike, bike, cvnp, area, nation, nation park, mountain bike trail, great, enjoy, activ, maintain, biker, use, bike trail, support, cuyahoga\n",
      "\n",
      "Topic 8:\n",
      "maintain, bicycl, use, natur, cvnp, support, bike, ride, new, park, enjoy, mountain bike, mountain, area, bike trail, peopl, mountain bike trail, communiti, nation, activ\n",
      "\n",
      "Topic 9:\n",
      "bicycl, nation, support, park, cuyahoga, valley, cuyahoga valley, nation park, communiti, natur, use, mountain bike, bike, activ, ohio, mountain, peopl, bike trail, ride, great\n",
      "\n"
     ]
    }
   ],
   "source": [
    "lda_print_top_words(lda, feature_names, 20)"
   ]
  }
 ],
 "metadata": {
  "anaconda-cloud": {},
  "kernelspec": {
   "display_name": "Python [conda root]",
   "language": "python",
   "name": "conda-root-py"
  },
  "language_info": {
   "codemirror_mode": {
    "name": "ipython",
    "version": 3
   },
   "file_extension": ".py",
   "mimetype": "text/x-python",
   "name": "python",
   "nbconvert_exporter": "python",
   "pygments_lexer": "ipython3",
   "version": "3.5.2"
  }
 },
 "nbformat": 4,
 "nbformat_minor": 1
}
