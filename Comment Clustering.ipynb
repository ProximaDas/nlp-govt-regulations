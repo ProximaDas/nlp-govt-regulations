{
 "cells": [
  {
   "cell_type": "code",
   "execution_count": 1,
   "metadata": {
    "collapsed": true
   },
   "outputs": [],
   "source": [
    "# Imports\n",
    "from pickle import dump, load\n",
    "import nltk\n",
    "from nltk import word_tokenize,FreqDist\n",
    "import re\n",
    "from nltk.corpus import wordnet as wn"
   ]
  },
  {
   "cell_type": "code",
   "execution_count": 2,
   "metadata": {
    "collapsed": false
   },
   "outputs": [
    {
     "data": {
      "text/plain": [
       "7"
      ]
     },
     "execution_count": 2,
     "metadata": {},
     "output_type": "execute_result"
    }
   ],
   "source": [
    "doc_list =load(open(\"data/Jason_doc_content\",'rb'))\n",
    "len(doc_list)"
   ]
  },
  {
   "cell_type": "code",
   "execution_count": 3,
   "metadata": {
    "collapsed": false
   },
   "outputs": [
    {
     "data": {
      "text/plain": [
       "dict_keys(['text', 'comment_list'])"
      ]
     },
     "execution_count": 3,
     "metadata": {},
     "output_type": "execute_result"
    }
   ],
   "source": [
    "# Start working on one document and associated comments\n",
    "document = doc_list[0]\n",
    "document.keys()"
   ]
  },
  {
   "cell_type": "code",
   "execution_count": 4,
   "metadata": {
    "collapsed": false
   },
   "outputs": [],
   "source": [
    "# Convert bs4 ResultSet to a list of strings\n",
    "comments = []\n",
    "for c in document['comment_list']:\n",
    "    c = c.replace('\\n',' ')\n",
    "    comments.append(str(c))"
   ]
  },
  {
   "cell_type": "code",
   "execution_count": 5,
   "metadata": {
    "collapsed": false
   },
   "outputs": [
    {
     "data": {
      "text/plain": [
       "420"
      ]
     },
     "execution_count": 5,
     "metadata": {},
     "output_type": "execute_result"
    }
   ],
   "source": [
    "len(comments)"
   ]
  },
  {
   "cell_type": "code",
   "execution_count": 6,
   "metadata": {
    "collapsed": true
   },
   "outputs": [],
   "source": [
    "# Modified from Brandon Rose:\n",
    "def tokenize_text(text):\n",
    "    tokens = [word.lower() for sent in nltk.sent_tokenize(text) for word in nltk.word_tokenize(sent)]\n",
    "    filtered_tokens = []\n",
    "    for token in tokens:\n",
    "        if re.search('[a-zA-Z]', token):\n",
    "            filtered_tokens.append(token)\n",
    "    return filtered_tokens\n",
    "\n",
    "def stem_text(text):\n",
    "    tokens = tokenize_text(text)\n",
    "    stems = [stemmer.stem(t) for t in tokens]\n",
    "    return stems"
   ]
  },
  {
   "cell_type": "code",
   "execution_count": 7,
   "metadata": {
    "collapsed": true
   },
   "outputs": [],
   "source": [
    "from nltk.stem.snowball import SnowballStemmer\n",
    "stemmer = SnowballStemmer('english')"
   ]
  },
  {
   "cell_type": "code",
   "execution_count": 8,
   "metadata": {
    "collapsed": true
   },
   "outputs": [],
   "source": [
    "from sklearn.feature_extraction.text import TfidfVectorizer\n",
    "\n",
    "tfidf_vec = TfidfVectorizer(tokenizer=stem_text,\n",
    "                            stop_words='english',\n",
    "                            ngram_range=(1,3),\n",
    "                            min_df=0.2, max_df=0.8,\n",
    "                            max_features=200000)"
   ]
  },
  {
   "cell_type": "code",
   "execution_count": 9,
   "metadata": {
    "collapsed": false
   },
   "outputs": [],
   "source": [
    "tfidf_matrix = tfidf_vec.fit_transform(comments)"
   ]
  },
  {
   "cell_type": "markdown",
   "metadata": {},
   "source": [
    "### PCA PCA PCA"
   ]
  },
  {
   "cell_type": "code",
   "execution_count": null,
   "metadata": {
    "collapsed": true
   },
   "outputs": [],
   "source": [
    "#implement PCA here"
   ]
  },
  {
   "cell_type": "markdown",
   "metadata": {},
   "source": [
    "### K Means"
   ]
  },
  {
   "cell_type": "code",
   "execution_count": 10,
   "metadata": {
    "collapsed": true
   },
   "outputs": [],
   "source": [
    "from sklearn.cluster import KMeans\n",
    "\n",
    "num_clusters = 12\n",
    "km = KMeans(n_clusters=num_clusters)\n",
    "km.fit(tfidf_matrix)\n",
    "clusters = km.labels_.tolist()"
   ]
  },
  {
   "cell_type": "code",
   "execution_count": 59,
   "metadata": {
    "collapsed": true
   },
   "outputs": [],
   "source": [
    "from sklearn.metrics.pairwise import paired_distances\n",
    "\n",
    "cluster_center_list = []\n",
    "for c in clusters:\n",
    "    cluster_center_list.append(km.cluster_centers_[c])\n",
    "\n",
    "center_distances = paired_distances(tfidf_matrix, cluster_center_list)"
   ]
  },
  {
   "cell_type": "code",
   "execution_count": 82,
   "metadata": {
    "collapsed": false
   },
   "outputs": [],
   "source": [
    "import pandas as pd\n",
    "comment_clusters = {'comment': comments, 'cluster': clusters, 'dist': center_distances}\n",
    "comment_frame = pd.DataFrame(comment_clusters, index = [clusters] , columns = ['comment', 'cluster', 'dist'])"
   ]
  },
  {
   "cell_type": "code",
   "execution_count": 83,
   "metadata": {
    "collapsed": false
   },
   "outputs": [
    {
     "data": {
      "text/plain": [
       "2     71\n",
       "1     66\n",
       "7     55\n",
       "6     45\n",
       "4     41\n",
       "3     28\n",
       "10    26\n",
       "9     25\n",
       "5     21\n",
       "0     18\n",
       "11    14\n",
       "8     10\n",
       "Name: cluster, dtype: int64"
      ]
     },
     "execution_count": 83,
     "metadata": {},
     "output_type": "execute_result"
    }
   ],
   "source": [
    "comment_frame['cluster'].value_counts()"
   ]
  },
  {
   "cell_type": "code",
   "execution_count": 99,
   "metadata": {
    "collapsed": false
   },
   "outputs": [
    {
     "name": "stdout",
     "output_type": "stream",
     "text": [
      "comment    tRECLAM.ATIONManaging Water in the WestComment...\n",
      "cluster                                                    3\n",
      "dist                                                0.900449\n",
      "dtype: object\n",
      "comment    'RECLAMATIONManaging Water in the WestRevised ...\n",
      "cluster                                                    3\n",
      "dist                                               0.0864882\n",
      "dtype: object\n",
      "\n",
      "                                             comment  cluster      dist\n",
      "3  Hello:  Please include the attached comments f...        3  0.900449\n",
      "3  .ATIONManaging Water in the West.9nüèntSheetRe...        3  0.086488\n",
      "3  RECLAMATIONManaging Water in the West.Jiiiiii1...        3  0.096412\n",
      "3  -RECLAMATIONManaging Water in the WestRevised ...        3  0.352354\n",
      "3  'RECLAMATIONManaging Water in the WestRevised ...        3  0.245822\n",
      "3  C omr.çht S1amiRevised Proposed Rule on the us...        3  0.253019\n",
      "3  RECLAMATIONManaging Water in the WestComment S...        3  0.086488\n",
      "3  RECLAMATIONMan aging Wa ter in the WestComment...        3  0.096412\n",
      "3  (_______________________________Revised Propos...        3  0.096412\n",
      "3  REC LAM ATIONManaging Water in the WestICpmmer...        3  0.096412\n",
      "3  Comment Sheet-1Revised Proposed Rule on the us...        3  0.163199\n",
      "3  Revised Proposed Rule on the use of Reclamatio...        3  0.210182\n",
      "3  RECLAMATIONManaging Water in the WestRevised P...        3  0.367715\n",
      "3  4RECLAMATIONManaging Water in the WestComment ...        3  0.163199\n",
      "3  CommentSheetRevised Proposed Rule on the use o...        3  0.269488\n",
      "3  Revised Proposed Rule on the use of Reclamatio...        3  0.574245\n",
      "3  RECLAMTIONManaging Water in the WestComment Sh...        3  0.096412\n",
      "3  Revised Proposed Rule on the use of Reclamatio...        3  0.096412\n",
      "3  RECLAMATIONManaging Water in the WestIICotnmèn...        3  0.288690\n",
      "3  RFXLAMATJONManaging Water in the WestI.Cômment...        3  0.281165\n",
      "3  RECLAMATIONManaging Water in the WestRevised P...        3  0.096412\n",
      "3  RECLAMATIONManaging Water in the WestRevised P...        3  0.086488\n",
      "3  Qh 4:,,,...ommenee-Revised Proposed Rule on th...        3  0.086488\n",
      "3  REC1AJ\\ ATIONManaging Water in the WestRevised...        3  0.086488\n",
      "3  Revised Proposed Rule on the use of Reclamatio...        3  0.157647\n",
      "3  RECLAMATIONManaging Water in the West---::ICom...        3  0.086488\n",
      "3  tRECLAM.ATIONManaging Water in the WestComment...        3  0.096412\n",
      "3  To:Bureau of ReclamationRichard Rizzi; Mail Co...        3  0.615045\n"
     ]
    }
   ],
   "source": [
    "print(comment_frame[comment_frame.cluster==3].max())\n",
    "print(comment_frame[comment_frame.cluster==3].min())\n",
    "print()\n",
    "print(comment_frame[comment_frame.cluster==3])"
   ]
  },
  {
   "cell_type": "code",
   "execution_count": 84,
   "metadata": {
    "collapsed": false
   },
   "outputs": [
    {
     "name": "stdout",
     "output_type": "stream",
     "text": [
      "Most Central Comments by Cluster\n",
      "\n",
      "Cluster 0\n",
      "\n",
      "10 September 2008Denver Federal CenterP. 0. Box25007Denver, CO 80225-0007ôeooODear Sirs:Your idea or ruling out being able to transfer a dock permit is very unfair.We have had adock permit ever since there was one required. Our property is on the lake and we willnot be able to sell itforas much if we can't transfer the permit.We are getting old andneed to sell our property soon. Location has always been the important thing in buyingproperty and all of a sudden you are saying that is not allowable. If you are buyingproperty you would certainly buy where the location is the best and expect to pay morefor it.Especially on a lake is this so.Sincerely,#-Y7i)/Arthur and Lynn Norton178 N Adams PlaceNampa, ID83651\n",
      "\n",
      "Cluster 1\n",
      "\n",
      "Multiple ˜les are bound together in this PDF Package. Adobe recommends using Adobe Reader or Adobe Acrobat version 8 or later to work with  documents contained within a PDF Package. By updating to the latest version, you™ll enjoy  the following bene˜ts:   Ł  E˚cient, integrated PDF viewing  Ł  Easy printing  Ł  Quick searches  Don™t have the latest version of Adobe Reader?   Click here to download the latest version of Adobe Reade rIf you already have Adobe Reader 8,  click a ˜le in this PDF Package to view it. \n",
      "\n",
      "Cluster 2\n",
      "\n",
      "\n",
      "\n",
      "Cluster 3\n",
      "\n",
      "'RECLAMATIONManaging Water in the WestRevised Proposed Rule on the use of Reclamation Land, Facilities,and Waterbodies (43 CFR Part 429)August 21, 2008Phone()L/7594/FAX( )E-mail(2Before including your address, phone number, e-mail address, or other personal identifying information insoui comment be ads ised that 'tour entire comment including sour personal identif'ing informationmabe made publicly available at any time. While you can ask us in your comment to withhold from publicreview your personal identifying information, we cannot guarantee that we will be able to do so,e revised proposed rule can be viewed at http://edocket.access.gpo.gov/2008/pdf/E8-16496.ji,\n",
      "\n",
      "Cluster 4\n",
      "\n",
      "1006-AA51 (429.28 a4 - Use it or Lose it)  If a permit fee is paid current, the BoR should not regulate whether or not the  permit is utilized.  Many circumstances occur preventing the use of a boat dock at  Cascade Lake during a two-year period.  What method would verify utilization of a  permit?   This appears to be another way for the BoR to eliminate boat docks  since new dock permits will not be issued to replace those that are revoked. \n",
      "\n",
      "Cluster 5\n",
      "\n",
      "1006-AA51 (429.31 b1i - Landscaping)  Landscaping the small amount of BoR land in front of cabins should be allowed.   The landscaping that has been done so far not only improves appearance of the  eroded shoreline, but is also protecting private land from washing into the lake.  In  many places public land is disappearing under the water at a very high rate.   Clearly the existence of private homes built near the shoreline is the main factor  suggesting private land.  Most of the public understands the beaches belong to  the public. \n",
      "\n",
      "Cluster 6\n",
      "\n",
      "10250 Whispering Cliffs Dr.Boise, Id 83704September 5, 2008Mr. Richard RizziBureau of ReclamationDenver Federal CenterP.O. Box 25007Denver, Co. 80225-0007Ref:1006-AAS1Dear Mr. Rizzi,My family has been a property holder at Cascade Lake since the 60s and Iam writing in regard to your proposed policy changes there.Ihave major concerns with 429.28 (a4) on two points and I feel the two yearrequirement should be deleted. If people have valid current permits, they shouldbe able to decide when to make use of their docks. There are people who haven'tbuilt their homes yet and it is unreasonable to insist they have their docks in now.Some may not be able to afford the high cost of dock replacement that quickly intoday's economy. In all cases, permit holders should be contacted if there is aproblem and given adequate time to resolve issues.If a time period remains stated in your policy, the time must start when thepolicy becomes effective not retroactively as that would put some holders inautomatic default with no prior notice or time to remedy their situation. This isimportant.Ido appreciate the information meeting held recently in Boise. You didanswer a lot of questions and you were very open to speaking with everyone.Your truly,Mary Ballantyne10250 Whispering Cliffs Dr.Boise, Id 83704September 5, 2008Mr. Richard RizziBureau of ReclamationDenver Federal CenterP.O. Box 25007Denver, Co. 80225-0007Ref: 1006-AAS1Dear Mr. Rizzi,My family has had property at Cascade Lake since the 60s and I have someconcerns about the proposed changes in your policies that would affect that area.It does not seem right that dock use could be unilaterally tenninatedwithout public notice or comment with those affected. If there is a problem in aspecificarea, the parties involved need to be notified and given a chance toremedy the situation in a reasonable length of time. (429.28 (3,4)Ninety days is not long enough time to fix a dock problem. There are manymonths there when weather conditions do not allow dock work and there are notmany choices of dock work providers. It took us closer to a year a couple of yearsago when we replaced our dock. Docks have become very expensive and manypeople cannot afford to come up with the funds in ninety days especially intoday's economy. More time needs to be added to this provision and the local BORoffice needs to have more discretion in dealing with valid permit holders.(429.32b)Your truly,Mary Ballantyne\n",
      "\n",
      "Cluster 7\n",
      "\n",
      "    September 16, 2008   By Electronic Submission   Mr. Richard Rizzi Bureau of Reclamation Mail Code:   84-5300 Denver Federal Center P.O. Box 25007 Denver, CO 80225-0007  Re: Revised Proposed Rule on Use of Bureau of Reclamation Land, Facilities, and Waterbodies Œ Docket # 1006-AA51 / BOR-2008-0004   Dear Mr. Rizzi:       The National Marine Manufacturers Association (NMMA) is writing to comment on the Bureau of Reclamation™s revised notice of proposed rulemaking (NPRM) to govern the use of Bureau land, facilities and waterbodies.  73 Fed. Reg. 42,236 (July 18, 2008).  This revised proposal adds needed clarity from the first NPRM announced in 2007.  72 Fed. Reg. 39,530 (July 18, 2007).  Previously, NMMA expressed our very strong concern that the first Bureau of Reclamation proposed rule would result in the closing of boating and fishing access on Bureau waterbodies as an unnecessary solution to user conflict issues. Preventing access in this manner will have real impacts on local communities including impacting the local economies of communities near Reclamation waterbodies.  Recreational boaters, marina, boat retailer, and related service providers such as grocery stores, gas stations and restaurants will all suffer dramatically from the restriction of access.  NMMA urges Reclamation to seek new ways to improve the public and public/private uses of Reclamation resources rather than focusing on limiting uses to address a few problem circumstances.   NMMA offers these additional specific comments to the revised proposed rule:   Current private uses of Bureau of Reclamation property should be allowed to continue.   Under the original proposal, Reclamation stated that it was its policy that all currently approved private recreational uses of Reclamation land, facilities and waterbodies would not be renewed when expired unless granted a waiver in some undefined circumstances.  These uses include boat houses, docks, moorings and launch ramps, as well as floating structures such as moored vessels.  This new proposal now allows for current uses to be renewed for 20 year terms and provides criteria for approval.  NMMA supports this change.  Current private uses of Bureau Bureau of Reclamation September 16, 2008 Page 2 of 3   of Reclamation property should be allowed to continue.  NMMA also supports the addition of a clear process and criteria to guide users and the Bureau in granting renewals of existing uses.  NMMA urges Reclamation to add additional language to the rule that would provide it with the ability to grant extensions beyond the 90 days proposed to allow for users to make any necessary corrections for continuing an existing recreational or residential use.  See proposed 43 C.F.R. § 429.32(b) & (f).  These corrections would allow for flexibility in the event of a natural disaster, weather related delay or other extenuating circumstance that would delay a user in making any necessary changes to their improvements.    Reclamation should allow for the conversion of improvements or structures from private to public use.  NMMA strongly recommends that Reclamation not mandate the removal of any improvements in all cases where a use is no longer approved or abandoned.  Reclamation and users should not have to tear down and remove structures and improvements within 90 days of a non-renewal of a use-authorization.1  Rather, Reclamation should have the mandate and flexibility to notify local community organizations to provide them with the option of taking over an existing improvement such as a boat ramp and maintain the use subject to a new use permit that would ensure the public use of such improvements (for example in the form of open membership organization or club that charges fees to pay for the use and upkeep of a boat dock or ramp).  Such a change will meet the goal of providing for public use of Reclamation lands and waters while avoiding the waste of the removal of improvements that could be managed in an appropriate manner.     Reclamation should seek to increase public use to counter diminished private uses.     As in the previous proposed rule, this revised proposal continues to prohibit new private exclusive recreation or residential use of Bureau waterbodies, including boat houses, docks, moorings and launch ramps, as well as floating structures such as moored vessels.  In effect, this rule reflects a gradual shift away from private use of Reclamation resources to public access (via approved concessionaires).  This policy shift will have the affect of diminishing public use and access of Reclamation resources if it is not coupled with an increase in public use opportunities.  Such public use would need to be supported by a policy of aggressively seeking partners and concessionaires to manage Reclamation waterbodies.  The take over of an existing private use by an organization that would provide public access (in the form of an open membership organization whose fees pay for the upkeep of the improvements) should be encouraged by Reclamation and not be considered a prohibited new use.   * * *                                                  1 Proposed 43 C.F.R. 429.32(f)(requiring that upon non-renewal the grantee will return the property as near as possible to its original undisturbed condition or have it removed by Reclamation within 90 days of the non-renewal).   Bureau of Reclamation September 16, 2008 Page 3 of 3  NMMA is the leading national recreational marine trade association, with nearly 1,700 members involved in every aspect of the boating industry.  NMMA members manufacture over 80 percent of recreational boats, engines, trailers, accessories and gear used by boaters and anglers in the United States.  Recreational boating is a major consumer goods industry that generated $37.5 billion in sales and services during 2007.  The total economic value of recreational boating to our nation is much greater with a total direct impact value of $107.1 billion.  Boating is a popular pastime with 59.1 million adults participating in recreational boating annually.     NMMA appreciates the opportunity to provide these comments.  For additional information please contact Dylan Jones, NMMA™s Water Access Counsel, (202-737-9776; djones@nmma.org) or myself (202-737-9766; csquires@nmma.org).   Respectfully submitted,   Cindy L. Squires, Esq. Chief Counsel for Public Affairs and Director of Regulatory Affairs    \n",
      "\n",
      "Cluster 8\n",
      "\n",
      "1006-AA51\n",
      "\n",
      "Cluster 9\n",
      "\n",
      "09-12-08Dear MT. Rizzo,Our dock in Lake Cascade Idaho while not public serves over a dozen families.Eliminating its use will compromise our enjoyment of the lake tremendously. While Iapplaud most of the restrictions in place I feel a better use of pennit enforcement wouldbe to target illegal encroachment on BoR land boundaries and to eliminate illegalmoorings and other non-permitted improvements.Lake Cascade is nowhere close to being crowded and I'm sure you have plenty ofstatistical information to rely on. I personally have sat on the dock on a holiday weekendand observed only a hand full of boats on the lake at any given time.Rather than eliminating family docks I suggest that a better use of taxpayer funding andwould be to improve water quality by allowing the water levels to remain higher forlonger in each summer season.Sincerely,pJohn and Valerie EmeryMeridian ID\n",
      "\n",
      "Cluster 10\n",
      "\n",
      "  I am reply on the proposed rule changes in association with 1006-AA51. This  deals with use of BOR Lands, Facilities and Waterbodies. I disagree with teh  BOR's proposed rule changes. Especially with regards to existing docks and  landscaping on Cascade lake. These rule changes are too prohibitive and in some  cases punitive to the land owners along the waterfronts.\n",
      "\n",
      "Cluster 11\n",
      "\n",
      "'Fred Ginther216 17 LN SWFairfield MT 594364064672172E-mail: ferocker@3rivers.net9/10108Dear Mr. Richard Rizzi,As a Greenfields Irrigation District grazing lease holder, I want you to scrap theproposed rule change to 43 CFR, Part 429 of the Federal Register and leave theadministration of the Reclamation grazing lands presently administered by theDistrict under present administration protocols. The present system ofadministering those lands works, leave it as is.Sincerely,FredE. Ginther\n",
      "\n"
     ]
    }
   ],
   "source": [
    "print('Most Central Comments by Cluster\\n')\n",
    "for i in range(num_clusters):\n",
    "    print('Cluster {}\\n'.format(i))\n",
    "    print(comment_frame[comment_frame.cluster==i].min().comment)\n",
    "    print()"
   ]
  },
  {
   "cell_type": "code",
   "execution_count": null,
   "metadata": {
    "collapsed": true
   },
   "outputs": [],
   "source": [
    "# Modified from Brandon Rose and\n",
    "# http://scikit-learn.org/stable/auto_examples/applications/topics_extraction_with_nmf_lda.html\n",
    "def vocabulary_frame(text):\n",
    "    tokens = tokenize_text(text)\n",
    "    stems = stem_text(text)\n",
    "    return pd.DataFrame({'words': tokens}, index = stems).drop_duplicates()\n",
    "\n",
    "def extended_vocabulary_frame(texts):\n",
    "    frames = []\n",
    "    for t in texts:\n",
    "        vf = vocabulary_frame(t)\n",
    "        frames.append(vf)\n",
    "    extended = pd.concat(frames).drop_duplicates()\n",
    "    return extended\n",
    "\n",
    "def km_print_top_words(model, num_clusters, vocab_frame, feature_names, n_top_words):    \n",
    "    print(\"Top terms per cluster:\\n\")\n",
    "    order_centroids = model.cluster_centers_.argsort()[:, ::-1] \n",
    "    for i in range(num_clusters):\n",
    "        print(\"Cluster %d Words:\" % i, end=' ')\n",
    "        print(', '.join(vocab_frame.ix[feature_names[ind].split(' ')].values.tolist()[0][0]\n",
    "                        for ind in order_centroids[i, :n_top_words]))\n",
    "        print()"
   ]
  },
  {
   "cell_type": "code",
   "execution_count": null,
   "metadata": {
    "collapsed": false
   },
   "outputs": [],
   "source": [
    "feature_names = tfidf_vec.get_feature_names()\n",
    "comment_vf = extended_vocabulary_frame(comments)\n",
    "km_print_top_words(km, num_clusters, comment_vf, feature_names, 6)"
   ]
  },
  {
   "cell_type": "markdown",
   "metadata": {},
   "source": [
    "### LDA"
   ]
  },
  {
   "cell_type": "code",
   "execution_count": null,
   "metadata": {
    "collapsed": false
   },
   "outputs": [],
   "source": [
    "from sklearn.decomposition import LatentDirichletAllocation\n",
    "lda = LatentDirichletAllocation()\n",
    "lda.fit(tfidf_matrix)"
   ]
  },
  {
   "cell_type": "code",
   "execution_count": null,
   "metadata": {
    "collapsed": true
   },
   "outputs": [],
   "source": [
    "# Modified from:\n",
    "# http://scikit-learn.org/stable/auto_examples/applications/topics_extraction_with_nmf_lda.html\n",
    "def lda_print_top_words(model, feature_names, n_top_words):\n",
    "    for topic_idx, topic in enumerate(model.components_):\n",
    "        print(\"Topic {}:\".format(topic_idx))\n",
    "        print(\", \".join([feature_names[i]\n",
    "                        for i in topic.argsort()[:-n_top_words - 1:-1]]))\n",
    "        print()"
   ]
  },
  {
   "cell_type": "code",
   "execution_count": null,
   "metadata": {
    "collapsed": false
   },
   "outputs": [],
   "source": [
    "lda_print_top_words(lda, feature_names, 20)"
   ]
  }
 ],
 "metadata": {
  "anaconda-cloud": {},
  "kernelspec": {
   "display_name": "Python [conda root]",
   "language": "python",
   "name": "conda-root-py"
  },
  "language_info": {
   "codemirror_mode": {
    "name": "ipython",
    "version": 3
   },
   "file_extension": ".py",
   "mimetype": "text/x-python",
   "name": "python",
   "nbconvert_exporter": "python",
   "pygments_lexer": "ipython3",
   "version": "3.5.2"
  }
 },
 "nbformat": 4,
 "nbformat_minor": 1
}
