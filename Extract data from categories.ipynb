{
 "cells": [
  {
   "cell_type": "markdown",
   "metadata": {},
   "source": [
    "### This code extracts documents and related comments from documents in different categories. There are 10 categories in regulation.gov"
   ]
  },
  {
   "cell_type": "code",
   "execution_count": 1,
   "metadata": {
    "collapsed": false
   },
   "outputs": [],
   "source": [
    "from pickle import dump, load\n",
    "import pandas\n",
    "import requests\n",
    "import urllib.request\n",
    "from bs4 import BeautifulSoup\n",
    "import PyPDF2\n",
    "api_key = 'vT4R3vZ8RpZhnCpgeCPx1LdWRSZS8yxHHGquPrxm'"
   ]
  },
  {
   "cell_type": "code",
   "execution_count": 4,
   "metadata": {
    "collapsed": false
   },
   "outputs": [],
   "source": [
    "# def read_file_get_docid(filepath):\n",
    "#     dump_df = load(open(filepath,'rb'))\n",
    "#     df_with_comments = dump_df[dump_df.numberOfCommentsReceived > 0]\n",
    "#     df_with_comments =df_with_comments.sort(['numberOfCommentsReceived'], ascending=[False])\n",
    "#     doc_id = df_with_comments.documentId\n",
    "#     doc_type = df_with_comments.documentType\n",
    "#     #return [doc_id,set(doc_type)]\n",
    "#     return df_with_comments"
   ]
  },
  {
   "cell_type": "code",
   "execution_count": 16,
   "metadata": {
    "collapsed": false
   },
   "outputs": [
    {
     "name": "stdout",
     "output_type": "stream",
     "text": [
      "{'Proposed Rule', 'Rule', 'Other', 'Notice'}\n"
     ]
    },
    {
     "name": "stderr",
     "output_type": "stream",
     "text": [
      "/Users/kinshuk/anaconda/lib/python3.5/site-packages/ipykernel/__main__.py:4: FutureWarning: sort(columns=....) is deprecated, use sort_values(by=.....)\n"
     ]
    },
    {
     "data": {
      "text/plain": [
       "4421"
      ]
     },
     "execution_count": 16,
     "metadata": {},
     "output_type": "execute_result"
    }
   ],
   "source": [
    "# [doc_id_list,types] = read_file_get_docid('data/AD_doc_list') #choose the category dump file\n",
    "# print(types)\n",
    "# # document ID with 4 parts represent documents. 3 parts represent dockets \n",
    "# doc_ids = [doc_id for doc_id in doc_id_list if len(doc_id.split('-')) == 4]\n",
    "# len(doc_ids)"
   ]
  },
  {
   "cell_type": "markdown",
   "metadata": {},
   "source": [
    "### Using regulations.gov API\n",
    "* We need to use the API to retrieve each document content. This API will use document_id that we extracted from the file above.\n",
    "* For each document_id, we will need to construct comment_id based on the total number of comments on it."
   ]
  },
  {
   "cell_type": "code",
   "execution_count": 5,
   "metadata": {
    "collapsed": false
   },
   "outputs": [],
   "source": [
    "def download_file(download_url):\n",
    "    try:\n",
    "        response = urllib.request.urlopen(download_url)\n",
    "        file = open(\"document.pdf\", 'wb')\n",
    "        file.write(response.read())\n",
    "        file.close()\n",
    "    except:\n",
    "        print(\"(downloading the pdf exception)error log\" +  download_url)\n",
    "    \n",
    "def get_attached_comments(comment_id, key=api_key):\n",
    "    #print(each_id) # fro debugging\n",
    "    #open the api to get file url\n",
    "    url = \"http://api.data.gov:80/regulations/v3/document.json?api_key=\"+key+\"&documentId=\"+comment_id\n",
    "    try:\n",
    "        response = requests.get(url)\n",
    "    except:\n",
    "        print(\"(api opening of attached comment exception)error log\" +  url)\n",
    "    if response.status_code != 200:\n",
    "        print(\"status code \" +str(response.status_code)+\" (get_attached_comments) program will break at this point which is ok because we dont need inconsistent data. Run again \")\n",
    "    data = response.json()\n",
    "    if \"fileFormats\" in data[\"attachments\"][0]:\n",
    "        att_count = len(data[\"attachments\"][0][\"fileFormats\"])\n",
    "    else:\n",
    "        att_count = len(data[\"attachments\"][1][\"fileFormats\"])\n",
    "    comment_text =\"\"\n",
    "    for i in range(att_count):\n",
    "        if data[\"attachments\"][0][\"fileFormats\"][i].endswith(\"pdf\"):\n",
    "            link = data[\"attachments\"][0][\"fileFormats\"][i] \n",
    "            access_link = link+'&api_key='+key\n",
    "            #download file(pdf) and read pdf (page by page)\n",
    "            download_file(access_link)\n",
    "            pdfFileObj = open('document.pdf','rb')     #'rb' for read binary mode\n",
    "            try:\n",
    "                pdfReader = PyPDF2.PdfFileReader(pdfFileObj)\n",
    "                pno = pdfReader.numPages\n",
    "                for i in range(pno):\n",
    "                    pageObj = pdfReader.getPage(i)          #'i' is the page number\n",
    "                    comment_text += pageObj.extractText()\n",
    "            except:\n",
    "                print(\"(pdf exception)cant read \"+comment_id ) # prints in case we are not able to read file\n",
    "            break # execute the whole thing for 1st found pdf\n",
    "    return comment_text"
   ]
  },
  {
   "cell_type": "code",
   "execution_count": 6,
   "metadata": {
    "collapsed": false
   },
   "outputs": [],
   "source": [
    "def get_document_comments_from_api(docketId,key=api_key):\n",
    "    offset=0\n",
    "    url = \"http://api.data.gov:80/regulations/v3/documents.json?api_key=\"+key+\"&countsOnly=1&dct=PS&dktid=\"+docketId\n",
    "    try:\n",
    "        response = requests.get(url)\n",
    "    except:\n",
    "        print(\"(api opening comment count)error log\"+url) # prints in case we are not able to read file\n",
    "    if response.status_code != 200:\n",
    "        print(\"status code\"+str(response.status_code) + \" (get_document_comments_from_api) program will break at this point which is ok because we dont need inconsistent data. Run again\")\n",
    "    data = response.json()\n",
    "    total = data['totalNumRecords']\n",
    "    com_list =[]\n",
    "    for i in range(0,total,1000):\n",
    "        url = \"http://api.data.gov:80/regulations/v3/documents.json?api_key=\"+key+\"&countsOnly=0&&rpp=1000&po=\"+str(i)+\"&dct=PS&dktid=\"+docketId\n",
    "        try:\n",
    "            response = requests.get(url)\n",
    "        except:\n",
    "            print(\"(api opening actual comments)error log\"+url) # prints in case we are not able to read file\n",
    "        #print(\"Offset:\"+str(i)+\" Code:\"+str(response.status_code))\n",
    "        if response.status_code != 200:\n",
    "            print(response.status_code)\n",
    "        data = response.json()\n",
    "        com_list += data['documents']\n",
    "    com_df = pandas.DataFrame(com_list)\n",
    "    return com_df\n",
    "\n",
    "def get_document_content_from_api(docId,key=api_key):\n",
    "    url = \"http://api.data.gov:80/regulations/v3/document.json?api_key=\"+key+\"&documentId=\"+docId\n",
    "    try:\n",
    "        response = requests.get(url)\n",
    "    except:\n",
    "         print(\"(api opening doc exception) error log\"+url)   \n",
    "    if response.status_code != 200:\n",
    "        print(\"status code \"+str(response.status_code)+\" (get_document_content_from_api) program will break at this point which is ok because we dont need inconsistent data. Run again\")\n",
    "    data = response.json()\n",
    "    \n",
    "    # Get HTML for document content\n",
    "    if(len(data['fileFormats']) == 2):    \n",
    "        link = data['fileFormats'][1] # The second link is the document in HTML format\n",
    "    else:\n",
    "        link = data['fileFormats'][0]\n",
    "    access_link = link+'&api_key='+key\n",
    "    \n",
    "    try:\n",
    "        with urllib.request.urlopen(access_link) as response:\n",
    "            html = response.read()\n",
    "    except:\n",
    "        print(\"doc file opening exception\")\n",
    "    \n",
    "    # We are interested in the pre tag of the HTML content\n",
    "    soup = BeautifulSoup(html, \"lxml\")\n",
    "    content = soup.find_all('pre')\n",
    "    \n",
    "    # Now we need to construct comment_id from document_id\n",
    "    docket_id = '-'.join(docId.split('-')[:3])\n",
    "    comment_df = get_document_comments_from_api(docket_id)\n",
    "    # get comment text where exists\n",
    "    comment_list =[]\n",
    "    if not comment_df.empty:\n",
    "        if \"commentText\" in comment_df:\n",
    "            comment_text =comment_df[comment_df.commentText.notnull()].commentText\n",
    "            comment_list =comment_text.tolist()\n",
    "        #get doc id where there is attchment\n",
    "        c_ids = comment_df[comment_df.attachmentCount>0].documentId\n",
    "        # get comment for each id in list\n",
    "        for each_id in c_ids.unique():\n",
    "            comment_list.append(get_attached_comments(each_id))\n",
    "    doc_dict = {\n",
    "        \"text\":content,\n",
    "        \"comment_list\":comment_list\n",
    "    }\n",
    "    return doc_dict"
   ]
  },
  {
   "cell_type": "markdown",
   "metadata": {},
   "source": [
    "#### Running it on one document"
   ]
  },
  {
   "cell_type": "code",
   "execution_count": 7,
   "metadata": {
    "collapsed": false
   },
   "outputs": [],
   "source": [
    "# data format is array of dicts\n",
    "def get_one_doc(name,docid):\n",
    "    #open file - get present data (empty to begin witj)\n",
    "    filepath = \"data/\"+name+\"_doc_content\"\n",
    "    inp =open(filepath,'rb')\n",
    "    doc_collection = load(inp)\n",
    "    inp.close()\n",
    "    #get that one doc\n",
    "    resp = get_document_content_from_api(docid)\n",
    "    doc_collection.append(resp)\n",
    "    #put back in file \n",
    "    output = open(filepath, 'wb')\n",
    "    dump(doc_collection, output, -1)\n",
    "    output.close()\n"
   ]
  },
  {
   "cell_type": "code",
   "execution_count": 8,
   "metadata": {
    "collapsed": false
   },
   "outputs": [
    {
     "name": "stderr",
     "output_type": "stream",
     "text": [
      "PdfReadWarning: Xref table not zero-indexed. ID numbers for objects will be corrected. [pdf.py:1736]\n"
     ]
    }
   ],
   "source": [
    "# run this line once every 1 hr\n",
    "get_one_doc(\"Kinshuk\",\"IRS-2010-0009-0001\")"
   ]
  },
  {
   "cell_type": "markdown",
   "metadata": {
    "collapsed": false
   },
   "source": [
    "# BELOW THIS IS TESTING, NOT NEEDED TO GET DOCUMENT AND COMMENTS CURRENTLY"
   ]
  },
  {
   "cell_type": "code",
   "execution_count": 9,
   "metadata": {
    "collapsed": false
   },
   "outputs": [
    {
     "data": {
      "text/plain": [
       "10"
      ]
     },
     "execution_count": 9,
     "metadata": {},
     "output_type": "execute_result"
    }
   ],
   "source": [
    "# will return the number of documents read. replace by your name\n",
    "dc =load(open(\"data/Kinshuk_doc_content\",'rb'))\n",
    "len(dc)"
   ]
  },
  {
   "cell_type": "code",
   "execution_count": 3,
   "metadata": {
    "collapsed": false
   },
   "outputs": [
    {
     "name": "stderr",
     "output_type": "stream",
     "text": [
      "/Users/kinshuk/anaconda/lib/python3.5/site-packages/ipykernel/__main__.py:4: FutureWarning: sort(columns=....) is deprecated, use sort_values(by=.....)\n"
     ]
    }
   ],
   "source": [
    "df_test =read_file_get_docid('data/BFS_doc_list')\n",
    "df_test.reset_index(inplace = True)"
   ]
  },
  {
   "cell_type": "code",
   "execution_count": 8,
   "metadata": {
    "collapsed": false,
    "scrolled": true
   },
   "outputs": [
    {
     "data": {
      "text/plain": [
       "20    1689\n",
       "21    1624\n",
       "22    1473\n",
       "23    1440\n",
       "24    1425\n",
       "25    1165\n",
       "26     998\n",
       "27     979\n",
       "28     972\n",
       "29     854\n",
       "30     843\n",
       "31     839\n",
       "32     829\n",
       "33     741\n",
       "34     671\n",
       "35     622\n",
       "36     592\n",
       "37     555\n",
       "38     539\n",
       "39     538\n",
       "40     425\n",
       "41     408\n",
       "42     406\n",
       "43     398\n",
       "44     367\n",
       "45     320\n",
       "46     318\n",
       "47     298\n",
       "48     291\n",
       "49     283\n",
       "50     252\n",
       "51     231\n",
       "52     230\n",
       "53     224\n",
       "54     224\n",
       "55     218\n",
       "56     216\n",
       "57     212\n",
       "58     202\n",
       "59     201\n",
       "60     193\n",
       "61     182\n",
       "62     181\n",
       "63     166\n",
       "64     165\n",
       "Name: numberOfCommentsReceived, dtype: int64"
      ]
     },
     "execution_count": 8,
     "metadata": {},
     "output_type": "execute_result"
    }
   ],
   "source": [
    "df_test[\"numberOfCommentsReceived\"][20:65] #60,61,62,63"
   ]
  },
  {
   "cell_type": "code",
   "execution_count": 9,
   "metadata": {
    "collapsed": false
   },
   "outputs": [
    {
     "data": {
      "text/plain": [
       "40      CFPB-2014-0019-0001\n",
       "41      EBSA-2012-0031-0001\n",
       "42       OCC-2011-0002-0001\n",
       "43      CFPB-2013-0033-0001\n",
       "44      CFPB-2012-0039-0001\n",
       "45    FINCEN-2015-0002-0001\n",
       "46       IRS-2012-0009-0001\n",
       "47       IRS-2010-0009-0001\n",
       "48      CFPB-2013-0018-0001\n",
       "49       SBA-2007-0009-0002\n",
       "Name: documentId, dtype: object"
      ]
     },
     "execution_count": 9,
     "metadata": {},
     "output_type": "execute_result"
    }
   ],
   "source": [
    "df_test[\"documentId\"][40:50]"
   ]
  },
  {
   "cell_type": "code",
   "execution_count": null,
   "metadata": {
    "collapsed": true
   },
   "outputs": [],
   "source": []
  }
 ],
 "metadata": {
  "anaconda-cloud": {},
  "kernelspec": {
   "display_name": "Python [Root]",
   "language": "python",
   "name": "Python [Root]"
  },
  "language_info": {
   "codemirror_mode": {
    "name": "ipython",
    "version": 3
   },
   "file_extension": ".py",
   "mimetype": "text/x-python",
   "name": "python",
   "nbconvert_exporter": "python",
   "pygments_lexer": "ipython3",
   "version": "3.5.2"
  }
 },
 "nbformat": 4,
 "nbformat_minor": 0
}
