{
 "cells": [
  {
   "cell_type": "code",
   "execution_count": 1,
   "metadata": {
    "collapsed": true
   },
   "outputs": [],
   "source": [
    "# Imports\n",
    "from pickle import dump, load\n",
    "import nltk\n",
    "from nltk import word_tokenize,FreqDist\n",
    "import re\n",
    "from nltk.corpus import wordnet as wn\n",
    "from nltk.util import ngrams\n",
    "from sklearn.cluster import KMeans\n",
    "from nltk.stem.snowball import SnowballStemmer\n",
    "from sklearn.feature_extraction.text import TfidfVectorizer\n",
    "from sklearn.metrics.pairwise import paired_distances\n",
    "import pandas as pd\n",
    "import json"
   ]
  },
  {
   "cell_type": "code",
   "execution_count": 2,
   "metadata": {
    "collapsed": true
   },
   "outputs": [],
   "source": [
    "#cluster count\n",
    "def get_document_text(raw_text):\n",
    "    \"\"\" This function takes in raw document text as input which we receive from the API and returns a clean text \n",
    "    of the associated document. It cleans up any HTML code in the text, newline characters, and extracts supplemental\n",
    "    information part of the document.\n",
    "    \n",
    "    INPUT: string\n",
    "    OUTPUT: string\n",
    "    \"\"\"\n",
    "    raw_text = raw_text.replace('\\n',' ')\n",
    "    raw_text = raw_text.replace('*','') # added\n",
    "    raw_text = raw_text.replace('\\r',' ') # added\n",
    "    # Remove any residual HTML tags in text\n",
    "    cleanr = re.compile('<.*?>')\n",
    "    cleantext = re.sub(cleanr, '', raw_text)\n",
    "    return cleantext\n",
    "\n",
    "def tokenize_text(corpus):\n",
    "    pattern = r'''(?x)    # set flag to allow verbose regexps\n",
    "    (([A-Z]\\.)+)       # abbreviations, e.g. B.C.\n",
    "    |(\\w+([-']\\w+)*)       # words with optional internal hyphens e.g. after-ages or author's\n",
    "    '''\n",
    "    tokens = nltk.regexp_tokenize(corpus,pattern)\n",
    "    all_token = [word.lower() for token in tokens for word in token if word != \"\" and word[0] != \"'\" and word[0] != \"-\"]\n",
    "    return all_token\n",
    "\n",
    "def tokenize_text_sent(corpus):\n",
    "    sent_tokenizer = nltk.data.load('tokenizers/punkt/english.pickle')\n",
    "    raw_sents = sent_tokenizer.tokenize(corpus) # Split text into sentences    \n",
    "    return [tokenize_text(sent) for sent in raw_sents]\n",
    "\n",
    "def tag_my_text(sents):\n",
    "    return [nltk.pos_tag(sent) for sent in sents]\n",
    "\n",
    "#Chunk noun phrases in tree \n",
    "def noun_phrase_chunker():\n",
    "    grammar = r\"\"\"\n",
    "    NP: {<DT|PP\\$>?<JJ>*<NN>}   # chunk determiner/possessive, adjectives and noun\n",
    "    \"\"\"\n",
    "    cp = nltk.RegexpParser(grammar)\n",
    "    return cp\n",
    "\n",
    "#Extract only the NP marked phrases from the parse tree, that is the chunk we defined\n",
    "def noun_phrase_extractor(sentences, chunker):\n",
    "    res = []\n",
    "    for sent in sentences:\n",
    "        tree = chunker.parse(sent)\n",
    "        for subtree in tree.subtrees():\n",
    "            if subtree.label() == 'NP' : \n",
    "                res.append(subtree[0:len(subtree)])\n",
    "                #res.append(subtree[0])\n",
    "                #print(subtree)\n",
    "    return res\n",
    "\n",
    "#remove tags and get only the noun phrases , can be adjusted for length\n",
    "def noun_phrase_finder(tagged_text):\n",
    "    all_proper_noun = noun_phrase_extractor(tagged_text,noun_phrase_chunker()) \n",
    "    #does not literally mean proper noun. Chunker only extracts common noun\n",
    "    noun_phrase_list = []                                                      \n",
    "    #noun_phrase_string_list =[]\n",
    "    for noun_phrase in all_proper_noun:\n",
    "        if len(noun_phrase) > 0: #this means where the size of the phrase is greater than 1\n",
    "            small_list =[]\n",
    "            for (word,tag) in noun_phrase:\n",
    "                small_list.append(word)\n",
    "            noun_phrase_list.append(small_list)\n",
    "            #noun_phrase_string_list.append(' '.join(small_list))\n",
    "    return noun_phrase_list\n",
    "\n",
    "#get freq dist obj for noun phrase of different lengths\n",
    "def find_freq(nested_list,nest_len):\n",
    "    #from nltk.probability import FreqDist\n",
    "    fdist_list =[]\n",
    "    for inner_np in nested_list:\n",
    "        if len(inner_np) == nest_len:\n",
    "            fdist_list.append(' '.join(inner_np))\n",
    "    fdist = FreqDist(fdist_list)\n",
    "    return fdist\n",
    "\n",
    "def get_top_unigrams(np):\n",
    "    unigrams = []\n",
    "    for item in np:\n",
    "        if len(item) ==  1:\n",
    "            unigrams.append(item)\n",
    "    fdist_uni = find_freq(np,1)\n",
    "    uni_list = fdist_uni.most_common()\n",
    "    threshold = 0.3 * len(unigrams)\n",
    "    top = []\n",
    "    s = 0\n",
    "    for word,count in uni_list:\n",
    "        top.append(word)\n",
    "        s += count\n",
    "        if s > threshold:\n",
    "            break      \n",
    "    return top\n",
    "\n",
    "# Lesk algorith for disambiguation in case of multiple synsets of a word\n",
    "def compare_overlaps_greedy(context, synsets_signatures, pos=None):\n",
    "    \"\"\"\n",
    "    Calculate overlaps between the context sentence and the synset_signature\n",
    "    and returns the synset with the highest overlap.\n",
    "    \n",
    "    :param context: ``context_sentence`` The context sentence where the ambiguous word occurs.\n",
    "    :param synsets_signatures: ``dictionary`` A list of words that 'signifies' the ambiguous word.\n",
    "    :param pos: ``pos`` A specified Part-of-Speech (POS).\n",
    "    :return: ``lesk_sense`` The Synset() object with the highest signature overlaps.\n",
    "    \"\"\"\n",
    "    # if this returns none that means that there is no overlap\n",
    "    max_overlaps = 0\n",
    "    lesk_sense = None\n",
    "    for ss in synsets_signatures:\n",
    "        if pos and str(ss.pos()) != pos: # Skips different POS.\n",
    "            continue\n",
    "        overlaps = set(synsets_signatures[ss]).intersection(context)\n",
    "        if len(overlaps) > max_overlaps:\n",
    "            lesk_sense = ss\n",
    "            max_overlaps = len(overlaps)  \n",
    "    return lesk_sense\n",
    "\n",
    "def lesk(context_sentence, ambiguous_word, pos=None, dictionary=None):\n",
    "    \"\"\"\n",
    "    This function is the implementation of the original Lesk algorithm (1986).\n",
    "    It requires a dictionary which contains the definition of the different\n",
    "    sense of each word. See http://goo.gl/8TB15w\n",
    "\n",
    "        >>> from nltk import word_tokenize\n",
    "        >>> sent = word_tokenize(\"I went to the bank to deposit money.\")\n",
    "        >>> word = \"bank\"\n",
    "        >>> pos = \"n\"\n",
    "        >>> lesk(sent, word, pos)\n",
    "        Synset('bank.n.07')\n",
    "    \n",
    "    :param context_sentence: The context sentence where the ambiguous word occurs.\n",
    "    :param ambiguous_word: The ambiguous word that requires WSD.\n",
    "    :param pos: A specified Part-of-Speech (POS).\n",
    "    :param dictionary: A list of words that 'signifies' the ambiguous word.\n",
    "    :return: ``lesk_sense`` The Synset() object with the highest signature overlaps.\n",
    "    \"\"\"\n",
    "    if not dictionary:\n",
    "        dictionary = {}\n",
    "        for ss in wn.synsets(ambiguous_word):\n",
    "            dictionary[ss] = ss.definition().split()\n",
    "    best_sense = compare_overlaps_greedy(context_sentence, dictionary, pos)\n",
    "    return best_sense\n",
    "    #return dictionary \n",
    "\n",
    "# this function takes in a word and gets the most relevant synset based on context from the text. \n",
    "# for exact algorith refer the text above (\"what I want to do\" markdown)\n",
    "def get_synset(word,pos_tag_text ,pos):\n",
    "    if len(wn.synsets(word)) == 1:\n",
    "        #print(\"here1\")\n",
    "        return wn.synsets(word)[0]\n",
    "    else:\n",
    "        #get all context sentences\n",
    "        all_sent =[]\n",
    "        for sent in pos_tag_text:\n",
    "            for (w,t) in sent:\n",
    "                if w == word:\n",
    "                    all_sent.append(sent)\n",
    "        #call lesk here\n",
    "        app_syn = lesk(all_sent[len(all_sent)//2], word, pos)\n",
    "        if app_syn != None:\n",
    "            #print(\"here2\")\n",
    "            return app_syn\n",
    "        else:\n",
    "            #second lesk trial with another context sentence\n",
    "            app_syn = lesk(all_sent[len(all_sent)//3], word, pos)\n",
    "            if app_syn != None:\n",
    "                #print(\"here2\")\n",
    "                return app_syn\n",
    "            else:\n",
    "                #give up and choose 1st synset from list with matching pos\n",
    "                #print(\"here3\")\n",
    "                all_syns = wn.synsets(word)\n",
    "                for syn in all_syns:\n",
    "                    #print(syn.pos())\n",
    "                    if syn.pos() == pos:\n",
    "                        return syn\n",
    "    return False\n",
    "\n",
    "# this functions take all the single and double legth phrases form grand_list and gets sysnset for all them. (1 each)\n",
    "def get_singles_synset(uni_list,pos_tag_text):\n",
    "    single_synset =[]\n",
    "    #get synsets of all singletons\n",
    "    for singles in uni_list:\n",
    "        singles_syn = get_synset(singles,pos_tag_text, 'n')\n",
    "        if singles_syn:\n",
    "            single_synset.append(singles_syn)    \n",
    "    return single_synset\n",
    "\n",
    "#get common parents\n",
    "def get_lcs(uni_list,pos_tag_text):\n",
    "    #get all relevant sysnsets\n",
    "    all_synsets = get_singles_synset(uni_list,pos_tag_text)\n",
    "    list_of_all_lcs =[]\n",
    "    for syn in all_synsets:\n",
    "        for syn2 in all_synsets[all_synsets.index(syn)+1:]:\n",
    "            lcs = syn.lowest_common_hypernyms(syn2)[0]\n",
    "            if lcs not in list_of_all_lcs:\n",
    "                list_of_all_lcs.append(lcs)\n",
    "    return list_of_all_lcs\n",
    "\n",
    "# get themes\n",
    "def get_theme(uni_list,pos_tag_text):\n",
    "    # get common parent\n",
    "    parent_sysnset = get_lcs(uni_list,pos_tag_text)\n",
    "    # filter out absolute top level and get lemma_names\n",
    "    lemma_names =[]\n",
    "    for synset in parent_sysnset:\n",
    "        if synset.min_depth() != 0:\n",
    "            #print(synset)\n",
    "            for each_name in synset.lemma_names():\n",
    "                if each_name not in lemma_names:\n",
    "                    lemma_names.append(each_name)\n",
    "                break\n",
    "    return lemma_names\n",
    "\n",
    "def get_cluster_count(document):\n",
    "    text = str(document['text'][0])\n",
    "    cleantext = get_document_text(text)\n",
    "    tagged_tokens = tag_my_text(tokenize_text_sent(cleantext))\n",
    "    np_list = noun_phrase_finder(tagged_tokens)\n",
    "    top_np = get_top_unigrams(np_list)\n",
    "    themes = get_theme(top_np,tagged_tokens)\n",
    "    return len(themes)"
   ]
  },
  {
   "cell_type": "code",
   "execution_count": 22,
   "metadata": {
    "collapsed": true
   },
   "outputs": [],
   "source": [
    "#Comment clustering\n",
    "def process_document(document):\n",
    "    comments = []\n",
    "    for c in document['comment_list']:\n",
    "        c = c.replace('\\n',' ')\n",
    "        if 'attached' not in c or len(c) > 500:\n",
    "            comments.append(str(c))\n",
    "    return comments\n",
    "\n",
    "# Modified from Brandon Rose:\n",
    "def tokenize_text_cluster(text):\n",
    "    #tokens = [word.lower() for sent in nltk.sent_tokenize(text) for word in nltk.word_tokenize(sent)]\n",
    "    # changing this to get rid of tokens like 's \n",
    "    tokens = [word.lower() for sent in nltk.sent_tokenize(text) for word in tokenize_text(sent)]\n",
    "    filtered_tokens = []\n",
    "    for token in tokens:\n",
    "        if re.search('[a-zA-Z]', token):\n",
    "            filtered_tokens.append(token)\n",
    "    return filtered_tokens\n",
    "\n",
    "def stem_text(text):\n",
    "    stemmer = SnowballStemmer('english')\n",
    "    tokens = tokenize_text_cluster(text)\n",
    "    stems = [stemmer.stem(t) for t in tokens]\n",
    "    return stems\n",
    "\n",
    "def vectorize_comments(comments):\n",
    "    tfidf_vec = TfidfVectorizer(tokenizer=tokenize_text_cluster,\n",
    "                                stop_words='english',\n",
    "                                ngram_range=(1,4),\n",
    "                                min_df=0.1, max_df=0.8,\n",
    "                                max_features=200000)\n",
    "    tfidf_matrix = tfidf_vec.fit_transform(comments)\n",
    "    return tfidf_matrix, tfidf_vec\n",
    "\n",
    "# Modified from Brandon Rose:\n",
    "def vocabulary_frame(text):\n",
    "    tokens = tokenize_text_cluster(text)\n",
    "    stems = stem_text(text)\n",
    "    return pd.DataFrame({'words': tokens}, index = stems).drop_duplicates()\n",
    "\n",
    "def extended_vocabulary_frame(texts):\n",
    "    frames = []\n",
    "    for t in texts:\n",
    "        vf = vocabulary_frame(t)\n",
    "        frames.append(vf)\n",
    "    extended = pd.concat(frames).drop_duplicates()\n",
    "    return extended\n",
    "\n",
    "# Modified from Brandon Rose and\n",
    "# http://scikit-learn.org/stable/auto_examples/applications/topics_extraction_with_nmf_lda.html\n",
    "# http://scikit-learn.org/stable/auto_examples/text/document_clustering.html#sphx-glr-auto-examples-text-document-clustering-py\n",
    "def top_words(model, num_clusters, comments, tfidf_vec, n_top_words):\n",
    "    feature_names = tfidf_vec.get_feature_names()\n",
    "    order_centroids = model.cluster_centers_.argsort()[:, ::-1] \n",
    "    top_words = []\n",
    "    for i in range(num_clusters):\n",
    "        temp_top_words = []\n",
    "        for j in order_centroids[i, :n_top_words]:\n",
    "            temp_top_words.append(feature_names[j])\n",
    "        top_words.append(temp_top_words)\n",
    "    return top_words\n",
    "\n",
    "def cluster_comments(document, num_clusters):\n",
    "    cluster_dict = {}\n",
    "\n",
    "    comments = process_document(document)\n",
    "    tfidf_matrix, tfidf_vec = vectorize_comments(comments)\n",
    "    \n",
    "    km = KMeans(n_clusters=num_clusters)\n",
    "    km.fit(tfidf_matrix)\n",
    "    clusters = km.labels_.tolist()\n",
    "    \n",
    "    cluster_center_list = []\n",
    "    for c in clusters:\n",
    "        cluster_center_list.append(km.cluster_centers_[c])\n",
    "    center_distances = paired_distances(tfidf_matrix, cluster_center_list)\n",
    "    \n",
    "    comment_clusters = {'comment': comments, 'cluster': clusters, 'dist': center_distances}\n",
    "    comment_frame = pd.DataFrame(comment_clusters, index = [clusters] , columns = ['comment', 'cluster', 'dist'])\n",
    "    \n",
    "    central_comments = []\n",
    "    all_comments = []\n",
    "    for i in range(num_clusters):\n",
    "        central_comments.append(comment_frame[comment_frame.cluster==i].min().comment)\n",
    "        all_comments.append(list(comment_frame[comment_frame.cluster==i]['comment']))\n",
    "    \n",
    "    freq_words = top_words(km, num_clusters, comments, tfidf_vec, 6)\n",
    "    \n",
    "    cluster_dict['central_comments'] = central_comments\n",
    "    cluster_dict['all_comments'] = all_comments\n",
    "    cluster_dict['top_words'] = freq_words\n",
    "    \n",
    "    return cluster_dict"
   ]
  },
  {
   "cell_type": "code",
   "execution_count": 4,
   "metadata": {
    "collapsed": true
   },
   "outputs": [],
   "source": [
    "doc_list =load(open(\"data/Master2_doc_content\",'rb'))\n",
    "document = doc_list[0]"
   ]
  },
  {
   "cell_type": "code",
   "execution_count": 5,
   "metadata": {
    "collapsed": false
   },
   "outputs": [],
   "source": [
    "cluster_num = get_cluster_count(document)"
   ]
  },
  {
   "cell_type": "code",
   "execution_count": 6,
   "metadata": {
    "collapsed": false
   },
   "outputs": [],
   "source": [
    "clust_dict = cluster_comments(document, cluster_num)"
   ]
  },
  {
   "cell_type": "code",
   "execution_count": 11,
   "metadata": {
    "collapsed": false
   },
   "outputs": [
    {
     "data": {
      "text/plain": [
       "dict_keys(['central_comments', 'all_comments', 'top_words'])"
      ]
     },
     "execution_count": 11,
     "metadata": {},
     "output_type": "execute_result"
    }
   ],
   "source": [
    "clust_dict.keys()"
   ]
  },
  {
   "cell_type": "code",
   "execution_count": 27,
   "metadata": {
    "collapsed": false
   },
   "outputs": [
    {
     "data": {
      "text/plain": [
       "[['government', 'live', 'rights', 'smoking', 'homes', 'smoke'],\n",
       " ['free', 'smoke free', 'smoke', 'housing', 'public', 'public housing'],\n",
       " ['smoking', 'people', 'ban', 'housing', 'smoke', 'public'],\n",
       " ['c', 'd', 't', 's', 'e', 'like'],\n",
       " ['policy', 'smoking', 'residents', 'housing', 'rule', 'smoke'],\n",
       " ['housing', 'smoke-free', 'public', 'rule', 'public housing', 'proposed'],\n",
       " ['smoke', 'apartment', 'building', 'smoking', 'apartments', 'smokers'],\n",
       " ['smoke', 'tobacco', 'health', 'housing', 'secondhand', 'secondhand smoke'],\n",
       " ['smoke', 'hand', 'hand smoke', 'second hand', 'second', 'second hand smoke']]"
      ]
     },
     "execution_count": 27,
     "metadata": {},
     "output_type": "execute_result"
    }
   ],
   "source": [
    "clust_dict['top_words']\n"
   ]
  },
  {
   "cell_type": "markdown",
   "metadata": {},
   "source": [
    "### BEGIN TESTING"
   ]
  },
  {
   "cell_type": "code",
   "execution_count": 23,
   "metadata": {
    "collapsed": false
   },
   "outputs": [],
   "source": [
    "def mash_comments(cluster_dict):\n",
    "    big_comment = []\n",
    "    for cluster in cluster_dict[\"all_comments\"]:\n",
    "        mashed = \"\"\n",
    "        for comment in cluster:\n",
    "            mashed += comment\n",
    "            mashed += \" \"\n",
    "        big_comment.append(mashed)\n",
    "    return big_comment"
   ]
  },
  {
   "cell_type": "code",
   "execution_count": 28,
   "metadata": {
    "collapsed": false,
    "scrolled": true
   },
   "outputs": [],
   "source": [
    "mashed_comments = mash_comments(clust_dict)\n"
   ]
  },
  {
   "cell_type": "code",
   "execution_count": 30,
   "metadata": {
    "collapsed": false
   },
   "outputs": [
    {
     "data": {
      "text/plain": [
       "'I object to government smoking bans in general and in this specific case on the grounds that government has no legal basis to assume authority to protect a citizen from themself and that no scientific basis exists that smoking injures another citizen. I object to this government overreach. I\\'ve read all the comments posted. I\\'ve learned much more than I thought I would. One comment made concerns that there is a relationship between the Clean Indoor Air movement, and the much larger Clean Air Movement. In the larger Clean Air Movement, government doesn\\'t restrict the end user of an automobile, instead the government legislates that the manufacturer provide products that are better for the environment. Only with the Tobacco Industry we find government agencies trying to restrict and modify a person\\'s behavior. I don\\'t have any opposition to this regulation if it is amended to include all Smokable Products, as well as the use of Smokable Medical Marijuana, and other things that can cause fires like candles and Incense. Recently, at Amos Towers here in Scranton, a fire broke out due to candles that were left unattended. This regulation should be amended. If I were on a Jury, and had to decide whether to evict a person, I would want scientific proof that the substance was a tobacco product, or other banned product, not just a tenant\\'s testimony. Also, having tenants police the project for seeking out violators is a dangerous policy. This is still the United States of America, \"land of the free and home of the brave,,,\" so let the people CHOOSE to smoke or not in the privacy of their homes without this government over reach.  Bullying the poor and most vulnerable members of society is a gross violation of ethics and fundamental Constitutional rights. There\\'s no possible justification for unelected government apparatchiks to dictate the lifestyle choices of citizens in their own homes. This rule should be scrapped and the perpetrators of this attempted crime against humanity should be held to account. I have told people that our country has become more fascistic by the day. In a so called free society a person\\'s home is their castle.  In a free society it is not the role of government to tell people how to live, what to eat drink or smoke. If that\\'s what the federal agencies have become then it is time to abolish all of them!  https://veritasvincitprolibertate.wordpress.com/2014/08/30/the-progressive-roots-of-fascism/ Whether you are rich or poor government at every level has identical obligation to protect the health of ALL citizens; that includes all who live in multi-million=dollar mansions and those in public housing.   I\\'m shocked, therefore, to learn that there are no controls whatever regarding tobacco smoking in Public Housing.   Second-Hand smoke has been known for many years to be a health hazard.  Of course FR 5597-PP-02 should be implemented!   Ban smoking! Anyone receiving any government assistance should not smoke. Drug test them. If they smoke cigarettes they can afford their own place to live and pay for their own healthcare. Protecting children and other tenants in government housing from smoke exposure is common sense and should be done. If you can afford at least $6 per pack daily for 30 days you have $180 dollars of disposable money. People with disposable money that they LITERALLY BURN should not be in government housing. It exposes their children, neighbors, and themselves to toxic cancer causing chemicals. We would not allow cancerous building materials to be used, so why allow them to be smoked. The exposure is the same. Smokers and their children, neighbors, and other tenants are bearing the brunt of the medical stupidity of these smokers. This should not be allowed in government housing. Use the resources to help people quit, be healthier, and have more money every month so that they can actually get out of government housing. I am opposed to proposed rule FR 5597-P-02.  I do not appreciate that my being financially hindered leaves me open to regulations which step on my freedom to live my life.  I do not drink to excess or use illegal narcotics.  I do not leave my daughters alone at home in order to work more than one job.  I do not leave my home nasty.  I do not beat my children, nor do I disturb my neighbors.  I do obey the laws in place for my city, the common wealth in which I live & the country where I was born and raised.  I do work 40 hours a week, paying taxes legally.  I do raise my daughters to respect themselves and others.      I am fully aware of the nature of my smoking....the harm it brings me and the threat second hand smoke poses to my daughters.  I am in agreement that my smoking is a problem...but it is my problem and should not be something the government concerns itself with.  Will you also regulate the cookies in my cookie jar because one of my daughters doesn\\'t fit a governmental weight ideal?  This is not a matter of trying to make things healthier for my daughters with regard to \"forcing\" me to not smoke in my home.  This is a matter of my rights.  I pay rent for my apartment.  Granted, I am low income and qualify for help in the form of living in a public housing apartment.  Because the father of my children has failed to pay court ordered child support for the better part of the last 10 years, because I refuse to sacrifice more time away from my daughters and get a second job, I am being penalized for my failure to afford housing that is not subsidized.  I do not agree that it is acceptable for that source to dictate my lifestyle.  This is a matter of the government overstepping it\\'s purpose.  I do not think it\\'s right that you can step on my home life because I am unable to earn above \"poverty level\", therefore making your access to me easier than individuals who do not receive assistance.    At the very least, since I know the government rarely works the way it is supposed to and I would be surprised if my comments make any difference, I would think that you would want to supply some sort of a smoking option for me to be able to step outside my apartment as a compromise which I could meet.  I worry that this is a small step in a larger problem of the government dictating to free people how they will live, where they can live and what they can do in a home for which they pay.  At some point, the negativity of these types of rules will outweigh the benefit of the help offered.   Are you prepared for the evictions that will occur as a result of people smoking?  Are you willing to kick me out of my apartment for smoking a cigarette the same as you would someone that cooked meth and/or sold drugs?  I triumphed over an abusive spouse, two failed marriages, fought my way through attending college while working and raising two children, and am a law-abiding, hard working American citizen.  I am proud of my daughters and the job I have done raising them.  I do not need some agent of the Federal Government adding guilt to my shoulders with regard to how I care for my daughters.  I certainly did not request that you stick your nose into my personal life when I swallowed my pride to accept the help with providing a home for my daughters.  Are you really so short sighted as to not see that your brush is painting an entirely too broad stroke? When the cost of a pack of cigarettes varies from $5.50 to $14.50 a pack, I feel that  if a couple living in a H.U.D. facility can afford a habit that is costing them between $400.00 to over $800.00, minimum, depending on where they live, and can afford all the health problems that go along with it, perhaps they can afford to live elsewhere.  Why should the government support bad habits! I oppose the discrimination of smokers. we pay a disproportionate amount of taxes yet we are required to give up more freedoms. this proposal is another example of the uneducated fear mongering. we can\\'t smoke in our own homes\\' or 25 feet from the building because of harmful chemicals, but yet the government has no problem with car exhaust 5 feet from windows and doors. the government would have you belive  I am a 72 year old female disabled senior and also a Veteran of the US Navy.  I must protest your wishing to make all HUD public housing buildings \"smoke free\".  There are 200 residents in our two buildings, Kenmore Village Apartments and Kenmore Tower apartments.  The majority of the 200 tenants are 70+, 80+ and 90+.  Many of us have smoked our entire lives (myself since I was 16).  We are disabled, most on Social Security, many tenants, myself included, do not have cars or free transportation.  Many have children (family) located out of town or have no children.  They are alone and lonely.    Living on social security alone gives us no money for recreation.  If we wish to purchase a pack of cigarettes that is our choice as is smoking.  As of late, our government has chosen to deny citizens many rights given to us in the Constitution.  Religion such as Christianity and the Jewish religion have been under attack, Illegal immigrants and refugees are admitted to our country against our wishes and given free housing, free education,Welfare, Snap, Medicaid and other benefits that we, the taxpayers of America, do not and cannot receive.  We paid all our working years for social security and are entitled to our checks.  Gun control, a right to bear arms is guaranteed in the Constitution as is Religious Freedom but the government has shredded many of the rights our Forefathers fought for and authored the Constitution for human rights.  Government has become larger than life when it comes to denying us what was given by our foundation, The Constitution.  I believe it is time for the Government to back off from giving in to the minority of citizens who protest against smoking, guns and the basics we have enjoyed as \"legal\" Americans.  If we are smoking in our own apartments, which we pay rent for, who is it bothering?  Only those non-smokers who want to take away our rights.  Smoking is NOT ALLOWED in any area of our buildings except in the sanctity of our home.  As an American, a Veteran and a disabled native, I do not think my smoking in my own home should be considered a privilege but as a right given me by my Constitution.  For ALL the tenants of all Public Housings structures, apartments, duplexes and high rise buildings, we believe what we do in our own home, smoking legal cigarettes, cigars and pipes, should not be denied to us, as senior citizens especially, who are basically on borrowed time and deserve to continue feeling comfortable and secure in our rights as citizens of The United States of America.  HUD, and all government agencies, should not now, or ever, refuse to grant us our rights as loyal, proud Americans.  HUD, as an agency of the United States of America, say WE THE PEOPLE, urge you to drop Docket #: FR 5597-P-02 as predjudicial to our rights as Americans! I AM A PILGRIM REGARDING \"A CHANGE IN THE AIR\" WE CAN NOT BEGIN THIS PROCESS LATER FOR MANY LIKE MYSELF ARE BEING EXPOSED TO MANY DEADLY CHEMICALS WHICH ARE CAUSING MEDICAL COMPLICATIONS,AS WELL AS DECLINING AIR QUALITY. MY HEALTH AS WELL AS OTHER NON SMOKERS  IS MY FIRST PRIORITY! I AM TRULY LOOKING FORWARD TO THE DAY THAT OUR GOVERNMENT HOUSING BECOMES A \"CARING WE COMMUNITY\" AND NOT THE SELFISH \"ME COMMUNITY\" I APPROVE THIS MESSAGE,CYNTHIA LEE JUDGE (smoke free pilgrim)                                                                                                                                                                                                   I am opposed to this ruling and any other where the government is proposing laws limiting what people can do and can not do in their homes.  This is a very slippery slope!  What is next?  Is our government going to make laws that we can\\'t consume anything \"they\" consider hazardous?  Are fatty foods or sweets next?  Renters pay a portion of their limited income to live in these residences.  The effect of secondhand smoke is questionable at best, as is whether smoke can be transferred from one unit to another.  I have lived in apartments and townhouses for approximately 34 years with no noticeable transference of odors from one unit to another.  ALL Americans have rights, NOT only nonsmokers.  What are their vices?  Would they like to be told they are unable to do whatever activity they enjoy, eat or drink what they choose?   Leave the smokers alone.    Of course, this proposed rule would create burdens and costs to families, persons with disabilities and the elderly, particularly if any individual or family is evicted as a result of this policy.  Where will they live?  Do you want to add these people to the homeless population?  Do you really expect elderly and disabled people to leave their homes to go 25 feet or more, possibly off the property, to smoke?  This is simply ludicrous.  Remove your heads from your posteriors, and focus on far more important issues. I oppose this ridiculous proposal! its been a waste of government funding to even take time to think of another way to Discriminate against us Smokers. I\\'ve read the comments and i strongly Agree that this is Discrimination. i live in an adult only hi-rise, i have a balcony and you\\'re going to tell me i cant even smoke on it. talking about getting comments on this web site and to voice your opp ion cant be counted as correct either. how many elderly, disabled, mentally challenged and all the poor below poverty, because we live in an HUD unit, individuals do you think has access to internet or even know how to use a computer. you should have let the HA\\'s go around with a petition to sign and mail in to you! its absurd to expect the HA\\'s to babysit us 24/7. they cant even get the work done now that they have, because of lack of government funding. what i got from all this is the government is going to have a lot of homeless smokers, where will you put us then? or do you care. this place is already like an institution! when you walk in all the hallways look and smell (not of smoke either) like your locked up! you\\'ve already lowered our water pressure so much it takes three times as long to take a shower or do dishes. is that saving you money? and you want to ban e-cigarettes, lol, they don\\'t even put out a smell. what are you going to do, put cameras in our private living quarters? smoking is legal if you haven\\'t checked lately, lol, why your at it you might as well ban alcoholic beverages to. i think you need to leave people alone as long as there\\'s no illegal activity going on. oh but that what your doing is making everything the poor enjoy illegal.and wanting to put us 25ft away from our own premises, whats going to happened to the people when they get pneumonia from being out in the cold ,wind, rain and snow. a lot of people cant stand to be around others, we have social anxiety, fear and ptsd. your not even considering our needs. this is as i stated discrimination on us smokers. why not designate certain units for non smokers, and ventilate our units better. also you could spend some money on the real problems in HUD housing by getting rid of all those roaches coming into our units. then again this was just a waste of my time. you\\'ve got me all bent out of shape i\\'m having an anxiety attack doing this. you care NO! HUD will do what they want anyways your the government, just take more of our rights way, see where we end up, but then again you could careless.... I feel that smoking in all apartments should be stopped, but especially in senior citizen buildings.  I live in a government subsidized apartment and the smoking is terrible and affects all og us.  I suffer from asthma and many of the residents are on oxygen.  It is unhealthy and dangeroud for all who live here.  I hope this changes soon  please help!  Yhank you!. No, this policy should not be approved, it will no work, simply because people will do what they want regardless of a written policy, you can not have inspections in resident apartments everyday. The elderly, most who have been smoking most of their lives can not go out in the cold and smoke, catching colds, pneumonia ect. So the claim that it is saving on healthcare is bogus because people will be subjected to going outside in the rain and cold or out in the sweltering heat, which can all lead to frequent sickness and more trips to the doctor. Some are not physically able to get up and down everytime they need/want a cigarette.. it creates a physical strain, not because of laziness but out of pure inconvenience in all manners.  Also, no you should not expand this policy to e-cigarettes.. because the vapor in eliquids and ejuices are not harmful, there is no \"second hand smoke\" for anyone to breath in,  so there is no merit to ban ecigs  Overall, this is a waste of time and deliberation, there is no way to properly enforce this without being intrusive on people\\'s privacy and rights, I don\\'t see it happening on any level and if it were to happen, there would be an increase in the Homeless population, so you\\'re basically trying to get rid of one \"problem\" and adding to another one, doesn\\'t make much sense. People will not give up smoking in their own homes nor should they be forced to by a controlling Government which is stripping freedoms away and becoming a Totalitarian nation, it is pure Tyranny, which will only cause rebellion and an Uprising from We the People.   Do not pretend to care about people and their health all of a sudden, it is only a task of the Government to try to squeeze in more savings, it is all about the money and the Government is ruthless in stripping away of freedoms under the guise that it is \"good for you and everyone else\"... when it is good for no one. Tell the people another one... because some of us aren\\'t buying it.  Good luck getting smokers to abide by this absurd policy and Good luck getting staff to enforce this impossible nonsense.   I am against the proposed rule FR 5597-P-02. I do not appreciate that my being financially hindered leaves me open to regulations which step on my freedom to live my life.This is a matter of the government overstepping it\\'s purpose. I do not think it\\'s right that you can step on my home life because I am not above \"poverty level\", therefore making your access to me easier than individuals who do not receive assistance. This is supposed to be \"The Land of the Free\" but that seams to be changing to a \"land of goverment controled\" give us our freedom please.  They knew I smoked when I move in and I have lived here for almost 10 years and now you want to tell me I can\\'t smoke anymore in my appartment even though it is hard for me to walk very far because of my weight and bad feet.   This still is America isn\\'t it. The people pay rent just like every other person in the world and the government wants to tell them what they can do in their own homes. Next you will tell them they can\\'t drink in their own homes and what they can watch and eat in their own homes. I am writing to express my support for this rule, but also to add some suggestions. I was a science major in undergrad and am currently a law student who has been working on climate policy and air quality issues for the past couple years. I am also a tenant who has experienced health conditions due to the poor nature of the housing in DC and in my past residence in Boston. In two different units in which I resided I have experienced extreme health conditions, including being hospitalized on one occasion, due to the poor air quality in my apartments. Those specific instances were not related to cigarette smoke, but rather mold spores, which it turns out I am very allergic to. That said, after evacuating my past residence due to mold and finally moving into an apartment with better living conditions, I now have at least one neighbor who is an incessant smoker. My neighbor(s) appear to smoke at all hours of the day and there is constantly smoke lingering into my apartment. I wake up smelling smoke and go to sleep smelling smoke and I often have headaches when I spend too much time in my apartment. I have recently slightly abated the problem by investing in three different air filters and a large floor fan which cumulatively cost me over 200 hundred dollars.  \\tWhile there may be valid concerns raised with regard to privacy issues related to enforcing this rule, and though private citizens should generally remain free from government intervention in the home setting and on habits they choose to adopt, private citizens should equally be entitled to clean air where they live and freedom from medical conditions induced by their neighbors\\' habits. This is particularly pressing with regard to housing that is provided to low-income residents. Tenants in low-income areas have a series of other hurdles imposed with regard to health, which is attributed to multiple factors including harmful exposures from housing standards, environmental quality in their neighborhood, access to health services, and ability to afford food that is wholesome and free of chemicals. Availability of public housing provides an important manner of ensuring better quality living conditions to those who are low income and thus, the government should be able to ensure the living space is maintained to continue be suitable for health. Not only do people have to pay for preventative measures when they are exposed to second-hand smoke, as I mentioned in my personal experience, but costly hospital bills result as well in addition to chronic illness and death. It is well established that access to health and healthcare has been strongly correlated to one\\'s economic status in addition to one\\'s ability to improve their economic position. Being exposed to hazards on a regular basis without the ability to prevent it or the resources to remedy the impact of such exposure is extremely detrimental both physically and economically. Thus, such regulations are an important step on a public level in more than one dimension. When it comes to the government providing a service of some kind it is well within their police powers to maintain the quality of a service they provide and to ensure the safety of citizens who are taking advantage of that service.  \\tHowever, as is true of any kind of government enforcement, it must be balanced carefully such that it does not unduly interfere with individual rights. The enforcement of this action should come predominantly from the authorities within each individual housing unit themselves. There should be a very specific procedural requirement for taking action against a tenant that requires opportunities to resolve the issue with the authorities at that pubic housing property first, which should be required to be exhausted before the issue may escalate to a further level. Handling the issues in the most local setting and attempting to work with the tenant before escalating the issue is additionally beneficial as it will result in wasting the least amount of government resources and money, which is also a concern in this matter. Finally, there should be careful safeguards against evicting tenants as public housing is vital to the tenants who live there and evictions are costly. An eviction should be an absolute last resort to multistep system of working with housing authorities on the issue. \\tThough this rule needs careful consideration with regard to developing an enforcement method that makes sense, it is extremely important to public wellbeing for the reasons already stated. Additionally, although this rule will not apply to where I live, it is a big step forward for improving health conditions in housing units and hopefully it will set an example for national standards on housing health and on awareness regarding the danger of second-hand smoking.  I vote no. why pick on tobacco users now. tobacco has been in use for centuries. It is legal. you have no right to tell folks what legal activities they can or can not to in their homes. Please do not start a civil war over something as stupid as this rule. Pick on the poor, that is what happens everywhere all the time. The rich and the government go way too far. how would it be if we passed a law that says alcohol is now illegal, would you stop celebrating holidays and birthdays with campaign or wine? i think not. it will just fuel yet another black market. same with smokers. they will do it anyway. now you will tripple the number of homeless folks in this country as if their is not enough. But then i think that is in face the goal of the government. they want everything for themselves and to hell with the poor. in fact the government never even acknowledges their are even poor folks in this country. they speak of the middle and upper class folks but never the poor. GET REAL!!!!! Lets start banning those things your hold dear. believe me it will happen. this is just a stepping stone. if we allow this law, others will follow and soon we will have no rights at all. Just my opinion. At least i still have the right to an opinion. for now.  I am against the implementation of the smoke-free public housing regulations. The residents of low income housing would be better served by having illicit drug sales and other crimes eliminated from their locations rather than having smokers punished by draconian regulations that invade their privacy. Smokers who live in public housing can\\'t fight back so bullying them is an easy way for the anti-smoking industry to pretend to be helping people.  Encouraging government agencies like HUD to create new smoking regulations makes the anti-smoking industry appear to be taking action. In reality, it helps them collect donations and/or get government grants to finance their organizations. I hope the regulators at HUD will not to allow themselves to be used for financial gain by the anti-smoking industry. I disagree with the 25 foot from each residental building. I am a non-smoker but feel like this is excessive overreach by the government. If someone has to go 25\\' from his building, this could a danger to that person who would have to be in the city street and could get hit by a car. I say No way should you rule in favor of what a person can and cannot do inside their home. That they pay rent in, that they clean up, Now a day\\'s smokers don\\'t smoke near or around children anyway. Stop trying to control people to the point of extreme and there would be far less crime and Chaos... Next some Government person will suggest what you can and cannot do in the Home you Purchase! When will the list come out about what a person can do?. I\\'m sure it will be a very small almost non existing list. Everyone want\\'s to show their power. Soon there won\\'t be anyone to control.  Sad sad world we live in. I strongly disagree with this proposed rule - the families that will be affected are often those least likely to be able to change their behavior to comply and are consequently most vulnerable if they are evicted from public housing.  While I am not in favor of smoking and feel that the overal health benefits that would accrue are laudable, I believe that this is an over-reach by the government on personal choice.   Again I\\'m being dictated how I live in my home, I pay my own bills without any assistance and work a full week,smoking is way of stress relief,oh yeah I\\'m 52 years old, to old to change my way. Again government telling adults how to live. . A home is a home, whether public housing or a mansion.  Until smoking is illegal everywhere, to attempt to deny a public housing resident the right to smoke in his or her own home is wrong and government over-reach at its absolute worst!   How do you plan to enforce such a rule?  Will non-compliant residents be evicted and forced into homelessness?  That will certainly serve to make a bad situation worse.  BTW, I am a non-smoker and smoking is forbidden in my home.  Are you picking up on the key in that sentence?  My home - my rule.  In my opinion your time would be better utilized finding more affordable, safe, livable homes for those in need. Smokers make a totally informed decision to smoke. Their duty is to respect others and not infringe on non-smokers wishes and concerns. However, to dictate what smokers do in their own homes is infringing on their rights. we maintain our homes with the expectation of being allowed the freedom to live our lives as we choose. the issue is to ot disregard others rights to live without concern for being subjected to second-hand smoke.  I am opposed to this proposed rule.  Once again, the long, intrusive arm of nanny government is reaching into the hereto-fore sanctity of our homes with this latest incursion to have \"Smoke-Free Public Housing\".    Despite recent studies debunking \"second-hand smoke\" (such as \"Journal of National Cancer Institute\", 2013;, \"British Medical Journal\", 2013; and Sir Michael Marmot of the World Health Organization) relegating this second-hand smoke construct to myth, the government bureaucracies working, probably in tandem with the insurance industry and tobacco-cessation corporations, are creeping into our most private lives to (1) justify their existences and (2) fall in line with political correctness under the guise of \"We know what is best for you\".  This rule is just another government tactic to control us by restricting our rights.  It is not enough that we smokers have to pay the outrageous taxes on tobacco products and are forced to comply with all the restrictions and limitations, an unjustified paradigm shift has occurred wherein we smokers are being ostracized, guilted and shamed, and demoted to a status as second-class citizens - unlike alcoholics, drug abusers, and criminals who have the ears and sympathies of bleeding hearts and many of whom languish on the largess of government entitlements!  Why hasn\\'t some governmental agency, Health, Education, and Welfare, e.g., commissioned a study on why smoking is the hardest habit to quit especially where women are concerned?   (It is my theory that women who traditionally have been socialized to be passive and be the \"other\" eat their anger by smoking.  Prove or disprove!)   Instead of infringing on reducing tenants\\' rights and impinging on their privacy, HUD should turn their eyes to fixing the sloppy public housing management with its problems of repair, security, refurbishment, and screening issues to weed out generational dependency in some tenants, as described by the late New York Senator, Daniel Patrick Moynihan, in a commissioned study years ago.   This proposed rule is ridiculous and goes far beyond reasonable public policy backed by the force of a paternalistic government. The well-funded anti-smoking groups and government bureaucrats seem to have found another easy target; lower-income Americans dependent on government funded housing. It is a slippery slope where rich and poor have separate private property rights by income. The quality of life of the people who live in subsidized housing could be more positively impacted by less focus on what people are doing in their own homes and more focus on violence, crime, jobs and property maintenance.  Title:  FR 5597-P-02 Instituting Smoke-Free Public Housing Docket ID Number: HUD-2015-0101-0001  I just want to write I support a non smoking environment for HUD. The government should not be using tax payers\\' monies in environment which allows smoking. Smoking causes health concerns which results in more money being spent by the government for health issues. Non smokers should not be subjected to this unhealthy environment. HUD should follow in the same path as businesses.  I feel that this is an over reach of the government. I am commissioner at Lafayette Housing Authority and I am directly affected by this proposed decision because i am also a tenant.  I total agree that smoking should not be allowed in government housing.  However, I think we are imposing a very strong restriction on elderly and low income folks to ask them to smoke 25 feet away from their entrance.  This is asking for additional health issues with inclement weather conditions.  Smoking is addictive and I wish all would cease today but that will not happen.  I support not smoking in the apartments but do not support the 25 feet rule. LOVE this idea as well as the proposition put forth that says if anyone receives help from government and are spending on drugs then they automatically open themselves up for monthly or weekly drug-testing...after 3 positive results then cut them off slowly unless they relentlessly pursue treatment....Thanks!!!! Scott R. Clute  I object on the grounds that those living in public housing should have the same rights as those in private housing. The government needs to stop be a nanny. I am for the ban on smoking in public housing. As usual this is not about smoker\\'s rights, but the rights of others to abstain from breathing in second-hand smoke. Smoke gets into the walls and drifts throughout structures. This is also an issue where the burden of paying for structure repair and ongoing healthcare costs fall to the taxpayer, the government should not subsidize smokers. First responders visit public housing a lot. It is not right or fair for them to have to take in second-hand smoke on a regular basis either. If smokers cannot quit smoking they need to find a way to pay for their own home isolated from everyone else and not be subsidized by anyone else\\'s money.   Banning smoking in Public Housing facilities should be passed; not only for health concerns, but also because of the excess money spent by the tenants on cigarettes & the issue of fire hazards.  Many PRIVATELY-OWNED housing facilities ban smoking for these same reasons.    Since the facilities in question are partially or totally funded by public monies, I see no reason why they should not be regulated by the government.  It would help decrease additional maintenance due to smoke & fire damage.  Additionally it could decrease additional government monies spent on health insurance/medical costs due to 1st & 2nd-hand smoke.  I agree that smoking in all forms should be banned from public housing! Edward R. Herber 600 N. Van Buren St. Apt.# 224 Bay City, M I 48708 RE: Instituting Smoke-Free Public Housing Dept. of HUD, January 13, 2016 I am giving you notice that I protest this possible proposal banning smoking in public housing. Whether I smoke or not, that is not the issue at hand. Following are the reasons I protest this proposal: 1) It is an infringement of the peoples civil liberties. Our Constitution Says; Life, \"Liberty\" and the pursuit of Happiness. 2) Tyranny-The abuse of Government 3) Discrimination -To discriminate against tenants who do smoke is in violation of our Constitution. I do propose that the President of this great country of ours not be allowed to smoke in the White House. The White House belongs to the people of this country. What about the tenants who are wheelchair bound. Is government to tell them they cannot smoke in their own house? That is clearly discrimination. Edward R. Herber 1  '"
      ]
     },
     "execution_count": 30,
     "metadata": {},
     "output_type": "execute_result"
    }
   ],
   "source": [
    "mashed_comments[0]"
   ]
  },
  {
   "cell_type": "code",
   "execution_count": null,
   "metadata": {
    "collapsed": true
   },
   "outputs": [],
   "source": [
    "# TESTING NEW THINGS TESTING NEW THINGS TESTING NEW THINGS TESTING NEW THINGS\n",
    "# def top_words(model, num_clusters, comments, tfidf_vec, n_top_words):\n",
    "#     feature_names = tfidf_vec.get_feature_names()\n",
    "#     comment_vf = extended_vocabulary_frame(comments)\n",
    "#     order_centroids = model.cluster_centers_.argsort()[:, ::-1] \n",
    "#     top_words = []\n",
    "#     for i in range(num_clusters):\n",
    "#         temp_top_words = []\n",
    "#         for j in order_centroids[i, :n_top_words]:\n",
    "#             temp_top_words.append(feature_names[j])\n",
    "#         top_words.append(temp_top_words)\n",
    "#     return top_words\n",
    "\n",
    "# def cluster_comments(document, num_clusters):\n",
    "#     cluster_dict = {}\n",
    "\n",
    "#     comments = process_document(document)\n",
    "#     tfidf_matrix, tfidf_vec = vectorize_comments(comments)\n",
    "    \n",
    "#     km = KMeans(n_clusters=num_clusters)\n",
    "#     km.fit(tfidf_matrix)\n",
    "#     clusters = km.labels_.tolist()\n",
    "    \n",
    "#     # FOR TESTING\n",
    "#     return km, tfidf_vec, comments"
   ]
  },
  {
   "cell_type": "code",
   "execution_count": 6,
   "metadata": {
    "collapsed": false
   },
   "outputs": [
    {
     "data": {
      "text/plain": [
       "8"
      ]
     },
     "execution_count": 6,
     "metadata": {},
     "output_type": "execute_result"
    }
   ],
   "source": [
    "cluster_num"
   ]
  },
  {
   "cell_type": "code",
   "execution_count": 7,
   "metadata": {
    "collapsed": false
   },
   "outputs": [],
   "source": [
    "km, tfidf_vec, comments = cluster_comments(document, cluster_num)"
   ]
  },
  {
   "cell_type": "code",
   "execution_count": 8,
   "metadata": {
    "collapsed": false
   },
   "outputs": [
    {
     "ename": "AttributeError",
     "evalue": "'str' object has no attribute 'get_feature_names'",
     "output_type": "error",
     "traceback": [
      "\u001b[0;31m---------------------------------------------------------------------------\u001b[0m",
      "\u001b[0;31mAttributeError\u001b[0m                            Traceback (most recent call last)",
      "\u001b[0;32m<ipython-input-8-3eec241e7e00>\u001b[0m in \u001b[0;36m<module>\u001b[0;34m()\u001b[0m\n\u001b[0;32m----> 1\u001b[0;31m \u001b[0mTEST\u001b[0m \u001b[0;34m=\u001b[0m \u001b[0mtop_words\u001b[0m\u001b[0;34m(\u001b[0m\u001b[0mkm\u001b[0m\u001b[0;34m,\u001b[0m \u001b[0mcluster_num\u001b[0m\u001b[0;34m,\u001b[0m \u001b[0mcomments\u001b[0m\u001b[0;34m,\u001b[0m \u001b[0mtfidf_vec\u001b[0m\u001b[0;34m,\u001b[0m \u001b[0;36m6\u001b[0m\u001b[0;34m)\u001b[0m\u001b[0;34m\u001b[0m\u001b[0m\n\u001b[0m",
      "\u001b[0;32m<ipython-input-3-21da04a8400f>\u001b[0m in \u001b[0;36mtop_words\u001b[0;34m(model, num_clusters, comments, tfidf_vec, n_top_words)\u001b[0m\n\u001b[1;32m     50\u001b[0m \u001b[0;31m# http://scikit-learn.org/stable/auto_examples/text/document_clustering.html#sphx-glr-auto-examples-text-document-clustering-py\u001b[0m\u001b[0;34m\u001b[0m\u001b[0;34m\u001b[0m\u001b[0m\n\u001b[1;32m     51\u001b[0m \u001b[0;32mdef\u001b[0m \u001b[0mtop_words\u001b[0m\u001b[0;34m(\u001b[0m\u001b[0mmodel\u001b[0m\u001b[0;34m,\u001b[0m \u001b[0mnum_clusters\u001b[0m\u001b[0;34m,\u001b[0m \u001b[0mcomments\u001b[0m\u001b[0;34m,\u001b[0m \u001b[0mtfidf_vec\u001b[0m\u001b[0;34m,\u001b[0m \u001b[0mn_top_words\u001b[0m\u001b[0;34m)\u001b[0m\u001b[0;34m:\u001b[0m\u001b[0;34m\u001b[0m\u001b[0m\n\u001b[0;32m---> 52\u001b[0;31m     \u001b[0mfeature_names\u001b[0m \u001b[0;34m=\u001b[0m \u001b[0mtfidf_vec\u001b[0m\u001b[0;34m.\u001b[0m\u001b[0mget_feature_names\u001b[0m\u001b[0;34m(\u001b[0m\u001b[0;34m)\u001b[0m\u001b[0;34m\u001b[0m\u001b[0m\n\u001b[0m\u001b[1;32m     53\u001b[0m     \u001b[0morder_centroids\u001b[0m \u001b[0;34m=\u001b[0m \u001b[0mmodel\u001b[0m\u001b[0;34m.\u001b[0m\u001b[0mcluster_centers_\u001b[0m\u001b[0;34m.\u001b[0m\u001b[0margsort\u001b[0m\u001b[0;34m(\u001b[0m\u001b[0;34m)\u001b[0m\u001b[0;34m[\u001b[0m\u001b[0;34m:\u001b[0m\u001b[0;34m,\u001b[0m \u001b[0;34m:\u001b[0m\u001b[0;34m:\u001b[0m\u001b[0;34m-\u001b[0m\u001b[0;36m1\u001b[0m\u001b[0;34m]\u001b[0m\u001b[0;34m\u001b[0m\u001b[0m\n\u001b[1;32m     54\u001b[0m     \u001b[0mtop_words\u001b[0m \u001b[0;34m=\u001b[0m \u001b[0;34m[\u001b[0m\u001b[0;34m]\u001b[0m\u001b[0;34m\u001b[0m\u001b[0m\n",
      "\u001b[0;31mAttributeError\u001b[0m: 'str' object has no attribute 'get_feature_names'"
     ]
    }
   ],
   "source": [
    "TEST = top_words(km, cluster_num, comments, tfidf_vec, 6)"
   ]
  },
  {
   "cell_type": "code",
   "execution_count": 42,
   "metadata": {
    "collapsed": false
   },
   "outputs": [
    {
     "name": "stdout",
     "output_type": "stream",
     "text": [
      "['smoke', 'health', 'tobacco', 'housing', 'secondhand', 'public']\n",
      "['smoke', \"n't\", 'people', \"'s\", 'smoking', 'apartment']\n",
      "['policy', 'housing', 'smoking', 'smoke-free', 'residents', 'smoke']\n",
      "['free', 'smoke free', 'smoke', 'housing', 'public', 'public housing']\n",
      "['s', 'government', 'smoking', 'smoker', 'e', 'proposal']\n",
      "['smoke-free', 'housing', 'public', 'public housing', 'smoke-free public housing', 'smoke-free public']\n",
      "['smoking', 'ban', 'housing', 'public', 'public housing', 'health']\n",
      "['rule', 'housing', 'proposed rule', 'proposed', 'public', 'hud']\n",
      "['smoke', 'hand', 'second hand', 'hand smoke', 'second', 'second hand smoke']\n"
     ]
    }
   ],
   "source": [
    "for i in TEST:\n",
    "    print(i)"
   ]
  },
  {
   "cell_type": "code",
   "execution_count": 37,
   "metadata": {
    "collapsed": false
   },
   "outputs": [
    {
     "data": {
      "text/plain": [
       "{\"'s\": 0,\n",
       " '5597-p-02': 1,\n",
       " 'able': 2,\n",
       " 'additional': 3,\n",
       " 'agencies': 4,\n",
       " 'air': 5,\n",
       " 'allow': 6,\n",
       " 'allowed': 7,\n",
       " 'american': 8,\n",
       " 'apartment': 9,\n",
       " 'apartments': 10,\n",
       " 'area': 11,\n",
       " 'areas': 12,\n",
       " 'asthma': 13,\n",
       " 'authorities': 14,\n",
       " 'authority': 15,\n",
       " 'ban': 16,\n",
       " 'based': 17,\n",
       " 'believe': 18,\n",
       " 'benefits': 19,\n",
       " 'building': 20,\n",
       " 'buildings': 21,\n",
       " 'ca': 22,\n",
       " 'cancer': 23,\n",
       " 'cause': 24,\n",
       " 'cessation': 25,\n",
       " 'children': 26,\n",
       " 'cigarette': 27,\n",
       " 'cigarettes': 28,\n",
       " 'clean': 29,\n",
       " 'comment': 30,\n",
       " 'comments': 31,\n",
       " 'common': 32,\n",
       " 'community': 33,\n",
       " 'concern': 34,\n",
       " 'control': 35,\n",
       " 'cost': 36,\n",
       " 'costs': 37,\n",
       " 'counsel': 38,\n",
       " 'create': 39,\n",
       " 'current': 40,\n",
       " 'dc': 41,\n",
       " 'department': 42,\n",
       " 'department housing': 43,\n",
       " 'department housing urban': 44,\n",
       " 'department housing urban development': 45,\n",
       " 'development': 46,\n",
       " 'disease': 47,\n",
       " 'division': 48,\n",
       " 'docket': 49,\n",
       " 'docket fr': 50,\n",
       " 'does': 51,\n",
       " 'e': 52,\n",
       " 'effects': 53,\n",
       " 'elderly': 54,\n",
       " 'electronic': 55,\n",
       " 'encourage': 56,\n",
       " 'enforcement': 57,\n",
       " 'environment': 58,\n",
       " 'especially': 59,\n",
       " 'exposed': 60,\n",
       " 'exposure': 61,\n",
       " 'exposure secondhand': 62,\n",
       " 'families': 63,\n",
       " 'family': 64,\n",
       " 'federal': 65,\n",
       " 'feel': 66,\n",
       " 'feet': 67,\n",
       " 'fr': 68,\n",
       " 'fr 5597-p-02': 69,\n",
       " 'free': 70,\n",
       " 'free public': 71,\n",
       " 'free public housing': 72,\n",
       " 'general': 73,\n",
       " 'going': 74,\n",
       " 'government': 75,\n",
       " 'hand': 76,\n",
       " 'hand smoke': 77,\n",
       " 'harmful': 78,\n",
       " 'having': 79,\n",
       " 'health': 80,\n",
       " 'healthy': 81,\n",
       " 'heart': 82,\n",
       " 'help': 83,\n",
       " 'high': 84,\n",
       " 'home': 85,\n",
       " 'homes': 86,\n",
       " 'housing': 87,\n",
       " 'housing authorities': 88,\n",
       " 'housing authority': 89,\n",
       " 'housing residents': 90,\n",
       " 'housing urban': 91,\n",
       " 'housing urban development': 92,\n",
       " 'hud': 93,\n",
       " \"hud 's\": 94,\n",
       " 'impact': 95,\n",
       " 'implement': 96,\n",
       " 'implementation': 97,\n",
       " 'implemented': 98,\n",
       " 'implementing': 99,\n",
       " 'important': 100,\n",
       " 'improve': 101,\n",
       " 'include': 102,\n",
       " 'including': 103,\n",
       " 'income': 104,\n",
       " 'individual': 105,\n",
       " 'individuals': 106,\n",
       " 'indoor': 107,\n",
       " 'inside': 108,\n",
       " 'instituting': 109,\n",
       " 'instituting smoke-free': 110,\n",
       " 'instituting smoke-free public': 111,\n",
       " 'instituting smoke-free public housing': 112,\n",
       " 'issue': 113,\n",
       " 'issues': 114,\n",
       " 'january': 115,\n",
       " 'just': 116,\n",
       " 'know': 117,\n",
       " 'law': 118,\n",
       " 'legal': 119,\n",
       " 'level': 120,\n",
       " 'life': 121,\n",
       " 'like': 122,\n",
       " 'live': 123,\n",
       " 'lives': 124,\n",
       " 'living': 125,\n",
       " 'local': 126,\n",
       " 'long': 127,\n",
       " 'low': 128,\n",
       " 'lung': 129,\n",
       " 'make': 130,\n",
       " 'making': 131,\n",
       " \"n't\": 132,\n",
       " 'national': 133,\n",
       " 'need': 134,\n",
       " 'new': 135,\n",
       " 'nicotine': 136,\n",
       " 'number': 137,\n",
       " 'office': 138,\n",
       " 'opportunity': 139,\n",
       " 'outside': 140,\n",
       " 'people': 141,\n",
       " 'person': 142,\n",
       " 'pha': 143,\n",
       " 'phas': 144,\n",
       " 'place': 145,\n",
       " 'policies': 146,\n",
       " 'policy': 147,\n",
       " 'potential': 148,\n",
       " 'prevention': 149,\n",
       " 'problems': 150,\n",
       " 'products': 151,\n",
       " 'properties': 152,\n",
       " 'property': 153,\n",
       " 'proposal': 154,\n",
       " 'proposed': 155,\n",
       " 'proposed rule': 156,\n",
       " 'protect': 157,\n",
       " 'provide': 158,\n",
       " 'public': 159,\n",
       " 'public health': 160,\n",
       " 'public housing': 161,\n",
       " 'public housing residents': 162,\n",
       " 'quality': 163,\n",
       " 'quit': 164,\n",
       " 'reduce': 165,\n",
       " 'regarding': 166,\n",
       " 'regulations': 167,\n",
       " 'related': 168,\n",
       " 'report': 169,\n",
       " 'require': 170,\n",
       " 'research': 171,\n",
       " 'resident': 172,\n",
       " 'residents': 173,\n",
       " 'resources': 174,\n",
       " 'result': 175,\n",
       " 'right': 176,\n",
       " 'rights': 177,\n",
       " 'risk': 178,\n",
       " 'risks': 179,\n",
       " 'room': 180,\n",
       " 'rule': 181,\n",
       " 'rules': 182,\n",
       " 's': 183,\n",
       " 'safe': 184,\n",
       " 'safety': 185,\n",
       " 'second': 186,\n",
       " 'second hand': 187,\n",
       " 'second hand smoke': 188,\n",
       " 'secondhand': 189,\n",
       " 'secondhand smoke': 190,\n",
       " 'services': 191,\n",
       " 'sincerely': 192,\n",
       " 'smoke': 193,\n",
       " 'smoke exposure': 194,\n",
       " 'smoke free': 195,\n",
       " 'smoke-free': 196,\n",
       " 'smoke-free public': 197,\n",
       " 'smoke-free public housing': 198,\n",
       " 'smoker': 199,\n",
       " 'smokers': 200,\n",
       " 'smoking': 201,\n",
       " 'smoking public': 202,\n",
       " 'staff': 203,\n",
       " 'state': 204,\n",
       " 'states': 205,\n",
       " 'street': 206,\n",
       " 'strongly': 207,\n",
       " 'support': 208,\n",
       " 'systems': 209,\n",
       " 'tenants': 210,\n",
       " 'thank': 211,\n",
       " 'think': 212,\n",
       " 'time': 213,\n",
       " 'tobacco': 214,\n",
       " 'tobacco products': 215,\n",
       " 'tobacco smoke': 216,\n",
       " 'tobacco use': 217,\n",
       " 'u.s.': 218,\n",
       " 'unit': 219,\n",
       " 'units': 220,\n",
       " 'urban': 221,\n",
       " 'urban development': 222,\n",
       " 'use': 223,\n",
       " 'want': 224,\n",
       " 'washington': 225,\n",
       " 'washington dc': 226,\n",
       " 'way': 227,\n",
       " 'work': 228,\n",
       " 'year': 229,\n",
       " 'years': 230}"
      ]
     },
     "execution_count": 37,
     "metadata": {},
     "output_type": "execute_result"
    }
   ],
   "source": [
    "tfidf_vec.vocabulary_"
   ]
  },
  {
   "cell_type": "markdown",
   "metadata": {},
   "source": [
    "### END TESTING"
   ]
  },
  {
   "cell_type": "code",
   "execution_count": 46,
   "metadata": {
    "collapsed": false
   },
   "outputs": [
    {
     "name": "stdout",
     "output_type": "stream",
     "text": [
      "Warning: parsing empty text\n",
      "Warning: parsing empty text\n",
      "Warning: parsing empty text\n",
      "Warning: parsing empty text\n",
      "Warning: parsing empty text\n",
      "Warning: parsing empty text\n",
      "Warning: parsing empty text\n",
      "Warning: parsing empty text\n",
      "Warning: parsing empty text\n",
      "Warning: parsing empty text\n",
      "Warning: parsing empty text\n",
      "Warning: parsing empty text\n",
      "Warning: parsing empty text\n"
     ]
    }
   ],
   "source": [
    "n = get_cluster_count(document)"
   ]
  },
  {
   "cell_type": "code",
   "execution_count": 47,
   "metadata": {
    "collapsed": false
   },
   "outputs": [],
   "source": [
    "test = cluster_comments(document, n)"
   ]
  },
  {
   "cell_type": "code",
   "execution_count": 48,
   "metadata": {
    "collapsed": false
   },
   "outputs": [
    {
     "data": {
      "text/plain": [
       "dict_keys(['central_comments', 'all_comments', 'top_words'])"
      ]
     },
     "execution_count": 48,
     "metadata": {},
     "output_type": "execute_result"
    }
   ],
   "source": [
    "test.keys()"
   ]
  },
  {
   "cell_type": "code",
   "execution_count": 49,
   "metadata": {
    "collapsed": false
   },
   "outputs": [
    {
     "data": {
      "text/plain": [
       "9"
      ]
     },
     "execution_count": 49,
     "metadata": {},
     "output_type": "execute_result"
    }
   ],
   "source": [
    "len(test['central_comments'])"
   ]
  },
  {
   "cell_type": "code",
   "execution_count": 51,
   "metadata": {
    "collapsed": false
   },
   "outputs": [
    {
     "name": "stdout",
     "output_type": "stream",
     "text": [
      "    RE: Proposed Rule by HUD, Docket No. FR 5597-P-02, Instituting Smoke-Free Public Housing       I oppose this rule.  All of the reasons for being against this can already be found in all the other comments that object to it and with which I agree.  So I'll only point out two things that might not have been covered yet.     1)  In April 2014 the Hawaii Public Housing Authority (HPHA) rescinded the same kind of ban in its own properties that it had instituted in February 2013 because HPHA determined that \"it needed a law to be passed before it can make such drastic changes.\"  In other words, this kind of action could not be taken by an agency and must go through the state legislature and voted on by lawmakers.       If Hawaii understood this to be the case then what has made the bans in public housing, imposed by local Authorities scattered around the country, legitimate?  Now as importantly, how can HUD's (an agency) rule be lawful?     (see http://khon2.com/2014/04/25/state-halts-no-smoking-plan-at-public-housing/)        2) Looking at previous HUD Notice H 2012-22, \"Further Encouragement for O/As [Owner and Management Agents] to Adopt Optional Smoke-Free Housing Policies,\" under Section V (\"Requirements for Implementing Smoke-Free Housing Policies\"), it states:    \"The O/A must NOT [emphasis HUD's] have policies that:      1. Deny occupancy to any individual who smokes or to any individual who does not smoke who is otherwise eligible for admission.  2. Allow the O/A to ask at the time of application or move-in whether the applicant or any members of the applicants household smoke.\"     In other words, only no smokING, not no smokERS.     And yet HUD's own actions have been/will be responsible for inspiring just that.       Another's submitted public comment on the current proposed rule (ID: HUD-2015-0101-0405 -- \"the Executive Director of a small Public Housing Commission\") includes this statement:     \"I question all new applicants as to whether or not they smoke. If they say yes, we do not rent to them.\"      HUD's fingerprints will be over this kind of illegal discrimination that is sure to take place as we see it already does.     (See http://portal.hud.gov/hudportal/documents/huddoc?id=12-22hsgn.pdf - HUD Notice H 2012-22 and  http://www.regulations.gov/#!documentDetail;D=HUD-2015-0101-0405 - Public Comment)                                               \"\n",
      "\n",
      "\n",
      "\n",
      "\n",
      "\n",
      "\n",
      "\n",
      "\n",
      "\n",
      "\n",
      "\n",
      "                                https://www.facebook.com/groups/WP4HE/                           January 15, 2016       Office of the Assistant Secretary for  Public and Indian Housing   U.S. Department of Housing and Urban Development     RE: Docket Number FR 5597 - P - 02   Instituting Smoke - Free Public Housing     To Whom  It   May Concern:     On behalf of the Westlawn Partnership for a Healthier Environment, I am pleased to pr ovide a  letter of support for the proposed rule to require all Public Housing Authorities to implement  smoke - free policies (HUD Docket No. FR 5597 - P - 02).     The Westlawn Partnership for a Healthier Environment  is a group of community stakeholders  that   has met on a regular basis since 2008 to identify, prioritize, and address environmental  health concerns in the Westlawn community.  Located in northwest Milwaukee, Westlawn is   - subsidized housing development.     Milwauke e County ranks as the worst county in the State of Wisconsin for asthma - related  hospitalizations and emergency department visits.  Moreover, specific to  the  Westlawn   community , the rate of hospitalizations for asthma among children is nearly twice that of  Mi l w aukee County, and the rate of asthma - related emergency department visits is 1.5 times  higher in this community compared to the rest of the county.  Thus, smoke - free housing could  help to   reduce asthma triggers, improve indoor air quality ,   and   improve health outcomes   for  children and families in Westlawn and beyond.       Thank  you for proposing this important rule     it  has the potential to reduce health care costs,  save lives, and improve the quality of life for so many Americans.     Sincerely,        Anne Dressel, PhD, CFPH   Project Director   Westlawn Partnership for a Healthier Environment   Email:  banda@uwm.edu   Phone: (414) 229 - 3995   \n",
      "\n",
      "\n",
      "\n",
      "\n",
      "\n",
      "    Thank you for your concern for my health... I have been a smoker for 40 years, I wish I could quit. If your a non-smoker I'm sure this is hard for you to understand. I am a recovering drug and Alcohol addict. 6 years clean. It seemed easier to stop these addictions than it is for me to quit smoking cigarettes. I have tried over and over to quit...                                                          I'm securing that I live alone and I am in a single family dwelling, (not around children or others that could harm anyone but myself.) I'm diligent about keeping my home clean and well kept. I have never lived anywhere that I did not receive my deposit back from the landlords. I hope when you make a decision on this matter (Smoking in HUD dwellings) that you keep all this in mind) I am a Mental Health recipient that  smoking  cigarettes keeps me calm,Its  legal and for me to have to get up and leave my home and walk down the street could not help me or my mental state. I don't want to break your rules and be left out on the street , homeless .. It would put more burden on the system and the taxpayer in my opinion . I'm disabled major depression, PTSD, Highly anxious and have a hard time going outside in public. I'm not trying to start trouble. Your panel should be aware that in the long run this might not be in the best interest of all your recipients in this matter. I want to thank you for your time... God Bless. Valerie Bishop\n",
      "\n",
      "\n",
      "\n",
      "\n",
      "\n",
      "    This pretty well destroys the Myth of second hand smoke:    Lungs from pack-a-day smokers safe for transplant, study finds.  By JoNel Aleccia, Staff Writer, NBC News.  Using lung transplants from heavy smokers may sound like a cruel joke, but a new study finds that organs taken from people who puffed a pack a day for more than 20 years are likely safe.  What's more, the analysis of lung transplant data from the U.S. between 2005 and 2011 confirms what transplant experts say they already know: For some patients on a crowded organ waiting list, lungs from smokers are better than none.  \"I think people are grateful just to have a shot at getting lungs,\" said Dr. Sharven Taghavi, a cardiovascular surgical resident at Temple University Hospital in Philadelphia, who led the new study...........................  Ive done the math here and this is how it works out with second ahnd smoke and people inhaling it!  The 16 cities study conducted by the U.S. DEPT OF ENERGY and later by Oakridge National laboratories discovered:  Cigarette smoke, bartenders annual exposure to smoke rises, at most, to the equivalent of 6 cigarettes/year.  146,000 CIGARETTES SMOKED IN 20 YEARS AT 1 PACK A DAY.  A bartender would have to work in second hand smoke for 2433 years to get an equivalent dose.  Then the average non-smoker in a ventilated restaurant for an hour would have to go back and forth each day for 119,000 years to get an equivalent 20 years of smoking a pack a day! Pretty well impossible ehh!  .\n",
      "\n",
      "\n",
      "\n",
      "\n",
      "\n",
      "        January 19, 2016       The Regulations Division, Office of General Counsel   Department of Housing and Urban Development   451 7 th   Street SW, Room 10276   Washington DC 20410 - 0001   Submitted electronically via   www.regulations.gov         Subject :    Comments on the Proposed Rule Instituting Smoke - Free Public  Housing   Docket No. FR 5597 - P - 02       To whom it may concern :     This letter offers the following comments for consideration in response to  the U.S.   the Department )  solicitation of  comments for the proposed rule Instituting Smoke - Free Public Housing, Docket Number  FR 5597 - P - 02.    Specifically, these comments will address  the third question   posed in the  solicitation notice as well as provide general comments about the potential  effects of this  proposed rule .     Question 3:   Does this proposed rule create burdens, costs, or confer   benefits specific to  families, children, persons with disabilities, owners, or the elderly, particularly if any  individual or family is evicted as a result of this policy?     This is a well - intended public policy that  manages to place   added burden and restr ictions  squarely,  exclusively ,   and with bias  on the shoulders of public housing  participants .   Renters in the private  market , including Section 8 Housing Choice Voucher and Low  Income Tax Credit participants ,  escape the constraints of this policy     even if they are  residing at the same property  and  in the same building .   I n Oakland there are  close to  175,000 units of housing of which public housing r epresents less than 1 percent   of the       A ll  173,600 other apartment units   will co ntinue to allow smoking.    are   75   percent  African   American and  52   percent  of  the households  are  headed by a person that is  either senior or disabled .    T his policy  will   have  negative ,   perhaps  unintended ,   impacts  that   lead to disparate treatment of  these  and other protected  groups .  N amely result ing   in evictions and homelessness among  families  in   the public housing program as a result of a family member being unable to  cease smoking, or  a family member (teenager)  start ing to smoke during their tenancy ,   even if the head of household does not approve .         I mplementation of   this rule on a national level is impossible .    We believe that it would be     v iolations of this rule .   Oakland , like many jurisdictions, has a  J ust  C ause  Ordinance   which details the  lawful  reasons an eviction may be   filed   by an owner , and smoking  tobacco inside a unit is not one of them .     It   is unclear what, if any ,   enforcement power  Oakland Housing Authority   Proposed Rule Instituting Smoke Free Public Housing   Page  2   of  2       OHA or agencies with  similar local  ordinances   would have to impose a   smoke free  policy /law .     This policy is simply unenforceable by th e Housing Authorities and their  management teams tasked with implementing it.     OHA serves over 16,000 households, but  only  1 , 600 public housing   households.   OHA  works   daily  to better   serve  all our families, and is perpetually seeking resources needed  to  fund the operational deficit of the public housing program.  We are a lso  actively  engaged in provide opportunities for all our families, including   their education,  employment and health needs.  We share HUDs intent to create a physical world for our  famili es that is healthier, particularly for our children .   However, we question that  the  rule  will   effect positive change in the health outcomes of our public housing families, and  it  will have no impact on the health outcomes of the over 14,400 we house in oth er  programs .  What it   does accomplish is a dding the responsibility of administering  unenforceable policies that will have a negative impact on  a discrete number of our   families .         OHA  wholeheartedly supports encouraging its residents to practice healthy   habits   and  clearly understands the public health challenges smoking poses ,  but  singling out public  housing  families,   and making them subject to   strict,   and arguably paternalistic rules ,   unfairly imposes restrictions on  them merely because of their addre ss .  OHA  recommends   this program   rule, if enacted,   become voluntary .  We further re c o m mend   that any restrictions to smoking in multifamily properties in this country should impact  everyone equally, and not discriminate against those who are in affordable properties or  a specific affordable housing program .       Thank you for the opportunity to pr ovide  comments   on this notice .       Sincerely,     /s/     Eric Johnson   Executive Director       \n",
      "\n",
      "\n",
      "\n",
      "\n",
      "\n",
      "     I am writing to express our strongest support for the proposed rule regulating lit tobacco products in public housing agencies across the country.  Secondhand smoke affects not only the smoker and their fellow apartment residents; secondhand smoke can drift throughout apartment complexes through vents and doorways and affect neighbors, employees, and even strangers on the street.  Second- and third-hand smoke also affects the safety and economics of multi-unit housing complexes as well.  The use of lit-tobacco products inside multi-unit housing buildings becomes a safety hazard when residents become careless with their items. In Pittsburgh, the Allegheny County Housing Authority has experienced three significant fires in the last twelve years that they can attribute to cigarette smoking.  Unfortunately, one of these fires resulted in a loss of life.  Since then, they have been working with Tobacco Free Allegheny to create smoke-free buildings across all of their properties.  Nationally, smoking accounted for 12.9% of fatal residential building fires in 2013 and 6.6% of fires that resulted in injury.   I chair the American Heart Association's Reduce Smoking Committee with the goal of bringing Pennsylvania from 11% to 50% in the next 3 years for clean air.  AHA supports this proposed rule and encourages all public housing agencies to continue their work to create a safe and healthy environment for their tenants.  \n",
      "\n",
      "\n",
      "\n",
      "\n",
      "\n",
      "    - 3341   www.mainehousingcoalition.org   MEMBERS     ABG Consulting, Gray   Alden Torch Financial, Sherman Oaks, CA   Androscoggin Bank   Anew Develop ment LLC, Portland   Archetype Architects, Portland   Associated General Contractors of Maine   Auburn Housing Authority   Augusta Housing Authority   Avesta Housing, Portland   Bangor Area Homeless Shelter   Bangor Housing   Bangor Savings Bank   Bank of America   Bath Housi ng   Bath Savings Institution   Beacon Communities LLC, Boston, MA   Becker Structural Engineers, Portland   Benchmark Construction, Westbrook   Bernstein Shur, Portland   Biddeford Savings Bank   Boston Capital   Bowman Constructors, Newport   Brunswick Housing Authority   B uilding Envelope Specialists, South Portland   Camden National Bank   CEI, Wiscasset   City of Portland Department of Housing   Clark Insurance, Portland   C.M. Cimino Realty Inc., Westbrook   CohnReznick LLP, New York, NY   Community Concepts, South Paris   Community Dev elopment Services, Yarmouth   Community Housing of Maine, Portland   Cranberry Isles Realty Trust   Credere Associates, Westbrook   Criterium Engineers, Portland   Curtis Thaxter, Portland   CWS Architects, Portland   Developers Collaborative, Portland   Development Servi ces of New England, Freeport   DrummondWoodsum, Portland   Eaton Peabody Consulting Group, Augusta   EBW Associates, Edgecomb   Fort Fairfield Residential Development Corp.   Four Directions Development Corporation, Orono   Freeport Housing Trust   Ganneston Constructio n, Augusta   Gauche & Rosenthal, Portland   Gawron Turgeon Architects, Scarborough   Genesis Community Loan Fund, Brunswick   Gorham Savings Bank   Great Falls Construction, Gorham   GrowSmart Maine   Habitat for Humanity of Greater Portland   Hancock Lumber, Casco   Health y Androscoggin, Lewiston   Homeless Voices for Justice, Portland   Housing Foundation, Orono   Housing Initiatives of New England, Portland   Housing Partnership, Portsmouth, NH   Island Institute, Rockland   Islesboro Affordable Property   John Anton, Consultant, Portl and   Kennebec Savings Bank   Kennebec Valley Community Action, Waterville   KeyBank   Landry/French Construction, Scarborough   LeadingAge Maine & New Hampshire   MacDonald Associates, Bath   Maine Community Action Association   Maine Department of Health & Human Service s   Maine Real Estate Managers Association   Maine Workforce Housing LLC, Portland   Mano en Mano, Milbridge   Murray Plumb & Murray, Portland   National Housing Conference, Washington, D.C.   NBT Bank, Portland   Neighborhood Housing League, Lewiston      Inc., Bangor   North Haven Sustainable Housing   Northern NE Housing Investment Fund, Portland   Norway Savings Bank   Old Town Housing Authority   Opportunity Alliance, South Portland   Otis Atwell CPAs, South Portland   PDT Architects, Portland   Peaks Island Home Star t   Penquis, Bangor      Planning Decisions, Hallowell   Portland Builders   Portland Housing Authority   Preble Street, Portland   Raise - Op Housing Cooperative, Lewiston   Richard Curtis & Associates, Portland   Roy & Associates CPAs, Bangor   Rural LISC,   Portland   Sea Coast Management Company, Topsham   Shalom House, Portland   Smoke - Free Housing Coalition of Maine   South Portland Housing Authority   Sparhawk Group, Yarmouth   Sunrise Opportunities, Machias   TD Bank   Tedford Housing, Brunswick   The Caleb Foundation, S wampscott, MA   The Park Danforth, Portland   Thornton Tomasetti, Portland   Total Construction Management, Winterport   TPD Construction Co., Sanford   United Way of Greater Portland   Veterans Inc., Worcester, MA   Volunteers of America of Northern NE   Walsh Engineerin g Associates, Portland   Westbrook Housing Authority   Western ME Community Action, E. Wilton   Wishcamper Companies, Portland   Wright - Ryan Construction, Portland   Yarmouth Senior Housing   Year - Round Housing Corp., Long Island   York County Community Action, Sanford   York County Shelter Programs, Alfred   York Housing   Zachau Construction, Freeport         MAINE AFFORDABLE HOUSING COALITION       December 3 , 2015       Regulations Division   Office of General Counsel   Department of Housing & Urban D evelopment   451 Seventh Street SW, Room 10276   Washington, D.C.  20410 - 0500     Re: Docket No. FR 5597 - P - 02  /  Instituting Smoke - Free Public Housing     Dear General Counsel:      to ban smoki ng in public housing. MAHC is a diverse coalition of 120+ developers,  public housing authorities, contractors, design/engineering professionals, investors,  housing and service providers, advocates and others working to increase the supply  of quality afford able housing throughout Maine.       Maine has been a leader in creating smoke - free housing; it was the first state in the  country to ban smoking in all of its public housing and we are well into our second  decade of expanding and refining smoke - free policies   in different types of housing.   Maine Housing now requires all new Low Income Housing Tax Credit units to be  smoke - free.     We encourage you to consider expanding the definition of products covered by the   -    as they may emit nicotine,  propylene glycol, carcinogens, and other harmful substances. In fact, Maine has  adopted a ban on use of e - cigarettes in indoor public places where other tobacco  products are already banned. When adopting the final rule, we hope  that you will  clarify that housing authorities may adopt campus - wide smoking bans as a more  stringent alternative  to the   proposed standards.        HUD is to be congratulated for this effort as a logical extension of green and  healthy homes initiatives that w ill help create healthier living environments for  public housing residents.     Sincerely,       Greg Payne, Director                     \n",
      "\n",
      "\n",
      "\n",
      "\n",
      "\n",
      "                                                                                                                               January  19,  2016   The Honorable Juli á n Castro   Secretary   Department of Housing and Urban Development   451 Seventh Street SW   Washington, DC   20410   Re:   Instituting Smoke - Free Public Housing; Docket No. FR 5597 - P - 02 RIN 2577 - AC97     Dear Secretary Castro:   As  health  organizations dedicated to reducing the death and  disease caused by tobacco use and  exposure to secondhand smoke, we appreciate this opportunity   to comment on the proposed rule  published in the  Federal Register   on November 17, 2015 (Docket No. FR - 5597 - P - 02) on instituting   that   will  greatly improve the he alth of public housing residents. The publication of the proposed rule represents  a major step forward in protecting the  millions of Americans who currently live in federally - owned  public housing from the harms of tobacco.    We urge   the   Department of Housin g and Urban  Development   ( HUD )   to adopt a final rule implementing this measure as soon as possible.   At the same time, our organizations believe the proposed rule could and should  also include  electronic  nicotine delivery systems (ENDS)   and  waterpipe   tobacco   (hookah)   in restricted areas .  Our organizations  also believe that the rule should apply to all government - subsidized housing rather than just all  government - owned housing.  Our comments will expand on   these recommendations   below.     2     Our organizations  want   to make clear:  the only way to protect everyone from the dangers of  secondhand smoke is to make the smokefree policies mandatory and make them apply to everyone.   W hile voluntary smokefree policies have been effective   in   allowing   HUD to determine best pr actices for  smokefree policy implementation, voluntary smokefree policies are not sufficient to protect everyone  from secondhand smoke.   policies that delay implementation beyond the  18   month period or allow case - by - case decisions that  would allow some smokers to still smoke indoors.  A  mandatory policy  that applies to everyone from the  beginning of the policy  is  the  only   way   to ensure everyone can breathe clean, safe air in their homes   and  achieve health benefits .     Secondhand Smoke Exposure Poses   Serious Health Threats to Children and Adults   Secondhand smoke (SHS) contains many poisons and cancer - causing chemicals, including nicotine,  carbon monoxide, ammonia, formaldehyde, hydrogen cyanide, nitrogen oxides, phenol, sulfur dioxide,  lead,  and others. 1   Twenty years ago, in 1992, the U . S .   Environ mental Protection Agency classified SHS as  a Class A known human carcinogen. 2   As such, SHS poses health concerns for all individuals, particularly  children and pregnant women.   The reports of direct health effects of SHS exposure are numerous and growing in   number. The most  comprehensive report of these effects is the 2006 U . S .    The Health  Consequences of Involuntary Exposure to Tobacco Smoke . 3   The report details how even small amounts of  exposure can have serious health effects   and  concludes  that there is no safe level of exposure to  SHS .  SHS can   cause or exacerbate a wide range of adverse health effects, including lung cancer, heart disease,  stroke,  respiratory infections,  sudden infant death syndrome (SIDS)   and asthma. 4   The evidenc e supporting the association of SHS exposure of children with respiratory illnesses is strong.  Increased rates of lower respiratory illness, middle - ear infections, tonsillectomy and adenoidectomy,  cough, asthma and asthma exacerbations, hospitalizations, a nd  SIDS   have been reported. 5   It has been  estimated that SHS exposure causes asthma symptoms in 200,000 to one million children. 6   One study  indicated that children with asthma who were exposed to SHS had additional co - morbid conditions  including higher leve ls of obesity  compared with unexposed children. 7   The scope of these illnesses is  huge: SHS exposure exacerbates many chronic diseases. Children with sickle cell disease who are  exposed to SHS have a higher risk of crises that require hospita lization than do unexposed children. 8   Finally, in addition to the  exacerbating  chronic conditions, SHS is immediately life - threatening, especially  among vulnerable populations such as infants. In one year alone, SHS exposure  is estimated to have  resulted i n the   death of 900 infants. 9   Another effect of SHS exposure is increased school absenteeism. Analysis of data from the National  Health Interview Survey (NHIS) indicated that 24 to 36   percent   of school absenteeism was related to SHS  exposure in children age s 6 to 11. The study also showed that the number of days that a child was  absent from school predictably increased with the number of active smokers in the household. 10   Even  very low levels of SHS exposure, such as  those  seen in a child with a parent who sm okes only outside, 11   have been associated with decreases in reading and math scores. 12   In addition to SHS exposure for developing children and adolescents, prenatal exposure to SHS has been  associated with   low birthweight, prematurity 13 , and   future susceptibility to nicotine addiction  as well as  significant adverse events in childhood development. One of the significant consequences of prenatal  3     tobacco exposure is sensitization of the fetal brain to nicotine, which results in increased likeli hood of  addiction when the brain is exposed to nicotine at a later age. Studies of rodents 14   and primates 15 , 16   that  were exposed prenatally to tobacco have demonstrated subtle brain changes that persist into  adolescence and are associated with tobacco use, ni cotine addiction, and reduced cognitive function. 17   Population - based human studies have demonstrated associations between prenatal tobacco exposure  and early tobacco experimentation 18   as well as increased likelihood of tobacco use  in adolescence  and  adult hoo d . 19   In addition, further research has indicated adverse developmental effects on infants,  children, and adolescents including lessened perceptual skills, deficits in information processing, and a  significantly higher likelihood of being diagnosed with atte ntion deficit hyperactivity disorder (ADHD). 20   Children and the elderly represent a disproportionate ly large   share of fire victims, and smoking  materials are the most common ignition source of fatal residential fires. 21   It has been estimated that  smoking cau ses approximately 30 percent of US fire deaths overall, and that smoking - material fires  accounted for nearly 20   percent   of the 90,000 home structure fire deaths in 2011 according to National  Fire Protection Association data. 22   However, the rate of fire deat hs has decreased as smoking has  decreased, although part of the reduction has been attributed to modifications to cigarette - ignition  resistance in mattresses and upholstered furniture. 23   Residents of  Public   Housing are  Involuntarily  Exposed to Secondhand Sm oke   SHS   is clearly a significant public health hazard, and maintaining a smokefree home is a wise decision to   step  alone is not sufficient to prevent all  exposure to SHS   for residents of multi - unit b uildings . Tobacco smoke does not stay confined within a  single room nor does it stay confined within a single unit in multi - family apartment buildings. Ventilation  systems can distribute SHS throughout a building. 24   SHS can seep through walls and cracks. 25     D ata clearly demonstrate that the residents of smokefree units in multi - family buildings without  smokefree air policies are not safe from tobacco smoke exposure. A Boston - based study published in  2009 measured levels of nicotine, an indicator of SHS exposu re, in 49 low - income units in multi - unit  buildings. Overall, 94 percent of units had detectable nicotine levels, including 89 percent of units where  no one smoked in the home. 26     A 2011 nationally representative study, conducted through the Social Climate S urvey, found that among  individuals who lived in multi - family housing where no one smokes inside the home, 31 percent smelled  smoke in their building. Of these respondents that reported smelling smoke in their building,  approximately half (49 percent) repo rted smelling smoke in their own units, 38 percent reported  smelling smoke in their unit at least once per week, and 12 percent reported smelling smoke in their  unit at least once per day. 27   This nationally representative study confirms the results of sever al state -   and community - level studies measuring prevalence of smoke incursions into smokefree units. 28   This  trend is echoed in a 2012 study that indicated that  although  63 million of the 79 million Americans  who  live in multi - unit housing do not allow smoki ng in their homes approximately 28 million of those  reported secondhand smoke infiltration in their home. 29     Studies published in 2011 and 2012 confirmed that children who live in multi - unit   housing have  significantly higher exposure to  SHS   than those who l ive in detached housing, and that 15 million  children aged 3 - 11 years were exposed to  SHS , representing the highest prevalence of SHS exposure  among all age groups. The studies, using data from the National Health and Nutrition Examination  4     Survey (NHANES),   showed that levels of cotinine, a chemical marker of nicotine in the blood, among  children living in multi - unit   housing were significantly higher   than those of chil dren living in detached  housing ;   and that SHS prevalence  compared with adults  was  second - highest among adolescents aged 12  to 19, only superseded by young children. 30 , 31   Prevention of Secondhand Smoke Exposure  Requires   Smokefree Policies   The above evidence clearly demonstrates that residents of multi - family housing are exposed to  SHS   even   if they live in a unit where no one smokes. Therefore, the only way to fully protect children and  adults who live in multi - family housing from secondhand exposure is to implement building - wide  smokefree air policies. In 2007, the World Health Organization   (WHO) presented its clear conclusion that     percent   smokefree environments [is] the only effective strategy to reduce exposure  to tobacco smoke to safe levels in indoor environments and to provide an acceptable level of protection  from the   dangers of  SHS    32   The organization reaffirmed its recommendation in 2014 and  called for a  prohibition  on the use of  ENDS   indoors due to the risks presented by secondhand exposure  to the devices. 33     Partial smokefree policies,  such as  those that pr ohibit smoking in common areas  such as  hallways, will  not protect all residents from SHS. The 2011 Social Climate Survey showed that multi - unit residents in  buildings with the strongest smokefree air policies were the least likely to report smelling smoke.   The  data also showed that policies that only prohibited smoking in common spaces  and not individual  units  did little to prevent residents from smelling smoke. 34   Research  published in  the  American Journal  of Public  Health   has further  shown   that  SHS   exposure   for nonsmokers persist s   despite separating  smokers from nonsmokers within housing, indicating that partial smokefree policies are not effective in  protecting nonsmokers from harm. 35     Experts in building ventilation agree that keeping  individual   unit s   smoke free is  not  sufficient  to   remov e   health risks.  The American Soc iety of Heating, Refrigerating and   Air - Conditioning Engineers (ASHRAE)   explained in a policy statement   that the only means of effectively eliminating  the  health risk s   associated  with indoor exposure  to  SHS   is to make the   entire indoor area   smokefree. 36   Recent research by public  health professionals has reinforced the fact that scrubbing and ventilating the air in buildings, cannot  completely eliminate exposure SHS and  t he  other harmful substances associated with it. 37     HUD Must Adopt a Nation wide   Smokefree Policy    Our organizations commend the Department of Housing and Urban Development (HUD) for its efforts  over the last several  years  to protect the health of residents of federally assisted housing by encouraging  broader adoption of smokefree policies in public housing. In 2009, HUD first encouraged public housing  agencies (PHAs) to adopt smokefree policies, and in 2010, HUD extended th is recommendation to  owners and management agents of  other  federally assisted housing   programs such as the Housing  Choice Voucher program   (also known as   S ection 8 housing ) . A short time  after   for voluntary adoption of smokefree policie s, HUD partnered with the American Academy of Pediatrics,  the American Lung Association, and the Department of Health and Human Services to publish smokefree  housing toolkits   for   both residents and managers of federally assisted housing , which were intende d to  help   in the implementation   of  smokefree policies. Most recently, in 2014, HUD released further  guidance for PHAs and owners of subsidized housing on   implementing successful   voluntary smokefree  policies in their units.    5     To date, over 600 PHAs have succ essfully implemented smokefree policies in some or all units.  None of  these PHAs  have chosen to reverse smokefree policies after  implementation .  Th ese are   important  indication s   that smokefree policies are achievable   and have widespread acceptability after  they are put  in place . However, the current voluntary approach leaves many residents, including 775,000 children,  unprotected from the dangers of tobacco smoke in their own homes. Our organizations strongly support   using smokefree because the only way to protect all residents  of public housing is to adopt a nationwide smokefree policy.   All people, regardless of income, should be able to enjoy healthy housing, free of  SHS   and  other  dangerous conditions.  As private, hi gher - rent, market - rate buildings increasing ly   go smokefree, it is  important that our poorest and most vulnerable citizens not be left out. T he existing lack of smokefree  air policies   in public housing   disproportionately impacts lower - income families  who cannot move due  to   economic, health or other reasons.   Higher - income individuals are better able to relocate their families  to remove them from an unhealthy environment.  Public housing residents are   more   likely to be  member s of vulnerable populations: 3 8   percent   are children, 31   percent   are seniors, 30   percent   are  disabled, a nd 89   percent    38   Further, many residents in multi - family public housing are renters from low - income populations and are more likely to be ra cial or ethnic  minorities, disproportionately exposing these populations to the dangers of SHS exposure. 39   The 2011  Social Climate Survey showed that multi - family housing residents were more likely to smell smoke in  their building if they received governmen t subsidies for their housing. 40   Clearly, the status quo  discriminates against vulnerable populations.   M ulti - unit housing residents consistently report that they desire smokefree air policies.  A   majority of  residents want smokefree air policies implemented  where they live. 41   One study examined the 2012  voluntary implementation of a smokefree policy by the Boston Housing Authority in its housing,  indicating that a year after implementation 91   percent   knew of  the policy prohibiting smoking indoors   and 82   percen t   were strongly supportive of such a policy in their building. 42     While our organizations believe the health and other benefits of making public housing smokefree are  overwhelming, it is likely HUD will receive some comments  opposing  smokefree housing.   One  argument     While  it may be legal to some in some places, it is subject to restrictions on the time and place of  smoking in order to protect the rights o f non - smokers.    Many jurisdictions in the United States have  placed restrictions on where smoking is permitted to protect the health of nonsmokers, and these  restrictions have been almost universally upheld in court cases.    U.S. law supports many restrict ions on the conduct of individuals that affects their neighbors, including  prohibitions on nuisances such as excessive noise levels. Smokefree air policies in buildings do not  prohibit residents from smoking altogether; they only prohibit residents from sm oking in locations that  can cause harm to their neighbors. People who smoke could still be allowed to smoke in outdoor  locations away from the building that would not pose harm to others. Building - wide smokefree air  policies, therefore, do not infringe on  any protected liberties or freedoms afforded to a person who  smokes. Rather, such policies protect the right of all the children and nonsmokers who reside in shared  indoor environments. 43   Smokefree air policies also have collateral benefits for building man agers as nonsmoking units are  significantly less expensive to turn over than smoking units when a tenant moves out. Because turnover  6     costs are two to seven times higher in homes when smoking is allowed, smokefree policies in public  housing can result in mi llions of dollars in savings to PHAs and property managers annually. 44 , 45   Because  the risk of fire is   also   reduced when smokefree air policies are implemented, some insurance companies  offer discounts on property casualty insurance. 46   Reductions in SHS will a lso lead to lower costs to  society, both from decreased health care costs and improved productivity. Smokefree policies may also  encourage existing smokers to quit.   As with any worthwhile public health innovation, there will undoubtedly be implementation c hallenges.  However, as HUD points out, hundreds of PHAs have already implemented smokefree air policies and  found that these challenges are anything but insurmountable. We urge HUD to closely analyze the  comments received in this docket in order to fully u nderstand how these obstacles have been  successfully addressed and overcome in many communities around the nation. We believe that many  commonly cited objections to smokefree air policies  such as a concern that  such measures  will  increase undesirable loite ring outside buildings  have not  posed  significant  problems  when a policy is  actually implemented.   Enforcement has been raised as a particular challenge, with some arguing that smokefree air policies  will result in  increased evictions.  Displacement and/or e viction of residents is an important issue that  can have health and other unintended consequences for residents.   Our organizations have seen that  proper implementation using resources developed by HUD, as well as consistent and uniform  enforcement can pre vent almost all of these challenges.  In addition,  smokefree policy violations should  be treated like any other housing policy violation , e.g.   restrictions on noise levels   and should be  addressed, enforced and respected in the same manner and consistency as   any other housing provision.   Eviction is often a means of last resort for any lease violation and  public housing officials whose  properties have gone smokefree share th at evictions are very rare.     Some have also argued that smokefree policies discriminat e against disabled individuals who may be  less able to smoke outside. In fact,  however,  smoking inside buildings discriminates against the greater  majority of nonsmoking disabled individuals because they cannot escape tobacco smoke infiltrating their  own a partments.  Smoking is not a basic human need and therefore does not require reasonable  accommodation under the Americans with Disabilities Act.    Nicotine addiction can be addressed using  available, safe,  Food and Drug Administration (FDA)   - approved options   to help smokers quit . These  five  forms of nicotine  replacement therapy  are  available as gum, patch, lozenge, nasal spray, and inhaler   as  well as two non - nicotine medications,  b uproprion and  v arenicline .  Research has shown that with  assistance, smokers can   quit.  Studies have also shown that at least 70 percent of smokers say they want  to quit and over half have made a quit attempt in the past year. 47 , 48    We recognize that some smokers,  especially those with behavioral health or substance abuse issues, may ne ed specially tailored cessation  treatments  that specifically address these issues. In many circumstances those tailored treatments can  be accommodated by working with local health departments and partner organizations .   Overall, the  rights of the disabled  population, including disabled children , veterans,   and those with respiratory  disabilities, are best protected by smokefree building policies that ensure a safe environment for all  residents. 49      Responses to Specific Questions   1.   What barriers that PHAs could   encounter in implementing smokefree housing? What costs could  PHAs incur? Are there any specific costs to enforcing such a policy?   7     Our organizations recognize the greatest challenges to and barriers with implementation are  significantly reduced when there is sufficient lead time before a smokefree policy takes effect.   This time  allows staff to be trained and residents to be empowered  to participate in the rollout and  implementation of the policy.   Resident involvement from the beginning leads to greater buy - in and with  that buy - in comes greater compliance.   Examples of such involvement can include:       Educat ing   staff about why smokefree po  how smokefree policies will lead to reduced fire hazards and how maintenance   costs for units  are   reduced and  turn - over  costs are lower for non - smoking units.       C onduct ing, if resources permit,   a pre -   a nd post - implementation air quality study to detect  SHS   levels in common and non - smoking units.        Conduct ing   resident surveys (please see Appendix A) and focus groups to inform the  development of the smokefree policy.        Schedul ing   multiple meetings with resid ents 2 - 3 months before the policy will go into effect to  share results from the survey, educate residents about the dangers of  SHS , and announce  and/or provide resources for residents who want to quit smoking.      Provid ing   sufficient notification, including l ease addendums and signage, making the policy  known and clear.      Allow ing   residents to help decide where the outside gathering spot for smokers will be.   A kick - off event for residents to celebrate the start of the new smokefree policy has also been a  success ful tactic used by PHAs that have already gone smokefree.      Barriers and less successful implementation are more common when there has been a lack of ad vance   communication with and education of residents.   In a 2010 survey of all public housing authorities  in  Minnesota, conducted by  the Public and Indian Housing   Minneapolis Field Office, the Office of Healthy  Homes and Lead Hazard Control and the American Lung Association of the Upper Midwest,  respondents  were   asked about ob stacles to implementing a smoke fre e policy .   C ompliance and enforcement  were  the  top   obstacle s named   (30%) followed by accommodating current smokers (19%) and losing occupants  (17%). 50     While our organizations urge that everything be done  to help smokers quit, our organizations recognize  the   importance of accommodating those smokers who may not be initially successful.  Previous PHAs  have found that creating  a covered gathering space for smokers or  providing  ashtrays   to be a very  worthwhile expenditure.   Other costs associated with implementin g a smokefree policy mainly relate to  informing residents of the policy, including securing signatures on lease addendums, printing fliers and  purchasing smokefree signs.   However,  as previously mentioned,  smokefree policies will ultimately save  PHAs money   through lower operating and turnover costs for smokefree  units   as opposed to housing  that has been partially or never smokefree .   A 2012 study found that operating costs were lower for  smokefree housing than partially or never smokefree housing properties. 51     As stated above, our organizations strongly recommend HUD include the prohibition of  ENDS  and  waterpipe   tobacco (hookah)   in the final smokefree policy.   Exempting ENDS and hookah  may  make  effective  enforcement   of smokefree policies more difficult.  For ex ample, the  Duluth, Minnesota housing  authority, which allowed e - cigarette use after otherwise going smokefree, reported that when their staff  smelled cigarette smoke, they would knock on the door and residents told them they were using  ENDS . 52     8     Several  early   smokefree policies  were not   comprehensive and did not address smoking on balconies,  patios or by entrances, which also caused implementation challenges.   Our organizations support the  HUD proposal, which addresses both of these issues and protects ten ant health and safety.       As with any policy, staff time will be required for training and communication.   PHAs that have already  gone smokefree have found that staff time associated with enforcement is minimal and similar to the  enforcement of noise and oth er nuisance complaints.     2.   Does this proposed rule adequately address the adverse effects of smoking and secondhand smoke  on PHAs and PHA residents?   In general, for the reasons described above, this proposal  effectively addresses  the adverse effects of  smoki ng and  SHS . However, the proposal could better address these adverse effects by: (1) ensuring  that the policy applies to all federally supported housing, including privately owned housing, (2)  extending  the policy to playgrounds, (3) extending the policy t o   e lectronic nicotine delivery systems  (ENDS), and (4) extending the policy to  waterpipe tobacco ( hookah ) . Each of these issues is discussed in  more detail below.   3.   Does this proposed rule create burdens, costs, or confer benefits specific to families, child ren, persons  with disabilities, owners, or the elderly, particularly if any individual or family is evicted as a result of  this policy?   The U.S. Surgeon General has found there is no safe level of exposure to  SHS . 53   Making all PHAs  smokefree   will lead to an increased quality of life and increased health for every PHA resident, staff  member and visitor.   Residents with health conditions including asthma, chronic obstructive pulmonary  disease (COPD) and heart disease, will see significant health   improvements once they are no longer  exposed to  SHS , which can exacerbate their diseases.     Youth, children and infants will also significantly  benefit.  SHS   exposure among infants and children causes ear infections, asthma attacks, lung infections  includin g bronchitis and pneumonia and causes an increased risk of sudden infant death syndrome  (SIDS). 54 , 55 , 56     The benefits of PHAs becoming smokefree will be realized by individuals and families who face  significant disadvantages. According to the Department of Ho using and Urban Development, 45 percent  of PHA residents are African American (compared to 13.2% of the general population), 37 percent are  children (compared to 23.1% of the general population) and 95 percent are low to extremely low  income.   57   Protecting  these vulnerable populations from the dangers of  SHS   is likely to have a dramatic  impact   and proper implementation will go a long way in addressing the unintended consequences     including eviction and displacement     associated with this policy .       The regul atory impact analysis discusses but does not inc l ude the benefits to smokers who will quit as a  result of the new smokefree policy.  Approximately 70 percent of smokers want to quit smoking, and  adoption of this smokefree policy increases the likelihood th at smokers will quit smoking.  58 Smokers  who successful ly   quit can dramatically improve the quality and length of their lives.     Another financial benefit not properly accounted for in the re gulatory impact assessment   is reduction in  lost productivity costs  attributed to asthma.    absenteeism and when children miss school, their parents miss work. 59    As a result, asthma has a  tremendous economic toll  --   $3.8 billion annually     caused by lost productivity re sulting f rom missed  9     school and work days. 60    In addition to the reduction in healthcare costs that come from a decreased  number of asthma exacerbations, improving the health of individuals with asthma living in public  housing will also reduce the number of  school and work days missed.     The Centers for Disease Control and Prevention  (CDC)  estimates that cost - savings for renovation costs  will total almost $43 million each year. 61   The smokefree policy will have significant benefits for owners,  who may also expe rience reduced fire insurance costs, as well as residents.    The policy would  also significantly reduce risk for both human and property losses caused by fires.   According to the U.S. Fire Administration, smoking is the leading cause of fatal fires in reside ntial  structures. 62   In the proposed rule, it is estimated there will be a $32 million annual cost savings as the  result of the reduction of fires in PHAs     10 times greater than the regulatory impact analysis estimate of  compliance by PHAs for this regulati on.       Residents who smoke and have mobility issues may have greater challenges with repeat trips outside to  smoke and meet a new smokefree policy that requires smokefree balconies and patios, as well as a 25  foot smokefree zone.   While it is imperative that   smokefree laws be adopted to protect the public    health , some PHAs have worked in advance  with residents who smoke  to relocate them to units closer  to exits or to elevators.   This underscores the need to help all residents, especially those who may have  these physical challenges, with cessation treatments.   A Rhode Island PHA found when it went smokefree  that onsite smoking cessation counseling sessions     either group or one - on - one     were especially  important for and utilized by the elderly and disabled. 63   Evictions must be the very last resort to smokefree policy violations.   As with any other lease violations,  there should be multi - step consequence procedures for infractions.   Smokefree PHAs found that regular  dialogue and direct engagement with smokers, inc luding providing tips on how to comply with the  policy, can lead to success.   Lake County, Illinois Housing Authority begin its smokefree policy in 2008  and while there  were   some documented violations of the policy, there have been no evictions. 64    Duluth,  M innesota      which fully implemented its smokefree policy in 2010     only had one eviction related to its  smokefree policy and PHA officials said that violating the smokefree policy was not the only violation   65   4.   For t hose PHAs that have already implemented a smoke - free policy, what exceptions to the  requirements have been granted based on tenants' requests?   The policy proposed by HUD is to make PHAs smokefree in order to protect all residents, especially  children and o ther vulnerable residents, from the proven dangers of  SHS . Our organizations oppose   a  provision will lead to  enforcement challenges but more importantly, will continue to expos e residents to the dangers of  SHS .   For example, the Duluth,  Minnesota   PHA   not   fundamentally change the nature    of the program or policy. 66   Any exceptions or allowances for  certain tenants to continue to smoke in their units would fundamentally change the nature of the  smokefree policy, which is meant to protect everyone from the dangers of  SHS .   It would also reduce the  savings from maintenanc e costs and increase fire risk relative to a completely smokefree policy.     Instead, as outlined previously, our organizations suggest that building staff work with residents with  physical challenges or mental illnesses who smoke to ens ure they understand t he policy.   Staff might  10     instead relocate smokers so they are closer to elevators or exits to make  outdoor access   easier on  residents.   Further, staff may work with residents who refuse to comply with new smokefree policies to  allow them to move without incur ring expenses related to breaking their lease.    units.   In Duluth, MN, the PHA phased in smokefree policies across a series of buildings, and the last two  were phased in after a year. In addition to the  SHS   exposure continuing for residents in the final two  buildings, a fatal fire occurred in one of the two remaining buildings that allowed smoking indoors.     5.   For those PHAs that have already implemented a smok e - free policy, what experiences, lessons, or  advice would you share based on your experiences with implementing and enforcing the policy?   Our organizations fundamentally recognize the importance of clearly articulating that smokefree polic ies   are   about protecting everyone from  SHS   and not about smokers . Residents must understand that  while  they do not have to quit smoking to live in the building,  they must help maintain a smokefree  environment within the smokefree perimeter established around the b uilding, including inside the  structure .   While our organizations strongly encourage PHAs to partner with local departments of health,  hospitals, community health centers and nonprofit organizations to assist residents who want to quit  smoking, the emphasis   must be on protecting everyone from the dangers of  SHS .     PHAs that have already implemented such policies found that communication and education  were  key  to success.   They also found that a long lead time  was  important to allow for sufficient communication   and education. In some cases, education of staff and residents began more than a year in advance of the  smokefree implementation date so that residents had time to get the help they needed to make a  successful quit attempt. An implementation plan with a l ong lead time also allows for resident surveys  to be conducted,  for sufficient  notice  for residents  about the impending change,  for  staff and resident  education sessions, for signage to be created and for cessation services to be arranged for residents.    B asic education about the dangers of  SHS   and how smoke can migrate between units is necessary. While  many staff and residents may understand that exposure to  SHS   is not healthy, they may not fully  understand how dangerous it is and how it infiltrates betwee n units in multi - unit housing. Officials in  Rhode Island found that most residents wanted to be good neighbors but did not realize that smoke  travelled into nearby units. Another housing authority official found it helpful to ask residents if they  could sm  SHS   travels  similarly.     Other suggestions from smokefree PHAs and our organizations that worked with them include:      Work ing   with tenants to determine whether a designated outside smoking area is appropriate  and if so, where it should be.       Ensur ing   addendums for smokefree policies are included in the lease that outline violations and  consequences.       Document ing   each infraction o f the smokefree policy so that a  record   of all communications  with residents  is  created     including efforts to assist tenants in addition to enforcement.        Listen ing    ing   them ample lead - in time to adjust to the new policy  but a lso enforce it.    11        Help ing   staff and residents understand how smokefree policies will benefit both them and their  neighbors     from the health benefits to the cost savings associated with maintenance and  reduction in fire dangers.          Provid ing   resources to smo kers who want to quit smoking to ensure they have help doing so.  PHAs that are already smokefree have noted that offering cessation assistance  before   the policy  takes effect is critical.       Our organizations also understand and have seen that the vast major ity of tenants are happy with  smokefree policies after they are implemented.   This mirrors satisfaction with smokefree regulations put  in place in other environments including bars , restaurants, and workplaces.   6.   For those PHAs that have already implemented a   smoke - free policy, what tobacco cessation services  were offered to residents to assist with the change? Did you establish partnerships with external  groups to provide or refer residents to these services?   Anecdotal reports from many PHAs that have already   implemented a smokefree policy found that  providing  smoking cessation  services well in advance of the implementation date helps smokers prepare  for implementation and reduce policy violations. In addition, providing quit smoking resources for a  period  after implementation helps smokers who are having trouble quitting and can even show goodwill  on the part of the PHA.       Many of the PHAs that are already smokefree have referred residents to state Quitlines for services.  Some quitlines provide free nicotin e replacement therapy to callers in addition to providing counseling  services. 67   The U.S. Public Health Service has found that combining FDA - approved quit smoking  therapies with counseling services are the most effective for successful quit attempts. 68   Many  PHAs have found it helpful to partner with local public health groups and/or hospitals. The  American Lung Association has worked with PHAs to provide cessation resources via door hangers   and   resident education sessions, tied quitting with promotions such a  American Smokeout, and provided fliers and quit kits for distribution.   In a number of instances, a local  hospital provided group counseling to residents. Rhode Island PHA officials found that onsite cessation  counselin g sessions were most important for elderly and disabled residents, whereas other residents  may find Quitline or text messaging to be more accessible. 69     Recognizing the significant overlap between PHA residents and Medicaid recipients, state Medicaid  progra ms also have the opportunity to increase access to quit smoking benefits including medications  and counseling. According to the American Lung Association, only three state Medicaid programs cover  a comprehensive quit smoking benefit and another 27 states c over all seven FDA - approved medications .  Virtually a l l states still have significant barriers that make it harder for smokers to access that benefit. 70   Partnerships between PHAs, health departments and Medicaid staff can increase access to coverage and  serv ices that will ultimately help residents quit smoking.    Other partnerships might include federally qualified health centers and local health departments that  can also assist smokers in getting the help they need to quit.  We strongly recommend that HUD  cont inue to provide resources and best practices for PHAs to link their residents who smoke to the  cessation services available.    12     7.   Are there specific areas of support that HUD could provide PHAs that would be particularly helpful in  the implementation of the pr oposed rule?   Representatives from many of our organizations who have worked with PHAs recommend:      Template signage, including multiple choices to allow for a variety of building layouts;       Toolkits containing sample timelines on how best to implement smokefr ee policies, education  materials for staff and residents, including sample resident surveys, lease addendums, a sample       8.   Should the policy extend to electronic nicotine delivery systems, such as   e - cigarettes?   Smokefree policies should extend to the use of electronic nicotine delivery systems (ENDS).   The  nicotine - containing liquid aerosolized by ENDS  has been found to  contain several harmful compounds,  including heavy metals and tobacco - specific n itrosamines, which  can be  carried over from the tobacco  into the liquid during the nicotine extraction process. 71 , 72   Even propylene glycol, a main ingredient of   respiratory irritation for those exposed to exhaled vapor, even in non - asthmatic patients. 73     There is insufficient research on the long - term effects of using e - cigarettes, which involves regular  inhalation of nicotine, glycerin or some other solvent, and  other additives. 74   According to the CDC, e -  75   E - cigarette aerosol  contains nicotine, which is absorbed by users and bystanders. 76   Studies have found other chemicals and  toxins  present in some e - cigarettes,  including formaldehyde, acrolein, volatile organic compounds like  toluene, tobacco - specific nitrosamines, and metals like nickel and lead. 77   These compounds are  generally present at levels much lower than in cigarette smoke, al though the compounds themselves   78   Because e - cigarettes are not yet  regulated by the FDA and are available in hundreds of different brands 79 , there is no way for consumers  to know for sure  what is in the products or the aerosol. 80   P reliminary animal model data  has shown   damage to growing lungs resulting from second - han d exposure to  ENDS  aerosols . Two studies show  developmental changes and organ effec ts in mice exposed to ENDS aero sols. 81   T he n egative health  impact of   ENDS  on   non - users, including   children ,   deserves more research.    In addition,  the manufacture of ENDS   is currently unregulated by the federal government and there is  not a  standardized method for safety testing. Recent studies have  shown that due to the extensive  variability in design and function, as well as the relative ease with which users may make modifications  to the battery, case, and heating element of these products, explosion and fire hazards have been seen  with these produ cts. 82   An October 2014 report from the U.S. Fire Administration found that improper  use of charging devices can lead to explosion and fire and that because of the shape and size of  ENDS ,   83     In  2015, the Federal Aviation   ENDS   in checked bags.  In the alert, the  FAA highlighted examples of  ENDS   that have caught fire when the heating element was activated by  accident. 84   The report and alert highlight the risk posed to housing units from  ENDS   and underscores  that from a safety perspective,  ENDS   use indoors should also be prohibited.    Lastly, use of ENDS in smoking - restricted areas would make it more difficult to enforce s mokefree  policies since use of ENDS often looks indistinguishable from cigarette smoking.      13     9.   Should the policy extend to waterpipe tobacco smoking? Does such smoking increase the risk of fire  or property damage?   Smokefree policies should extend to the use o f   waterpipe tobacco   ( hookah ) . According to the CDC ,  SHS   from hookah     which comes from both the tobacco and the charcoal typically used to heat it     poses  health risks to nonusers. 85   A study conducted in Virginia showed that air quality in waterpipe cafes  w as  worse than in restaurants that permitted cigarette smoking. It also showed that air quality in non - smoking rooms in waterpipe cafes was poor, demonstrating how  SHS   from hookah can easily travel to  adjacent spaces. 86   One study showed that the exposure   of  nicotine, tobacco - specific nitrosamines, and  cilia/cardio - toxins such as acrolein in children in the homes of daily, and even weekly or monthly,  hookah smokers was significantly higher than in children living in nonsmoking environments,  representing a seri ous threat to child health. 87   The heat source  used with hookah  also poses risks of  fire  and other property damage.   Additional  Recommendations   25 - Foot  Buffer Zone   Our organizations are supportive of the proposed  25 - foot buffer zone from entrances, exits, win dows  and ventilation  intakes of   buildings in the proposed rule , and including patios and balconies in the  policy .  This buffer zone will assist with enforcement by ensuring that  SHS   does not drift back into living  units from outside or require residents ,  staff or visitors   to walk through clouds of  SHS   around entrances  or exits from buildings.    One study that looked at  SHS   exposure outside restaurants and bars found that  exposure to  SHS   was higher than normal outdoor air levels. 88    Some early adopters of smo kefree policies  that did not include a sufficient buffer zone, or allowed smoking to continue on balconies and patios   that  SHS   still came into units when   smoking occurred on balconies, patios or outside windows.       Implementation Timeframe    of the  final regulation being released.  Experiences from the PHAs th at are already smokefree show that  an effective implementation can occur within an 18 month period.  That will allow PHAs to  educate their  staffs, empower and involve their residents in implementation, secure addendums for leases and work  with public healt h partners to ensure residents who want to  quit can get the help they need.    Our organizations also encourage  HUD to finalize this rule within six months   to ensure adequate  implementation before the end of the Administration .     Inclusion of  All   Federally S upported   Housing   The proposed rule would  only apply to public housing, but would not apply to housing units in mixed - finance developments . It would also not apply to p rivately owned, federally sub sidized multifamily  housing such  as  project - based Section 8  housing. The type of housing program a family participates in  should not dictate whether that family is protected from the harms of  SHS . We strongly urge HUD to  apply the smokefree housing rule to all types of housing that are supported by the federal gove rnment.   HUD has been a leader in protecting  children living in housing supported by programs such as Section 8  from the hazards of lead - based paint. SHS exposure has been linked to higher blood lead levels in  14     children. 89   Extending smokefree policies to Sect  efforts to protect the negative health consequences associated with lead exposure.   If HUD chooses not to require all supported housing to implement smokefree   policies, we suggest that  HUD, at a minimum, include smokefree policies in all model lease language published by the agency.   Inclusion of Playgrounds   The proposed rule specifies that PHA s   may prohibit smoking near playgrounds, but unfortunately stops  shor t of requiring that smokefree policies extend to outdoor spaces designed for use by children. We  strongly recommend that the final rule extend the smokefree policy to playgrounds outside the 25 - foot  buffer zone around buildings. It would be  a  serious missed  opportunity if this rule protects children from  SHS   in their homes but fails to protect them where they play outdoors. Therefore, we recommend that  playgrounds and other outdoor facilities intended for use by children be added to the definition of      a 25 - foot buffer zone around such  playgrounds.   Clarification on Indoor Spaces    units and interior common  areas .    We recommend that    from this paragraph in order to clarify that  smoking would be prohibited throughout the entire building. For instance, this would clarify that indoor  spaces where residents are not typically allowed, such as utility rooms and m aintenance facilities, would  also be included in the smokefree policy.   Clarification on  Ability to Prohibit All Tobacco Products    recommended expanding the proposal t o include ENDS and hookah. If HUD chooses not to extend the  policy to either ENDS or hookah, we urge HUD to specify in §965.653 that PHA s   may choose to do so  voluntarily.   Conclusion   Thank you for moving forward on this critical public health issue. We look   forward to continuing to work  with HUD to promote healthy living environments, free of exposure to  SHS , for all children and adults.  Many of our organizations also advocate for smokefree workplace laws as well as policies to ensure that  all smokers have a ccess to proven cessation services to help them quit, particularly smokers who are  newly insured, Medicaid - eligible, and uninsured.   If you have any questions, please contact James  Baumberger at the American Academy of Pediatrics (202.347.8600) or Erika Sw ard at the American Lung  Association (202.785.3355).       15     Sincerely,   Action on Smoking & Health   Alpha - 1 Foundation   American Academy of Family Physicians   American Academy of Oral and Maxillofacial     Pathology   American Academy of Otolaryngology    Head and   Neck Surgery   American Academy of Pediatrics   American Association for Respiratory Care   American Cancer Society Cancer Action    Network   American College of Osteopathic Surgeons   American Congress of Obstetricians and Gynecologists   American Heart Association    American Lung Association   American Osteopathic Academy of Orthopedics   American Public Health Association   American School Health Association   American Society of Addiction Medicine   American Thoracic Society   Association o f State & Territorial Health Officials   Campaign for Tobacco - Free Kids   Cancer Prevention and Treatment Fund   ClearWay Minnesota   Community Anti - Drug Coalitions of America   COPD Foundation   Geographic Health Equity Alliance   Green and Healthy Homes Initiative   International Association for the Study  of Lung Cancer   March of Dimes   National African American Tobacco Prevention Network   National Association of County and City Health Officials   National Hispanic Medical Association   National La tino Alliance for Health Equity   National Network of Public Health I nstitutes      North American Quitline Consortium   Oncology Nursing Society   Prevention Institute   Society for Public Health Education     16     1   US Department  of Health and Human Services.  The Health Consequences of Involuntary Exposure to Tobacco  Smoke: A Report of the Surgeon General . Atlanta, GA: US Department of Health and Human Services, Centers  for Disease Control and Prevention, Coordinating Center for He alth Promotion, National Center for Chronic  Disease Prevention and Health Promotion, Office on Smoking and Health; 2006.   2   US Environmental Protection Agency.  Respiratory Health Effects of Passive Smoking: Lung Cancer and Other  Disorders . Washington, DC: U S Environmental Protection Agency, Office of Research and Development, Office  of Air and Radiation; 1992.   3   US Department of Health and Human Services.  The Health Consequences of Involuntary Exposure to Tobacco  Smoke: A Report of the Surgeon General , 2006 .   4   US Department of Health and Human Services.  The Health Consequences of Smoking  50 Years of Progress: A  Report of the Surgeon General, 2014 .   5   US Department of Health and Human Services.  The Health Consequences of Involuntary Exposure to Tobacco  Smoke: A   Report of the Surgeon General . California Environmental Protection Agency, Air Resources Board,  Office of Environmental Health Hazard Assessment.  Proposed Identification of Environmental Tobacco Smoke  as a Toxic Air Contaminant . Sacramento, CA: California   Environmental Protection Agency; 2005.   6   California Environmental Protection Agency, Air Resources Board, Office of Environmental Health Hazard  Assessment.  Proposed Identification of Environmental Tobacco Smoke as a Toxic Air Contaminant .   7   Pyle RC et al.   Asthma - associated comorbidities in children with and without secondhand smoke exposure.  Annals  of Allergy, Asthma & Immunology . 2015;115(3):205 - 210.   8   West DC, Romano PS, Azari R, Rudominer A, Holman M, Sandhu S. Impact of environmental tobacco smoke on  c hildren with sickle cell disease.  Arch Pediatr Adolesc Med . 2003; 157(12):1197  1201.   9   Max W et al. Deaths from secondhand smoke exposure in the United States: Economic implications.  American  Journal of Public Health . 2012:102(11):2173 - 80.    10   Levy DE, JP  Winicokoff, and NA Rigotti. School absenteeism among children living with smokers.  Pediatrics .  October 2011;128(4);650 - 656.   11   Matt GE, Quintana PJ, Hovell MF, et al. Households contaminated by environmental tobacco smoke: sources of  infant exposures. Tobac co Control 2004;13(1):29 - 3.   12   Yolton K, Dietrich K, Auinger P, Lanphear BP, Hornung R. Exposure to environmental tobacco smoke and  cognitive abilities among U.S. children and adolescents.  Environ Health Perspect . 2005;113(1):98   103.   13   Winickoff JP, Klein  JD. Prevention of preterm parturition. N Engl J Med. 2014 May 8;370(19):1860.   14   Abreu - Villac¸a Y, Seidler FJ, Tate CA, Cousins MM, Slotkin TA. Prenatal nicotine exposure alters the response to  nicotine administration in adolescence: effects on cholinergic  systems during exposure and withdrawal.  Neuropsychopharmacology . 2004;29(5): 879  890. Abreu - Villac¸a Y, Seidler FJ, Slotkin TA. Does prenatal  nicotine exposure sensitize the brain to nicotine - induced neurotoxicity in adolescence?  Neuropsychopharmacology . 2 004;29(8):1440  1450. Nordberg A, Zhang XA, Fredriksson A, Eriksson P.  Neonatal nicotine exposure induces permanent changes in brain nicotinic receptors and behaviour in adult  mice.  Brain Res Dev Brain Res . 1991;63(1  2):201  207.   15   Slotkin TA, Seidler FJ, Qi ao D, et al. Effects of prenatal nicotine exposure on primate brain development and  attempted amelioration with supplemental choline or vitamin C: neurotransmitter receptors, cell signaling  and cell development biomarkers in fetal brain regions of rhesus m onkeys.  Neuropsychopharmacology .  2005;30(1):129  144.   16   Golub M, Slotkin T, Tarantal A, et al. Visual recognition memory and auditory brainstem response in infant  rhesus monkeys exposed perinatally to environmental tobacco smoke.  Brain Research . 2007;1151:1 02  106.   17   Ernst M, Moolchan ET, Robinson ML. Behavioral and neural consequences of prenatal exposure to nicotine.  J Am  Acad Child Adolesc Psychiatry . 2001;40(6):630  641. Slotkin TA, Tate CA, Cousins MM, Seidler FJ. Prenatal  nicotine exposure alters the res ponses to subsequent nicotine administration and withdrawal in adolescence:  serotonin receptors and cell signaling.  Neuropsychopharmacology . 2006;31(11):2462  2475.   18   Cornelius MD, Leech SL, Goldschmidt L, Day NL. Prenatal tobacco exposure: is it a risk fac tor for early tobacco  experimentation?  Nicotine Tob Res . 2000;2(1):45  52.   19    patterns of young adult offspring? A birth cohort study.  Tob Control . 2006;15 (6):452  457. Roberts KH,                                                                17                                                                                                                                                                                                      Munafo MR, Rodriguez D, et al. Longitudinal analysis of the effect of prenatal nicotine exposure on  subsequent smoking behavior of offspring.  Nicotine Tob Res . 2005; 7(5):801  808.   20   Cornelius MD and NL Day. Developmental consequenc es of prenatal tobacco exposure.  Curr Opin Neurol.  April  2009; 22(2):121 - 5. See also  Weitzman M, S Gortmaker, A Sobol. Maternal smoking and behavior problems of  children.  Pediatrics . Sep 1992, 90 (3) 342 - 349.   21   Barillo DJ, Goode R. Fire fatality study: dem ographics of fire victims.  Burns . 1996;22(2): 85  88. Copeland AR.  Accidental fire deaths: the 5 - year Metropolitan Dade Country experience from 1979 until 1983.  Z Rechtsmed .  1985;94(1):71  79. Squires T, Busuttil A. Can child fatalities in house fires be pre vented?  Inj Prev.   1996;2(2):  109  113. Whidden P. Deaths of children in house fires.  BMJ . 1996;312(7029):511.   22   Hall JR. The smoking - material fire problem. National Fire Protection Association. July 2013.  http://www.nfpa.org/~/media/files/research/nfpa - reports/major - causes/ossmoking.pdf?la=en .    23   Leistikow BN, Martin DC, Milano CE. Fire injuries, disasters , and costs from cigarettes and cigarette lights: a  global overview.  Prev Med . 2000;31(2 pt 1):91  99.   24   Spengler JD. Buildings operations and ETS exposure.  Environ Health Perspect . 1999; 107(suppl 2):313  317.   25     http://www.cancer.org/cancer/cancercauses/tobaccocancer/secondhand - smoke .    26   Kraev   TA et al. Indoor concentrations of nicotine in low - income, multi - unit housing: Associations with smoking  behaviours and housing characteristics.  Tob Control . 2009 Dec;18(6):438 - 44.   27   Wilson, et al. Tobacco Smoke Incursions in Multi - Unit Housing. Pediatric   Academic Societies Meeting. 29 April  2012. Boston, MA. E - PAS2012:2410.4.   28    - free policies.  Nicotine Tob  Res . 2010 Jun;12(6):598 - 605. Hennrikus, D. et al. Preferences and pra ctices among renters regarding smoking  restrictions in apartment buildings. Tob Control. 2003 June; 12(2): 189  194. Hewett MJ et al. Secondhand  Smoke in Apartment Buildings: Renter and Owner or Manager Perspectives.  Nicotine  &  Tob acco   Res earch .  2007 Jan;9  Suppl 1:S39 - 47.   29   Fallin et al. A short online community readiness survey for smoke - free policy.  Nicotine & Tobacco Research .  2012; 14(12): 1494.   30   Wilson et al. Tobacco - Smoke Exposure in Children Who Live in Multiunit Housing.  Pediatrics . 2011; 127(1): 85 - 92.   31   Homa DM et al. D isparities   o secondhand smoke - United States, 1999 - 2012.  Morbidity  and Mortality Weekly Report .   2015;64(4):103 - 108.   32   World Health Organization (WHO).  P rotection from exposur e to secondhand tobacco smoke: P oli cy  recommendations.  WHO Press .   2007 .   33   Lacobucci G. WHO calls for ban on e - cigarette use indoors.  British Medical Journal . Aug. 2014; 349:g5335.   34   Wilson, et al. Tobacco Smoke Incursions in Multi - Unit Housing. Pediatric Academic Societies Meeting.   29 April  2012. Boston, MA. E - PAS2012:2410.4.   35   Wilson KM et al .  T obacco  smoke incursions i n multiunit housing.  American Journal of Public Health . 2014  Aug;104(8):1445 - 1453.   36   American Society of Heating, Refrigerating and Air - Conditioning Engineers  Envi ronmental Toba  2010. Available at  http://www.ashrae.org/File%20Library/docLib/About%20Us/PositionDocuments/ASHRAE_PD_Environmental _Tobacco_Smoke_2010.pdf .   37   Homa DM et al. D isparities   o secondhand smoke - United States, 19 99 - 2012.  Morbidity  and Mortality Weekly Report .   2015;64(4):103 - 108.   38    http://www.healthandpublichousing.org/pdfs/Demographics%20Fact%20Sheet.pdf.   39   Second hand smoke and multi - unit housing in Gilroy: A desktop health impact assessment. Santa Clara Public  Health Department. January 2014 :  https://www.sccgov.org/sites/sccphd/en - us/Partners/Data/Documents/Tobacco/report_Secondhand_Smoke_Gilroy_jan2014.pdf .    40   Wilson, et al. Tobacco Smoke Incursions in Multi - Unit Housing. Pediatric Academic Societies Meeting. 29 April  2012. Boston, M A. E - PAS2012:2410.4.   41    - free policies.  Nicotine Tob  Res . 2010 Jun;12(6):598 - 605. Hennrikus, D. et al. Preferences and practices among renters regarding smoking  18                                                                                                                                                                                                      restrictions i n apartment buildings.  Tobacco Control . 2003 June; 12(2): 189  194. Hewett MJ et al.  Secondhand Smoke in Apartment Buildings: Renter and Owner or Manager Perspectives.  Nicotine Tob Res .  2007 Jan;9 Suppl 1:S39 - 47.   42   Rokicki    - free policy in Boston multiunit housing.  Nicotine &Tobacco Research . 2015 Oct.;1 - 8.     43   Winickoff JP, Gottlieb M, Mello MM. Regulation of smoking in pub lic housing.  NEJM.      44    -  http://www.nchh.org/Portals/0/Contents/Green%20Factsheet_Smokefree.pdf .   45   Ong MK et al. Estimates of smoking - related property  costs in california multiunit housing.  American Journal of  Public Health . March 2012; 102(3):490 - 493.   46    -  http://www.nchh.org/Portals/0/Contents/Green%20Factsheet_Smok efree.pdf .   47    2008. Available at  http://www.ahrq.gov/clinic/tobacco/treating_tobacco_use08.pdf .   48   Centers for Disease Control and Prevention. Quitting smokin g among adults     united states, 2001 - 2010.  Morbidity and Mortality Weekly Report . 11 Nov. 2011; 60(44):1513 - 45.   49   Winickoff JP, Gottlieb M, Mello MM. Regulation of smoking in public housing.  NEJM.      50   Appendix   B    51   Ong MK et al. Estimates of smoking - related property costs in california multiunit housing.  American Journal of  Public Health . March 2012; 102(3):490 - 493.   52    - Free Housing Autho  Panel Discussion,   Harvard Catalyst Population Health Research Program,   Boston, December 3, 2015.   53   U.S. Department of Health and Human Services.   The Health Consequences  of Involuntary Exposure to Tobacco  Smoke: A Report of the Surgeon General .   Atlanta: U.S. Department of Health and Human Services, Centers  for Disease Control and Prevention, Office on Smoking and Health, 2006.   54   U.S. Department of Health and Human Services .   The Health Consequences of Smoking  50 Years of Progress: A  Report of the Surgeon General .  Atlanta: U.S. Department of Health and Human Services, Centers for Disease  Control  and Prevention, Office on Smoking and Health, 2014.   55   U.S. Department of Health and Human Services.   A Report of the Surgeon General: How Tobacco Smoke Causes  Disease: What It Means to You .  Atlanta: U.S. Department of Health and Human Services, Centers for Disease  Control and Prevention, National Office on Smoking and Health, 2010.   56   U.S. Department of Health and Human Services.   The Health Consequences of Involuntary Exposure to Tobacco  Smoke: A Report of the Surgeon General .   Atlanta: U.S. Department of Health and Human Services,  Centers  for Disease Control and Prevention, Office on Smoking and Health, 2006.   57    Development of the HUD Smoke - Free Housing Initiative  Panel Discussion,   Harvard Catalyst Population Health Research Program ,   Boston, December 3, 2015.   58   Centers   for Disease Control and Prevention (CDC. \"Quitting smoking among adults -- United States, 2001 - 2010.\"  MMWR. Morbidity and mortality weekly report   60.44 (2011): 1513   59    http://www.cdc.gov/healthyschools/asthma/index.htm .  Accessed January 7, 2016.   60   Barnett SBL, Nurmagambetov TA. Costs of  asthma in the United States: 2002  2007. J Allergy Clin Immunol  2011;127:145  52.   61     tober 2014). Available at  http://www.cdc.gov/pcd/issues/2014/pdf/14_0222.pdf .     62   U.S. Fire Administration, Residential Structure and Building Fires, page 20. Available at  http://www.usfa.fe ma.gov/downloads/pdf/publications/residential_structure_and_building_fires.pdfd.   63      Smoke - Free Housing     Harvard Catalyst Population Health  Research Program,   Boston,  3  Dec .   2015.   64   Lake County   Housing Authority. Discussion,   White House Convening, Washington, January 6, 2016 .   65      Smoke -  Panel Disc ussion,   Harvard Catalyst Population Health Research Program ,   Boston, December 3, 2015.   19                                                                                                                                                                                                      66   Housing and Redevelopment Authority of Duluth, MN. Available at  http://www.duluthhousing.com/faq/ .   67   North American  Quitline Consortium. 2013. Results from the 2013 NAQC Annual Survey of Quitlines. Available at     68   US Public Health Service. Treating tobacco use and dependence: 2008 update. Clinical practice guideline.  Rockville , MD: US Department of Health and Human Services, US Public Health Service; 2008. Available at  http://www.ahrq.gov/professionals/clinicians - providers/guidelines - recommendations/tobacco/index.html .    69      Smoke - Free Housing     Harvard Catalyst Population Health Research Program,   Boston, December 3,  2015.   70   Singleterry J, Jump Z, DiGiulio A, et al. State Medicaid coverage for tobacco cessation treatments and barriers to  coverage  United States, 2014  2015. MMWR Morb Mortal Wkly Rep 2015;64:1194  9.   71   Goniewicz M., et al. Levels of se lected carcinogens and toxicants in vapor from electronic cigarettes.  Tobacco  Control . March 2013; 0:1 - 7.    72   Offermann FJ. Chemical emissions from e - cigarettes: Direct and indirect (passive) exposures.  Building and  Environment . November 2015 ;93(P1):101 - 105 .   73   Wieslander C., et al. Experimental exposure to propylene glycol mist in aviation emergency training: Acute ocular  and respiratory effects.  Occupational and Environmental Medicine . 2011; 58(10):649 - 655.   74    http://www.cdc.gov/tobacco/campaign/tips/diseases/dual - tobacco - use.html#ten .   Accessed November 19, 2015.     75    November 19, 2015.   http://www.cdc.gov/tobacco/stateandcommunity/pdfs/ends - key - facts2015.pdf     76    http://www.cdc.gov/tobacco/campaign/tips/diseases/dual - tobacco - use.html#ten .   Accessed November 19, 2015.     77    Tobacco  Control  23:ii11 - ii17, May 2014.   http://tobaccocontrol.bmj.com/content/23/suppl_2/ii11.full  carcinogens and toxicants in vapour from ele  Tobacco Control  23(2):133 - 9, March 6, 2013.    PlosOne,  8(3), March 2013. See also Williams, M,    http://www.trdrp.org /docs/Williams%20ecig%20vapor%20this%20time%20slides%202013.pdf .   78    Tobacco Control   23(2):133 -   PlosOne,  8(3), March 2013.   s in Tobacco Products and Tobacco Smoke:   http://www.fda.gov/TobaccoProducts/GuidanceComplianceRegulatoryInformation/ucm2 97786.htm .   79   Zhu, S -  - cigarettes and Counting: Implications for Product   Tobacco Control , 23(Suppl 3):iii3 - iii9, 2014,  http: //tobaccocontrol.bmj.com/content/23/suppl_3/iii3.full .    80    http://www.cdc.gov/tobacco/campaign/tips/diseases/dual - tobacco - u se.html#ten .   Accessed November 19, 2015.   81   Smith D, Aherrera A, Lopez A, Neptune E, Winickoff JP, Klein JD, et al. Adult behavior in male mice exposed to e - cigarette nicotine vapors during late prenatal and early postnatal life. PLoS ONE. 2015;10 (9):e0137953.  McGrath - Morrow SA, Hayashi M, Aherrera A, Lopez A, Malinina A, Collaco JM, Neptune E, Klein JD, Winickoff  JP, Breysse P, Lazarus P, Chen G. The effects of electronic cigarette emissions on systemic cotinine levels,  weight and postnatal lung g rowth in neonatal mice. PLoS One. 2015 Feb 23;10(2):e0118344.   82   Brown CJ and JM Cheng. Electronic cigarettes: Product characterization and design considerations.  Tobacco  Control . 2014;23(2):ii4 - ii10.   83       2015.   https://www.usfa.fema.gov/downloads/pdf/publications/electronic_cigarettes.pdf   84      http://www.faa.gov/other_visit/aviation_industry/airline_operators/airline_safety/safo/all_safos/media/201 5/SAFO15003.pdf   20                                                                                                                                                                                                      85    http://www.cdc.gov/tobacco/data_statistics/fact_sheets/tobacco_ industry/hookahs/ .   86   Cobb CO, Vansickel AR, Blank MD, Jentink K, Travers MJ, Eissenberg T. Indo or air quality in virginia waterpipe  c afés.  Tobacco Control .   24 March 2012;   doi:10.1 136/tobaccocontrol - 2011 - 050350 .   87    ondhand and thirdhand smoke carcinogens and toxicants in homes  of hookah smokers.  Nicotine & Tobacco Research . July 2014; 16(7):961 - 75.   88   St Helen G1, Bernert JT, Hall DB, Sosnoff CS, Xia Y, Balmes JR, Vena JE, Wang JS, Holland NT, Naeher LP.   Exposure  to s econdhand smoke outside of a bar and a restaurant and tobacco exposure biomarkers in  nonsmokers. Environ Health Perspect . 2012 Jul;120(7):1010 - 6   89   Apostolou A,  Garcia - Esquinas,   E,   Fadrowski,   JJ,   McLain,  P , Weaver,  VW,  Navas - Acien,   Secondhand Tobacco  Smoke: A Source of Lead Exposure in US Children and Adolescents  Am J Public Health . 2012 April; 102(4):  714  722.   Appendix A                   Source:   Portland - Vancouver Metro Area Smokefree Housing Project   Sample  Resident  Survey   |  1           Property managers/owners :  Y ou can use these questions to create your own  re sident   survey about smoking and secondhand smoke.     Healthy Air Survey   Re sidents :  Please        circle        the answer     that     best     describes     you     and    your  situation .     1.   Do   you or   anyone   else   in your household smoke cigarettes, cigars   or a pipe?   a.   Yes, regularly (daily or weekly)   b.   Yes, occasionally (less than weekly)   c.   No     If   answered    yes    to   Q u estion 1 , do   you or any   household members smoke  indoors?   a.   Yes   b.   No     2.   Which of the following stat ements best describes the rules about smoking  inside   your home?   a.   No one is allowed to smoke anywhere inside my home   b.   Smoking is allowed in some places   or at some times   c.   Smoking is permitted anywhere inside my home   Sample Resident Sur vey   Appendix A                   Source:   Portland - Vancouver Metro Area Smokefree Housing Project   Sample  Resident  Survey   |  2     Residents:  Please       circle      the answer     that     best     describes     you    and    your  situation.     If   a  Question  2 ,   why  d o    you allow smoking in your           home?  Circle all that apply .   a.   The smoke makes someone in my home sick   b.      c.   I am worried about fires   d.    my  children   to be around people smoking   e.   Other ( Please explain )  ______________________________________   ________________________________________________________     If   answered    b  c  to   Question 2, why  do   you allow smoking in your          home?  Circle all t hat apply .   a.      b.      c.      d.   Other ( Please explain )  ______________________________________   ________________________________________________________     3.   Do you  have children   or teenage minors  (0 - 17 years) living with you?   a.   Yes   b.   No     4.   Do you have elderly residents (over 65 years) living with you?   a.   Yes   b.   No   Appendix A                   Source:   Portland - Vancouver Metro Area Smokefree Housing Project   Sample  Resident  Survey   |  3     Residents:  Please       circle      the    answer     that     best     describes     you    and    your  situation.     5.   Do you ,   or someone  who lives with you, suffer from chronic illnesses such as  asthma, chronic bronchitis ,   emphysema, heart disease, diabetes,  arthritis,  cancer or are a cancer survivor?   a.   Yes   b.   No   c.   Maybe   d.        6.      a.   Yes   b.   No   c.   Maybe   d.        7.   Have you smelled tobacco smoke in your home that comes from another  unit  or from outside?   a.   Yes   b.   No   c.   Maybe      yes             home  bother you?   a.   Yes   b.   No     Appendix A                   Source:   Portland - Vancouver Metro Area Smokefree Housing Project   Sample  Resident  Survey   |  4     Residents:  Please       circ le      the    answer     that     best     describes     you    and    your  situation.        yes           management about the tobacco smoke drifting into your home?   a.   Yes   b.   No   c.   Maybe   d.   Does not apply     8.   Would you prefer to  live on a property:   a.   Where smoking  is allowed   everywhere on the property   b.   Where smoking  is allowed   in apartments, but not in indoor common  areas   c.   Where smoking  is allowed   outdoors, but not in apartments or indoor  common areas (Smokefree Building)   d.   Where smokin g  is NOT allowed   anywhere, indoors and outdoors  (Smokefree Property)     9.   If your property became non - smoking (including the units), what would you  do?   a.   I would thank my landlord !   b.   I would not be affected      c.   I would take my smoking outside   d.   I would w ant to move   e.          This is the end of the survey. Thank you for your feedback.   The No Smoking in Minnesota Public  Housing Project June 2010 Update A HUD Leadership Development Program Project Presented by:  Laura Wright To increase communication of the processes and benefits and promote  MN  Public Housing Authorities to  adopt non - smoking in multi - families  buildings as per Notice PIH 2009 - 21. The project will be a partnership  between the PIH Minneapolis Field Office, the Office of Healthy Homes  and Lead Hazard Control and the American Lung Association of the  Upper Midwest.   The team will focus on creating and distributing promotional   to non - smoking buildings.  implement policies and choosing to  provide healthy living  environments to  low - income residents.  Project Mission June 2010 Updated Data 36% 64% Minnesota PHA's Currently Has Some No Smoking Implemented Has NOT Implemented No Smoking Minnesota Laws  The Minnesota Clean Indoor Air Act took in effect 1975. The purpose of this act was  to enforce the \"protection of the public health.\" It prohibited smoking in areas  where children, ill or injured are present. This first Minnesota act also limited  smoking indoor at public places and private meetings.  On May 16, 2007, Minnesota passed the  Freedom to Breathe Act . This act protects  the public from hazardous secondhand smoke by banning smoking in public places.  The ban took effect October 1, 2007.  Minnesota is the 17th state to enforce a  statewide smoking ban. Baseline Status of PHA  Philosophy (estimated by PHA staff) 55 27 16 7 5 9 0 10 20 30 40 50 60 70 80 90 100 PHA Responses Fully Support NS Somewhat Support NS Neutral Somewhat Oppose NS Strongly Oppose NS Don't Know 26 32 15 9 17 20 0 10 20 30 40 50 60 70 80 90 100 PHA Responses Baseline Status of Resident  Opinion (estimated by PHA staff)  0 5 10 15 20 25 30 35 Obstacles Losing Occupants Losing Potential Residents Compliance/ Enforcement Legal Concern Accomodating Current Smokers How to Provide for Low-Income Smokers  0 5 10 15 20 25 Resources Tenant Materials Approved Lease Adendum Signage Connect to Other HA Access to Lawyer Q & A Disabilities Heath Info Cessation Info Survey of Tenants We developed a package and sent them to the Public Housing Authorities that  provided the information and the support and guidance that they had requested.  After providing this information, we   policies that moved towards providing healthier living environments.  Each PHA was charted on their baseline responses and other vital data to  see  what individual circumstance and influences were in place. We considered:  Current status  PHA  Philosophy  Resident Feelings  Percentage of Smokers  Multi - family Building structure Number of Smoke Free Agencies 21, 17% 101,  83% Minnesota PHA's  Baseline 2009 Currently Has No Smoking Implemented Has Zero No Smoking Implemented 44,  36% 78, 63% Minnesota PHA's      June 2010 Currently Has No Smoking Implemented Has Zero No Smoking Implemented Added 8  No   from Pipeline   May 2010 Added  6   Pipeline June  2010  Attitudes 41 12 0 10 20 30 40 50 Baseline End of Project Resisted Changing Towards a Smoke Free PHA Model WE ARE NOT SURE IF  WE WANT TO BE  SMOKE FREE ! 37 3 0 10 20 30 40 Baseline End of Project Undecide d About Moving Towards a Smoke Free Model Increase Community  Health Education  Resources 0 20 40 60 80 100 Baseline End of Project 18 38 11 33 Willing to Display Smoking Cessation Information Willing to Display 2nd Hand Smoke Information +200% +111% 36% 5% 38% 2% 10% 9% The New Climate June 2010 No Smoking In the Pipeline Committed to Progress Undecided Resistors No Response \n",
      "\n",
      "\n",
      "\n",
      "\n",
      "\n"
     ]
    }
   ],
   "source": [
    "for i in test['central_comments']:\n",
    "    print(i)\n",
    "    print('\\n\\n\\n\\n')"
   ]
  }
 ],
 "metadata": {
  "anaconda-cloud": {},
  "kernelspec": {
   "display_name": "Python [Root]",
   "language": "python",
   "name": "Python [Root]"
  },
  "language_info": {
   "codemirror_mode": {
    "name": "ipython",
    "version": 3
   },
   "file_extension": ".py",
   "mimetype": "text/x-python",
   "name": "python",
   "nbconvert_exporter": "python",
   "pygments_lexer": "ipython3",
   "version": "3.5.2"
  }
 },
 "nbformat": 4,
 "nbformat_minor": 0
}
